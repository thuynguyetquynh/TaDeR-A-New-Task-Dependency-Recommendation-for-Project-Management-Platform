{
  "nbformat": 4,
  "nbformat_minor": 0,
  "metadata": {
    "accelerator": "GPU",
    "colab": {
      "name": "Get_Fasttext_features.ipynb",
      "provenance": [],
      "collapsed_sections": [],
      "machine_shape": "hm"
    },
    "kernelspec": {
      "display_name": "Python 3",
      "name": "python3"
    }
  },
  "cells": [
    {
      "cell_type": "markdown",
      "metadata": {
        "id": "pbSuD_3JgzAk"
      },
      "source": [
        "# Library"
      ]
    },
    {
      "cell_type": "code",
      "metadata": {
        "colab": {
          "base_uri": "https://localhost:8080/"
        },
        "id": "VRiQVMhngzAm",
        "outputId": "5db52784-7384-449f-83f8-baa83fd06421"
      },
      "source": [
        "from google.colab import drive\n",
        "drive.mount('/content/drive')"
      ],
      "execution_count": null,
      "outputs": [
        {
          "output_type": "stream",
          "name": "stdout",
          "text": [
            "Drive already mounted at /content/drive; to attempt to forcibly remount, call drive.mount(\"/content/drive\", force_remount=True).\n"
          ]
        }
      ]
    },
    {
      "cell_type": "code",
      "metadata": {
        "id": "oA6TR9ongzAm",
        "colab": {
          "base_uri": "https://localhost:8080/"
        },
        "outputId": "6a5ce050-13d1-413a-9740-7a6256161785"
      },
      "source": [
        "import os\n",
        "import pandas as pd\n",
        "import numpy as np\n",
        "from tqdm import tqdm\n",
        "import networkx as nx\n",
        "import tensorflow as tf\n",
        "import matplotlib.pyplot as plt\n",
        "import datetime\n",
        "import gc\n",
        "\n",
        "import nltk\n",
        "nltk.download('punkt')\n",
        "nltk.download('wordnet')\n",
        "from nltk import word_tokenize\n",
        "\n",
        "import tensorflow as tf\n",
        "import tensorflow.keras as keras\n",
        "\n",
        "from keras.preprocessing.sequence import pad_sequences\n",
        "\n",
        "tf.random.set_seed(123)"
      ],
      "execution_count": null,
      "outputs": [
        {
          "output_type": "stream",
          "name": "stdout",
          "text": [
            "[nltk_data] Downloading package punkt to /root/nltk_data...\n",
            "[nltk_data]   Package punkt is already up-to-date!\n",
            "[nltk_data] Downloading package wordnet to /root/nltk_data...\n",
            "[nltk_data]   Package wordnet is already up-to-date!\n"
          ]
        }
      ]
    },
    {
      "cell_type": "code",
      "metadata": {
        "id": "4_pxWxxCcCJw",
        "colab": {
          "base_uri": "https://localhost:8080/"
        },
        "outputId": "d109f10c-72d8-47b0-a24e-240916a14cb0"
      },
      "source": [
        "cd /content/drive/MyDrive/AISIA/Jira recommendation/"
      ],
      "execution_count": null,
      "outputs": [
        {
          "output_type": "stream",
          "name": "stdout",
          "text": [
            "/content/drive/MyDrive/AISIA/Jira recommendation\n"
          ]
        }
      ]
    },
    {
      "cell_type": "markdown",
      "metadata": {
        "id": "MTlk8R4WfvUu"
      },
      "source": [
        "# Load dataset"
      ]
    },
    {
      "cell_type": "code",
      "metadata": {
        "id": "WUAyPH7y26Cc"
      },
      "source": [
        "def encode_graph(row):\n",
        "  new_row = []\n",
        "  for i in row:\n",
        "    if i==0:\n",
        "      new_row.append([1,0])\n",
        "    else:\n",
        "      new_row.append([0,1])\n",
        "  return new_row"
      ],
      "execution_count": null,
      "outputs": []
    },
    {
      "cell_type": "code",
      "metadata": {
        "id": "t0vt5UFbuSQ1"
      },
      "source": [
        "def load_project(project_name):\n",
        "  # Attributes\n",
        "  df = pd.read_csv('data/{}/attribute_preprocess.csv'.format(project_name))\n",
        "  df = df.fillna('')\n",
        "  # Graph\n",
        "  graph = pd.read_csv('data/{}/graph.csv'.format(project_name), delimiter=',')\n",
        "  graph = graph.apply(encode_graph)\n",
        "  graph = graph.values\n",
        "  return df, graph"
      ],
      "execution_count": null,
      "outputs": []
    },
    {
      "cell_type": "markdown",
      "metadata": {
        "id": "9k8yA8QMujWw"
      },
      "source": [
        "# fasttext"
      ]
    },
    {
      "cell_type": "code",
      "metadata": {
        "id": "voYo6gqlaSv2",
        "colab": {
          "base_uri": "https://localhost:8080/"
        },
        "outputId": "533b26de-a1e6-4e1d-9468-acff4955a736"
      },
      "source": [
        "import io\n",
        "import scipy.sparse\n",
        "def load_word_embeddings(fname):\n",
        "    vocab = []\n",
        "    with open(fname, 'r',encoding='utf-8') as file:\n",
        "      for row in tqdm(file):\n",
        "        tokens = row.split(' ')\n",
        "        vocab.append(tokens[0])\n",
        "    return vocab\n",
        "\n",
        "vocab = load_word_embeddings('embedding/crawl-300d-2M-subword.vec')"
      ],
      "execution_count": null,
      "outputs": [
        {
          "output_type": "stream",
          "name": "stderr",
          "text": [
            "2000001it [01:03, 31578.72it/s]\n"
          ]
        }
      ]
    },
    {
      "cell_type": "code",
      "metadata": {
        "id": "Dn9fwWk_fsOh"
      },
      "source": [
        "vocab = vocab[1:]"
      ],
      "execution_count": null,
      "outputs": []
    },
    {
      "cell_type": "code",
      "metadata": {
        "id": "EhhQtYDQqHRZ"
      },
      "source": [
        "matrix_1 = np.load('embedding/embedding_matrix_1.npy',allow_pickle=True)\n",
        "matrix_2 = np.load('embedding/embedding_matrix_2.npy',allow_pickle=True)"
      ],
      "execution_count": null,
      "outputs": []
    },
    {
      "cell_type": "code",
      "metadata": {
        "id": "l_94AEvOMR8I",
        "colab": {
          "base_uri": "https://localhost:8080/"
        },
        "outputId": "3c0ac206-b926-49c4-9a58-600c9556c8c9"
      },
      "source": [
        "y=np.array([np.array(xi) for xi in matrix_1[1:]])\n",
        "y.shape"
      ],
      "execution_count": null,
      "outputs": [
        {
          "output_type": "execute_result",
          "data": {
            "text/plain": [
              "(1000000, 300)"
            ]
          },
          "metadata": {},
          "execution_count": 9
        }
      ]
    },
    {
      "cell_type": "code",
      "metadata": {
        "id": "mLc7nY0UYp6D",
        "colab": {
          "base_uri": "https://localhost:8080/"
        },
        "outputId": "325fe2fa-6072-47c3-8e4d-38b03b247cdb"
      },
      "source": [
        "del matrix_1\n",
        "gc.collect()"
      ],
      "execution_count": null,
      "outputs": [
        {
          "output_type": "execute_result",
          "data": {
            "text/plain": [
              "132"
            ]
          },
          "metadata": {},
          "execution_count": 10
        }
      ]
    },
    {
      "cell_type": "code",
      "metadata": {
        "id": "0V2cXjDjS8_O",
        "colab": {
          "base_uri": "https://localhost:8080/"
        },
        "outputId": "bfe4ef67-560e-479c-bd04-a1490edd2e8c"
      },
      "source": [
        "embedding_matrix = np.concatenate([y, matrix_2])\n",
        "del y\n",
        "del matrix_2\n",
        "gc.collect()"
      ],
      "execution_count": null,
      "outputs": [
        {
          "output_type": "execute_result",
          "data": {
            "text/plain": [
              "50"
            ]
          },
          "metadata": {},
          "execution_count": 11
        }
      ]
    },
    {
      "cell_type": "code",
      "metadata": {
        "id": "qXTofqjTfxIo",
        "colab": {
          "base_uri": "https://localhost:8080/"
        },
        "outputId": "6e2b3417-2b4a-4721-9610-4feb1497300e"
      },
      "source": [
        "len(vocab), len(embedding_matrix)"
      ],
      "execution_count": null,
      "outputs": [
        {
          "output_type": "execute_result",
          "data": {
            "text/plain": [
              "(2000000, 2000000)"
            ]
          },
          "metadata": {},
          "execution_count": 12
        }
      ]
    },
    {
      "cell_type": "code",
      "metadata": {
        "id": "W6Tahvg3ESVh",
        "colab": {
          "base_uri": "https://localhost:8080/"
        },
        "outputId": "65099700-8a73-49f0-cc40-6c2f44b9fddf"
      },
      "source": [
        "## Gán các mã\n",
        "__PADDED_INDEX__ = 0    # mã dùng cho các vị trí chỉ có tính nối dài cho cùng kích thước\n",
        "__UNKNOWN_WORD__ = 1    # mã cho những từ không có trong embedding\n",
        "\n",
        "word_to_index = {word: index+2 for index, word in enumerate(vocab)}\n",
        "\n",
        "embedding_matrix = np.pad(embedding_matrix, [[2,0], [0,0]], mode='constant', constant_values =0.0)\n",
        "print(embedding_matrix)"
      ],
      "execution_count": null,
      "outputs": [
        {
          "output_type": "stream",
          "name": "stdout",
          "text": [
            "[[ 0.      0.      0.     ...  0.      0.      0.    ]\n",
            " [ 0.      0.      0.     ...  0.      0.      0.    ]\n",
            " [ 0.0062  0.01   -0.0889 ... -0.0774 -0.0524  0.0223]\n",
            " ...\n",
            " [-0.0343 -0.2229 -0.0709 ... -0.0061 -0.0516  0.0502]\n",
            " [ 0.016  -0.0109  0.0325 ... -0.0028 -0.0263 -0.016 ]\n",
            " [-0.0431 -0.1234 -0.1735 ... -0.0167  0.0134 -0.0073]]\n"
          ]
        }
      ]
    },
    {
      "cell_type": "markdown",
      "metadata": {
        "id": "Ly-enb4GP03f"
      },
      "source": [
        "# Get features"
      ]
    },
    {
      "cell_type": "code",
      "metadata": {
        "id": "HA78gq_IhZah"
      },
      "source": [
        "def fasttext_tokenizer(sentences):\n",
        "  tokenized_texts = [nltk.tokenize.word_tokenize(text) for text in sentences]\n",
        "  X = []\n",
        "  for text in tokenized_texts:\n",
        "    cur_text_indices = []\n",
        "    for word in text:\n",
        "      if word in word_to_index:\n",
        "          cur_text_indices.append(word_to_index[word])    ## map từ word sang index\n",
        "      else:\n",
        "          cur_text_indices.append(__UNKNOWN_WORD__)       ## gán unknown cho từ không có trong bộ fasttext\n",
        "    X.append(cur_text_indices)\n",
        "  return X"
      ],
      "execution_count": null,
      "outputs": []
    },
    {
      "cell_type": "code",
      "metadata": {
        "id": "0uKrgeS9HkpU"
      },
      "source": [
        "def get_textual_features(df):\n",
        "  df[\"title\"] = df[\"title\"].str.replace(\"[ ]+\", \" \", regex=True).str.strip()\n",
        "  df[\"description\"] = df[\"description\"].str.replace(\"[ ]+\", \" \", regex=True).str.strip()\n",
        "  df[\"summary\"] = df[\"summary\"].str.replace(\"[ ]+\", \" \", regex=True).str.strip()\n",
        "\n",
        "  # Extract data from dataframe\n",
        "  titles = df['title'].values\n",
        "  descriptions = df['description'].values\n",
        "  summaries = df['summary'].values\n",
        "\n",
        "  return titles, descriptions, summaries"
      ],
      "execution_count": null,
      "outputs": []
    },
    {
      "cell_type": "code",
      "metadata": {
        "id": "9J_JCdZ1hFll"
      },
      "source": [
        "def return_model(value_maxlen):\n",
        "  inputs_A = keras.Input(shape=(value_maxlen), name=\"input_a\")\n",
        "\n",
        "  embedding_layer = keras.layers.Embedding(input_dim=embedding_matrix.shape[0],   \n",
        "                 output_dim=embedding_matrix.shape[1],   \n",
        "                  embeddings_initializer = tf.keras.initializers.Constant(value=embedding_matrix),  \n",
        "                  trainable=False,                     \n",
        "                 mask_zero=True)                 \n",
        "\n",
        "  # Embedding\n",
        "  emb_A = embedding_layer(inputs_A)\n",
        "  \n",
        "  model = keras.Model(inputs=[inputs_A], outputs=emb_A)\n",
        "  model.compile(optimizer=\"Adam\", loss=\"mse\", metrics=[\"categorical_accuracy\"])\n",
        "  \n",
        "  model.summary()\n",
        "\n",
        "  return model"
      ],
      "execution_count": null,
      "outputs": []
    },
    {
      "cell_type": "markdown",
      "metadata": {
        "id": "02oiSc4QQwlA"
      },
      "source": [
        "### Start"
      ]
    },
    {
      "cell_type": "code",
      "metadata": {
        "id": "nxT9qdSmQhbi"
      },
      "source": [
        "list_project_names = [('FLUME', 1577, 5, 200, 256), ('MDLSITE', 4100, 12, 200, 256)]"
      ],
      "execution_count": null,
      "outputs": []
    },
    {
      "cell_type": "code",
      "metadata": {
        "id": "Kmt0pJTpoaqS",
        "colab": {
          "base_uri": "https://localhost:8080/"
        },
        "outputId": "20908795-2b2d-462a-c863-9321fcac8c33"
      },
      "source": [
        "for project in list_project_names:\n",
        "  project_name = project[0]\n",
        "  time_split = project[1]\n",
        "\n",
        "  # Model params\n",
        "  steps_per_epoch = project[2]\n",
        "  epochs = project[3]\n",
        "  batch_size = project[4]\n",
        "\n",
        "  # Load dataset\n",
        "  df, graph = load_project(project_name)\n",
        "\n",
        "  # Get features\n",
        "  titles, descriptions, summaries = get_textual_features(df)\n",
        "  del df\n",
        "  del graph\n",
        "  gc.collect()\n",
        "\n",
        "  # Save path\n",
        "  path = 'embedding/fasttext/{}/'.format(project_name)\n",
        "  try:\n",
        "    os.mkdir(path)\n",
        "  except:\n",
        "    print('Cannot create path {}'.format(path))\n",
        "\n",
        "  # All textual features\n",
        "  value_maxlen = 540\n",
        "  all_text = [descriptions[i] +' '+titles[i] + ' '+summaries[i] for i in range(0, len(titles))]\n",
        "  model = return_model(value_maxlen)\n",
        "  \n",
        "  save_path = path\n",
        "  try:\n",
        "    os.mkdir(save_path)\n",
        "  except:\n",
        "    print('Cannot create path {}'.format(save_path))\n",
        "  tokenized = fasttext_tokenizer(all_text)\n",
        "  padded = pad_sequences(tokenized, maxlen=value_maxlen, padding = 'post', truncating=\"post\")\n",
        "  feature = model.predict(padded)\n",
        "  np.save(save_path + 'textual_features.npy', feature) \n",
        "  del all_text\n",
        "  del tokenized\n",
        "  del model\n",
        "  gc.collect()\n",
        "\n",
        "  value_maxlen = 20\n",
        "  # Only title\n",
        "  model = return_model(value_maxlen)\n",
        "  save_path = path + \"title/\"\n",
        "  try:\n",
        "    os.mkdir(save_path)\n",
        "  except:\n",
        "    print('Cannot create path {}'.format(save_path))\n",
        "  tokenized = fasttext_tokenizer(titles)\n",
        "  padded = pad_sequences(tokenized, maxlen=value_maxlen, padding = 'post', truncating=\"post\")\n",
        "  del tokenized\n",
        "  gc.collect()\n",
        "\n",
        "  feature = model.predict(padded)\n",
        "  del padded\n",
        "  gc.collect()\n",
        "\n",
        "  np.save(save_path + 'textual_features.npy', feature) \n",
        "  del model\n",
        "  gc.collect()\n",
        "\n",
        "  # Only summary\n",
        "  model = return_model(value_maxlen)\n",
        "  save_path = path + \"summary/\"\n",
        "  try:\n",
        "    os.mkdir(save_path)\n",
        "  except:\n",
        "    print('Cannot create path {}'.format(save_path))\n",
        "  tokenized = fasttext_tokenizer(summaries)\n",
        "  padded = pad_sequences(tokenized, maxlen=value_maxlen, padding = 'post', truncating=\"post\")\n",
        "  del tokenized\n",
        "  gc.collect()\n",
        "\n",
        "  feature = model.predict(padded)\n",
        "  del padded\n",
        "  gc.collect()\n",
        "  \n",
        "  np.save(save_path + 'textual_features.npy', feature) \n",
        "  del model\n",
        "  gc.collect()\n",
        "\n",
        "  value_maxlen = 500\n",
        "  # Only description\n",
        "  model = return_model(value_maxlen)\n",
        "  save_path = path + \"description/\"\n",
        "  try:\n",
        "    os.mkdir(save_path)\n",
        "  except:\n",
        "    print('Cannot create path {}'.format(save_path))\n",
        "  tokenized = fasttext_tokenizer(descriptions)\n",
        "  padded = pad_sequences(tokenized, maxlen=value_maxlen, padding = 'post', truncating=\"post\")\n",
        "  del tokenized\n",
        "  gc.collect()\n",
        "\n",
        "  feature = model.predict(padded)\n",
        "  del padded\n",
        "  gc.collect()\n",
        "\n",
        "  np.save(save_path + 'textual_features.npy', feature) \n",
        "  del model\n",
        "  gc.collect()\n",
        "\n",
        "  value_maxlen = 520\n",
        "  # description + title\n",
        "  model = return_model(value_maxlen)\n",
        "  save_path = path + \"description_title/\"\n",
        "  try:\n",
        "    os.mkdir(save_path)\n",
        "  except:\n",
        "    print('Cannot create path {}'.format(save_path))\n",
        "  all_text = [descriptions[i] +' '+titles[i] for i in range(0, len(titles))]\n",
        "  tokenized = fasttext_tokenizer(all_text)\n",
        "\n",
        "  padded = pad_sequences(tokenized, maxlen=value_maxlen, padding = 'post', truncating=\"post\")\n",
        "  del tokenized\n",
        "  gc.collect()\n",
        "\n",
        "  feature = model.predict(padded)\n",
        "  del padded\n",
        "  gc.collect()\n",
        "  \n",
        "  np.save(save_path + 'textual_features.npy', feature) \n",
        "  del all_text\n",
        "  del model\n",
        "  gc.collect()\n",
        "\n",
        "  # description + summary\n",
        "  model = return_model(value_maxlen)\n",
        "  save_path = path + \"description_summary/\"\n",
        "  try:\n",
        "    os.mkdir(save_path)\n",
        "  except:\n",
        "    print('Cannot create path {}'.format(save_path))\n",
        "  all_text = [descriptions[i] +' '+summaries[i] for i in range(0, len(titles))]\n",
        "  tokenized = fasttext_tokenizer(all_text)\n",
        "\n",
        "  padded = pad_sequences(tokenized, maxlen=value_maxlen, padding = 'post', truncating=\"post\")\n",
        "  del tokenized\n",
        "  gc.collect()\n",
        "\n",
        "  feature = model.predict(padded)\n",
        "  del padded\n",
        "  gc.collect()\n",
        "  \n",
        "  np.save(save_path + 'textual_features.npy', feature) \n",
        "  del all_text\n",
        "  del model\n",
        "  gc.collect()\n",
        "\n",
        "  # title + summary\n",
        "  model = return_model(value_maxlen)\n",
        "  valye_maxlen = 40\n",
        "  save_path = path + \"title_summary/\"\n",
        "  try:\n",
        "    os.mkdir(save_path)\n",
        "  except:\n",
        "    print('Cannot create path {}'.format(save_path))\n",
        "  all_text = [titles[i] +' '+summaries[i] for i in range(0, len(titles))]\n",
        "  tokenized = fasttext_tokenizer(all_text)\n",
        "  padded = pad_sequences(tokenized, maxlen=value_maxlen, padding = 'post', truncating=\"post\")\n",
        "  del tokenized\n",
        "  gc.collect()\n",
        "\n",
        "  feature = model.predict(padded)\n",
        "  del padded\n",
        "  gc.collect()\n",
        "  \n",
        "  np.save(save_path + 'textual_features.npy', feature) \n",
        "  del all_text\n",
        "  del model\n",
        "  gc.collect()"
      ],
      "execution_count": null,
      "outputs": [
        {
          "output_type": "stream",
          "name": "stdout",
          "text": [
            "Cannot create path embedding/fasttext/FLUME/\n",
            "Model: \"model\"\n",
            "_________________________________________________________________\n",
            "Layer (type)                 Output Shape              Param #   \n",
            "=================================================================\n",
            "input_a (InputLayer)         [(None, 540)]             0         \n",
            "_________________________________________________________________\n",
            "embedding (Embedding)        (None, 540, 300)          600000600 \n",
            "=================================================================\n",
            "Total params: 600,000,600\n",
            "Trainable params: 0\n",
            "Non-trainable params: 600,000,600\n",
            "_________________________________________________________________\n",
            "Cannot create path embedding/fasttext/FLUME/\n",
            "Model: \"model_1\"\n",
            "_________________________________________________________________\n",
            "Layer (type)                 Output Shape              Param #   \n",
            "=================================================================\n",
            "input_a (InputLayer)         [(None, 20)]              0         \n",
            "_________________________________________________________________\n",
            "embedding_1 (Embedding)      (None, 20, 300)           600000600 \n",
            "=================================================================\n",
            "Total params: 600,000,600\n",
            "Trainable params: 0\n",
            "Non-trainable params: 600,000,600\n",
            "_________________________________________________________________\n",
            "Cannot create path embedding/fasttext/FLUME/title/\n",
            "Model: \"model_2\"\n",
            "_________________________________________________________________\n",
            "Layer (type)                 Output Shape              Param #   \n",
            "=================================================================\n",
            "input_a (InputLayer)         [(None, 20)]              0         \n",
            "_________________________________________________________________\n",
            "embedding_2 (Embedding)      (None, 20, 300)           600000600 \n",
            "=================================================================\n",
            "Total params: 600,000,600\n",
            "Trainable params: 0\n",
            "Non-trainable params: 600,000,600\n",
            "_________________________________________________________________\n",
            "Cannot create path embedding/fasttext/FLUME/summary/\n",
            "Model: \"model_3\"\n",
            "_________________________________________________________________\n",
            "Layer (type)                 Output Shape              Param #   \n",
            "=================================================================\n",
            "input_a (InputLayer)         [(None, 500)]             0         \n",
            "_________________________________________________________________\n",
            "embedding_3 (Embedding)      (None, 500, 300)          600000600 \n",
            "=================================================================\n",
            "Total params: 600,000,600\n",
            "Trainable params: 0\n",
            "Non-trainable params: 600,000,600\n",
            "_________________________________________________________________\n",
            "Cannot create path embedding/fasttext/FLUME/description/\n",
            "Model: \"model_4\"\n",
            "_________________________________________________________________\n",
            "Layer (type)                 Output Shape              Param #   \n",
            "=================================================================\n",
            "input_a (InputLayer)         [(None, 520)]             0         \n",
            "_________________________________________________________________\n",
            "embedding_4 (Embedding)      (None, 520, 300)          600000600 \n",
            "=================================================================\n",
            "Total params: 600,000,600\n",
            "Trainable params: 0\n",
            "Non-trainable params: 600,000,600\n",
            "_________________________________________________________________\n",
            "Cannot create path embedding/fasttext/FLUME/description_title/\n"
          ]
        }
      ]
    }
  ]
}