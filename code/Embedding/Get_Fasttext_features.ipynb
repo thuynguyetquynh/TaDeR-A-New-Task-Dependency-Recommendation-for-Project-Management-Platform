{
  "nbformat": 4,
  "nbformat_minor": 0,
  "metadata": {
    "accelerator": "GPU",
    "colab": {
      "provenance": [],
      "machine_shape": "hm",
      "collapsed_sections": [
        "MTlk8R4WfvUu"
      ]
    },
    "kernelspec": {
      "display_name": "Python 3",
      "name": "python3"
    }
  },
  "cells": [
    {
      "cell_type": "markdown",
      "metadata": {
        "id": "pbSuD_3JgzAk"
      },
      "source": [
        "# Library"
      ]
    },
    {
      "cell_type": "code",
      "metadata": {
        "colab": {
          "base_uri": "https://localhost:8080/"
        },
        "id": "VRiQVMhngzAm",
        "outputId": "9f5c5579-0016-4db3-84b5-22653d9aa0ce"
      },
      "source": [
        "from google.colab import drive\n",
        "drive.mount('/content/drive')"
      ],
      "execution_count": null,
      "outputs": [
        {
          "output_type": "stream",
          "name": "stdout",
          "text": [
            "Mounted at /content/drive\n"
          ]
        }
      ]
    },
    {
      "cell_type": "code",
      "metadata": {
        "id": "oA6TR9ongzAm",
        "colab": {
          "base_uri": "https://localhost:8080/"
        },
        "outputId": "6f19fd2a-fe20-4cde-e412-341a1c0bea75"
      },
      "source": [
        "import os\n",
        "import pandas as pd\n",
        "import numpy as np\n",
        "from tqdm import tqdm\n",
        "import networkx as nx\n",
        "import tensorflow as tf\n",
        "import matplotlib.pyplot as plt\n",
        "import datetime\n",
        "import gc\n",
        "\n",
        "import nltk\n",
        "nltk.download('punkt')\n",
        "nltk.download('wordnet')\n",
        "from nltk import word_tokenize\n",
        "\n",
        "import tensorflow as tf\n",
        "import tensorflow.keras as keras\n",
        "\n",
        "from keras.utils import pad_sequences\n",
        "\n",
        "tf.random.set_seed(123)"
      ],
      "execution_count": null,
      "outputs": [
        {
          "output_type": "stream",
          "name": "stderr",
          "text": [
            "[nltk_data] Downloading package punkt to /root/nltk_data...\n",
            "[nltk_data]   Package punkt is already up-to-date!\n",
            "[nltk_data] Downloading package wordnet to /root/nltk_data...\n",
            "[nltk_data]   Package wordnet is already up-to-date!\n"
          ]
        }
      ]
    },
    {
      "cell_type": "code",
      "metadata": {
        "id": "4_pxWxxCcCJw",
        "colab": {
          "base_uri": "https://localhost:8080/"
        },
        "outputId": "9fac63d8-da8e-491f-e17a-0485e53083e2"
      },
      "source": [
        "cd /content/drive/MyDrive/TaDeR-A-New-Task-Dependency-Recommendation-for-Project-Management-Platform/"
      ],
      "execution_count": null,
      "outputs": [
        {
          "output_type": "stream",
          "name": "stdout",
          "text": [
            "/content/drive/MyDrive/TaDeR-A-New-Task-Dependency-Recommendation-for-Project-Management-Platform\n"
          ]
        }
      ]
    },
    {
      "cell_type": "markdown",
      "metadata": {
        "id": "MTlk8R4WfvUu"
      },
      "source": [
        "# Load dataset"
      ]
    },
    {
      "cell_type": "code",
      "metadata": {
        "id": "WUAyPH7y26Cc"
      },
      "source": [
        "def encode_graph(row):\n",
        "  new_row = []\n",
        "  for i in row:\n",
        "    if i==0:\n",
        "      new_row.append([1,0])\n",
        "    else:\n",
        "      new_row.append([0,1])\n",
        "  return new_row"
      ],
      "execution_count": null,
      "outputs": []
    },
    {
      "cell_type": "code",
      "metadata": {
        "id": "t0vt5UFbuSQ1"
      },
      "source": [
        "def load_project(project_name):\n",
        "  # Attributes\n",
        "  df = pd.read_csv('data/{}/attribute_preprocess.csv'.format(project_name))\n",
        "  df = df.fillna('')\n",
        "  # Graph\n",
        "  graph = pd.read_csv('data/{}/graph.csv'.format(project_name), delimiter=',')\n",
        "  graph = graph.apply(encode_graph)\n",
        "  graph = graph.values\n",
        "  return df, graph"
      ],
      "execution_count": null,
      "outputs": []
    },
    {
      "cell_type": "markdown",
      "metadata": {
        "id": "9k8yA8QMujWw"
      },
      "source": [
        "# FastText"
      ]
    },
    {
      "cell_type": "code",
      "source": [
        "!wget https://dl.fbaipublicfiles.com/fasttext/vectors-english/crawl-300d-2M-subword.zip"
      ],
      "metadata": {
        "id": "U480jWs5DdyV"
      },
      "execution_count": null,
      "outputs": []
    },
    {
      "cell_type": "code",
      "source": [
        "!unzip crawl-300d-2M-subword.zip"
      ],
      "metadata": {
        "id": "36OdBwMJDmGy"
      },
      "execution_count": null,
      "outputs": []
    },
    {
      "cell_type": "code",
      "metadata": {
        "id": "voYo6gqlaSv2",
        "colab": {
          "base_uri": "https://localhost:8080/"
        },
        "outputId": "0b22a56c-eb8f-4e2a-d7fb-7c538ef4d749"
      },
      "source": [
        "def load_word_embeddings(fname):\n",
        "    wordvecs = {}\n",
        "    with open(fname, 'r') as file:\n",
        "        lines = file.readlines()\n",
        "        for line in tqdm(lines):\n",
        "            tokens = line.split(' ')\n",
        "            vec = np.array(tokens[1:], dtype=np.float32)\n",
        "            wordvecs[tokens[0]] = vec\n",
        "\n",
        "    return wordvecs\n",
        "\n",
        "wordvecs = load_word_embeddings('crawl-300d-2M-subword.vec')"
      ],
      "execution_count": null,
      "outputs": [
        {
          "output_type": "stream",
          "name": "stderr",
          "text": [
            "100%|██████████| 2000001/2000001 [01:49<00:00, 18298.12it/s]\n"
          ]
        }
      ]
    },
    {
      "cell_type": "code",
      "metadata": {
        "id": "Dn9fwWk_fsOh"
      },
      "source": [
        "__PADDED_INDEX__ = 0\n",
        "__UNKNOWN_WORD__ = 1\n",
        "vocab = wordvecs.keys()\n",
        "matrix = list(wordvecs.values())\n",
        "word_to_index = {word: index+2 for index, word in enumerate(vocab)}\n",
        "embedding_matrix = np.pad(matrix, [[2,0],[0,0]], mode='constant', constant_values =0.0)"
      ],
      "execution_count": null,
      "outputs": []
    },
    {
      "cell_type": "code",
      "metadata": {
        "id": "qXTofqjTfxIo",
        "colab": {
          "base_uri": "https://localhost:8080/"
        },
        "outputId": "ec5b88c2-8678-4a3b-8812-59e017779fed"
      },
      "source": [
        "len(vocab), len(embedding_matrix)"
      ],
      "execution_count": null,
      "outputs": [
        {
          "output_type": "execute_result",
          "data": {
            "text/plain": [
              "(2000000, 2000002)"
            ]
          },
          "metadata": {},
          "execution_count": 20
        }
      ]
    },
    {
      "cell_type": "markdown",
      "metadata": {
        "id": "Ly-enb4GP03f"
      },
      "source": [
        "# Get features"
      ]
    },
    {
      "cell_type": "code",
      "metadata": {
        "id": "HA78gq_IhZah"
      },
      "source": [
        "def FastText_tokenizer(sentences):\n",
        "  tokenized_texts = [nltk.tokenize.word_tokenize(text) for text in sentences]\n",
        "  X = []\n",
        "  for text in tokenized_texts:\n",
        "    cur_text_indices = []\n",
        "    for word in text:\n",
        "      if word in word_to_index:\n",
        "          cur_text_indices.append(word_to_index[word])\n",
        "      else:\n",
        "          cur_text_indices.append(__UNKNOWN_WORD__)\n",
        "    X.append(cur_text_indices)\n",
        "  return X"
      ],
      "execution_count": null,
      "outputs": []
    },
    {
      "cell_type": "code",
      "metadata": {
        "id": "0uKrgeS9HkpU"
      },
      "source": [
        "def get_textual_features(df):\n",
        "  df[\"title\"] = df[\"title\"].str.replace(\"[ ]+\", \" \", regex=True).str.strip()\n",
        "  df[\"description\"] = df[\"description\"].str.replace(\"[ ]+\", \" \", regex=True).str.strip()\n",
        "  df[\"summary\"] = df[\"summary\"].str.replace(\"[ ]+\", \" \", regex=True).str.strip()\n",
        "\n",
        "  # Extract data from dataframe\n",
        "  titles = df['title'].values\n",
        "  descriptions = df['description'].values\n",
        "  summaries = df['summary'].values\n",
        "\n",
        "  return titles, descriptions, summaries"
      ],
      "execution_count": null,
      "outputs": []
    },
    {
      "cell_type": "code",
      "metadata": {
        "id": "9J_JCdZ1hFll"
      },
      "source": [
        "def return_model(value_maxlen):\n",
        "  inputs_A = keras.Input(shape=(value_maxlen), name=\"input_a\")\n",
        "\n",
        "  embedding_layer = keras.layers.Embedding(input_dim=embedding_matrix.shape[0],\n",
        "                 output_dim=embedding_matrix.shape[1],\n",
        "                  embeddings_initializer = tf.keras.initializers.Constant(value=embedding_matrix),\n",
        "                  trainable=False,\n",
        "                 mask_zero=True)\n",
        "\n",
        "  # Embedding\n",
        "  emb_A = embedding_layer(inputs_A)\n",
        "\n",
        "  model = keras.Model(inputs=[inputs_A], outputs=emb_A)\n",
        "  model.compile(optimizer=\"Adam\", loss=\"mse\", metrics=[\"categorical_accuracy\"])\n",
        "\n",
        "  model.summary()\n",
        "\n",
        "  return model"
      ],
      "execution_count": null,
      "outputs": []
    },
    {
      "cell_type": "markdown",
      "metadata": {
        "id": "02oiSc4QQwlA"
      },
      "source": [
        "### Start"
      ]
    },
    {
      "cell_type": "code",
      "source": [
        "if not os.path.exists(\"embedding\"):\n",
        "  os.mkdir(\"embedding\")\n",
        "if not os.path.exists(\"FastText\"):\n",
        "  os.mkdir(\"FastText\")"
      ],
      "metadata": {
        "id": "80azUNzzDVF0"
      },
      "execution_count": null,
      "outputs": []
    },
    {
      "cell_type": "code",
      "metadata": {
        "id": "nxT9qdSmQhbi"
      },
      "source": [
        "list_project_names = [('FLUME', 1577, 5, 200, 256), ('MDLSITE', 4100, 12, 200, 256)]"
      ],
      "execution_count": null,
      "outputs": []
    },
    {
      "cell_type": "code",
      "metadata": {
        "id": "Kmt0pJTpoaqS",
        "colab": {
          "base_uri": "https://localhost:8080/"
        },
        "outputId": "2f83f0b8-d930-4971-856d-20d7624e4df1"
      },
      "source": [
        "for project in list_project_names:\n",
        "  project_name = project[0]\n",
        "  time_split = project[1]\n",
        "\n",
        "  # Model params\n",
        "  steps_per_epoch = project[2]\n",
        "  epochs = project[3]\n",
        "  batch_size = project[4]\n",
        "\n",
        "  # Load dataset\n",
        "  df, graph = load_project(project_name)\n",
        "\n",
        "  # Get features\n",
        "  titles, descriptions, summaries = get_textual_features(df)\n",
        "  del df\n",
        "  del graph\n",
        "  gc.collect()\n",
        "\n",
        "  # Save path\n",
        "  path = 'embedding/FastText/{}/'.format(project_name)\n",
        "  if not os.path.exists(path):\n",
        "    os.mkdir(path)\n",
        "\n",
        "  # All textual features\n",
        "  value_maxlen = 540\n",
        "  all_text = [descriptions[i] +' '+titles[i] + ' '+summaries[i] for i in range(0, len(titles))]\n",
        "  model = return_model(value_maxlen)\n",
        "\n",
        "  save_path = path\n",
        "  if not os.path.exists(save_path):\n",
        "    os.mkdir(save_path)\n",
        "  tokenized = FastText_tokenizer(all_text)\n",
        "  padded = pad_sequences(tokenized, maxlen=value_maxlen, padding = 'post', truncating=\"post\")\n",
        "  feature = model.predict(padded)\n",
        "  np.save(save_path + 'textual_features.npy', feature)\n",
        "  del all_text\n",
        "  del tokenized\n",
        "  del model\n",
        "  gc.collect()\n",
        "\n",
        "\n",
        "  # Only title\n",
        "  value_maxlen = 20\n",
        "  model = return_model(value_maxlen)\n",
        "  save_path = path + \"title/\"\n",
        "  if not os.path.exists(save_path):\n",
        "    os.mkdir(save_path)\n",
        "  tokenized = FastText_tokenizer(titles)\n",
        "  padded = pad_sequences(tokenized, maxlen=value_maxlen, padding = 'post', truncating=\"post\")\n",
        "  del tokenized\n",
        "  gc.collect()\n",
        "\n",
        "  feature = model.predict(padded)\n",
        "  del padded\n",
        "  gc.collect()\n",
        "\n",
        "  np.save(save_path + 'textual_features.npy', feature)\n",
        "  del model\n",
        "  gc.collect()\n",
        "\n",
        "  # Only summary\n",
        "  value_maxlen = 20\n",
        "  model = return_model(value_maxlen)\n",
        "  save_path = path + \"summary/\"\n",
        "  if not os.path.exists(save_path):\n",
        "    os.mkdir(save_path)\n",
        "  tokenized = FastText_tokenizer(summaries)\n",
        "  padded = pad_sequences(tokenized, maxlen=value_maxlen, padding = 'post', truncating=\"post\")\n",
        "  del tokenized\n",
        "  gc.collect()\n",
        "\n",
        "  feature = model.predict(padded)\n",
        "  del padded\n",
        "  gc.collect()\n",
        "\n",
        "  np.save(save_path + 'textual_features.npy', feature)\n",
        "  del model\n",
        "  gc.collect()\n",
        "\n",
        "  # Only description\n",
        "  value_maxlen = 500\n",
        "  model = return_model(value_maxlen)\n",
        "  save_path = path + \"description/\"\n",
        "  if not os.path.exists(save_path):\n",
        "    os.mkdir(save_path)\n",
        "  tokenized = FastText_tokenizer(descriptions)\n",
        "  padded = pad_sequences(tokenized, maxlen=value_maxlen, padding = 'post', truncating=\"post\")\n",
        "  del tokenized\n",
        "  gc.collect()\n",
        "\n",
        "  feature = model.predict(padded)\n",
        "  del padded\n",
        "  gc.collect()\n",
        "\n",
        "  np.save(save_path + 'textual_features.npy', feature)\n",
        "  del model\n",
        "  gc.collect()\n",
        "\n",
        "  # description + title\n",
        "  value_maxlen = 520\n",
        "  model = return_model(value_maxlen)\n",
        "  save_path = path + \"description_title/\"\n",
        "  if not os.path.exists(save_path):\n",
        "    os.mkdir(save_path)\n",
        "  all_text = [descriptions[i] +' '+titles[i] for i in range(0, len(titles))]\n",
        "  tokenized = FastText_tokenizer(all_text)\n",
        "\n",
        "  padded = pad_sequences(tokenized, maxlen=value_maxlen, padding = 'post', truncating=\"post\")\n",
        "  del tokenized\n",
        "  gc.collect()\n",
        "\n",
        "  feature = model.predict(padded)\n",
        "  del padded\n",
        "  gc.collect()\n",
        "\n",
        "  np.save(save_path + 'textual_features.npy', feature)\n",
        "  del all_text\n",
        "  del model\n",
        "  gc.collect()"
      ],
      "execution_count": null,
      "outputs": [
        {
          "output_type": "stream",
          "name": "stdout",
          "text": [
            "Model: \"model_4\"\n",
            "_________________________________________________________________\n",
            " Layer (type)                Output Shape              Param #   \n",
            "=================================================================\n",
            " input_a (InputLayer)        [(None, 540)]             0         \n",
            "                                                                 \n",
            " embedding_5 (Embedding)     (None, 540, 300)          600000600 \n",
            "                                                                 \n",
            "=================================================================\n",
            "Total params: 600,000,600\n",
            "Trainable params: 0\n",
            "Non-trainable params: 600,000,600\n",
            "_________________________________________________________________\n",
            "106/106 [==============================] - 0s 1ms/step\n",
            "Model: \"model_5\"\n",
            "_________________________________________________________________\n",
            " Layer (type)                Output Shape              Param #   \n",
            "=================================================================\n",
            " input_a (InputLayer)        [(None, 20)]              0         \n",
            "                                                                 \n",
            " embedding_6 (Embedding)     (None, 20, 300)           600000600 \n",
            "                                                                 \n",
            "=================================================================\n",
            "Total params: 600,000,600\n",
            "Trainable params: 0\n",
            "Non-trainable params: 600,000,600\n",
            "_________________________________________________________________\n",
            "106/106 [==============================] - 0s 2ms/step\n",
            "Model: \"model_6\"\n",
            "_________________________________________________________________\n",
            " Layer (type)                Output Shape              Param #   \n",
            "=================================================================\n",
            " input_a (InputLayer)        [(None, 20)]              0         \n",
            "                                                                 \n",
            " embedding_7 (Embedding)     (None, 20, 300)           600000600 \n",
            "                                                                 \n",
            "=================================================================\n",
            "Total params: 600,000,600\n",
            "Trainable params: 0\n",
            "Non-trainable params: 600,000,600\n",
            "_________________________________________________________________\n",
            "106/106 [==============================] - 0s 1ms/step\n",
            "Model: \"model_7\"\n",
            "_________________________________________________________________\n",
            " Layer (type)                Output Shape              Param #   \n",
            "=================================================================\n",
            " input_a (InputLayer)        [(None, 500)]             0         \n",
            "                                                                 \n",
            " embedding_8 (Embedding)     (None, 500, 300)          600000600 \n",
            "                                                                 \n",
            "=================================================================\n",
            "Total params: 600,000,600\n",
            "Trainable params: 0\n",
            "Non-trainable params: 600,000,600\n",
            "_________________________________________________________________\n",
            "106/106 [==============================] - 0s 1ms/step\n",
            "Model: \"model_8\"\n",
            "_________________________________________________________________\n",
            " Layer (type)                Output Shape              Param #   \n",
            "=================================================================\n",
            " input_a (InputLayer)        [(None, 520)]             0         \n",
            "                                                                 \n",
            " embedding_9 (Embedding)     (None, 520, 300)          600000600 \n",
            "                                                                 \n",
            "=================================================================\n",
            "Total params: 600,000,600\n",
            "Trainable params: 0\n",
            "Non-trainable params: 600,000,600\n",
            "_________________________________________________________________\n",
            "106/106 [==============================] - 0s 1ms/step\n",
            "Model: \"model_9\"\n",
            "_________________________________________________________________\n",
            " Layer (type)                Output Shape              Param #   \n",
            "=================================================================\n",
            " input_a (InputLayer)        [(None, 540)]             0         \n",
            "                                                                 \n",
            " embedding_10 (Embedding)    (None, 540, 300)          600000600 \n",
            "                                                                 \n",
            "=================================================================\n",
            "Total params: 600,000,600\n",
            "Trainable params: 0\n",
            "Non-trainable params: 600,000,600\n",
            "_________________________________________________________________\n",
            "185/185 [==============================] - 0s 1ms/step\n"
          ]
        }
      ]
    },
    {
      "cell_type": "code",
      "source": [
        "for project in list_project_names:\n",
        "  project_name = project[0]\n",
        "  time_split = project[1]\n",
        "\n",
        "  # Model params\n",
        "  steps_per_epoch = project[2]\n",
        "  epochs = project[3]\n",
        "  batch_size = project[4]\n",
        "\n",
        "  # Load dataset\n",
        "  df, graph = load_project(project_name)\n",
        "\n",
        "  # Get features\n",
        "  titles, descriptions, summaries = get_textual_features(df)\n",
        "  del df\n",
        "  del graph\n",
        "  gc.collect()\n",
        "\n",
        "  # Save path\n",
        "  path = 'embedding/FastText/{}/'.format(project_name)\n",
        "  try:\n",
        "    os.mkdir(path)\n",
        "  except:\n",
        "    print('Cannot create path {}'.format(path))\n",
        "\n",
        "  # description + summary\n",
        "  value_maxlen = 520\n",
        "  model = return_model(value_maxlen)\n",
        "  save_path = path + \"description_summary/\"\n",
        "  if not os.path.exists(save_path):\n",
        "    os.mkdir(save_path)\n",
        "  all_text = [descriptions[i] +' '+summaries[i] for i in range(0, len(titles))]\n",
        "  tokenized = FastText_tokenizer(all_text)\n",
        "\n",
        "  padded = pad_sequences(tokenized, maxlen=value_maxlen, padding = 'post', truncating=\"post\")\n",
        "  del tokenized\n",
        "  gc.collect()\n",
        "\n",
        "  feature = model.predict(padded)\n",
        "  del padded\n",
        "  gc.collect()\n",
        "\n",
        "  np.save(save_path + 'textual_features.npy', feature)\n",
        "  del all_text\n",
        "  del model\n",
        "  gc.collect()"
      ],
      "metadata": {
        "id": "OddITcLVOzfB"
      },
      "execution_count": null,
      "outputs": []
    },
    {
      "cell_type": "code",
      "source": [
        "for project in list_project_names:\n",
        "  project_name = project[0]\n",
        "  time_split = project[1]\n",
        "\n",
        "  # Model params\n",
        "  steps_per_epoch = project[2]\n",
        "  epochs = project[3]\n",
        "  batch_size = project[4]\n",
        "\n",
        "  # Load dataset\n",
        "  df, graph = load_project(project_name)\n",
        "\n",
        "  # Get features\n",
        "  titles, descriptions, summaries = get_textual_features(df)\n",
        "  del df\n",
        "  del graph\n",
        "  gc.collect()\n",
        "\n",
        "  # Save path\n",
        "  path = 'embedding/FastText/{}/'.format(project_name)\n",
        "  try:\n",
        "    os.mkdir(path)\n",
        "  except:\n",
        "    print('Cannot create path {}'.format(path))\n",
        "\n",
        "  # title + summary\n",
        "  model = return_model(value_maxlen)\n",
        "  value_maxlen = 40\n",
        "  save_path = path + \"title_summary/\"\n",
        "  if not os.path.exists(save_path):\n",
        "    os.mkdir(save_path)\n",
        "  all_text = [titles[i] +' '+summaries[i] for i in range(0, len(titles))]\n",
        "  tokenized = FastText_tokenizer(all_text)\n",
        "  padded = pad_sequences(tokenized, maxlen=value_maxlen, padding = 'post', truncating=\"post\")\n",
        "  del tokenized\n",
        "  gc.collect()\n",
        "\n",
        "  feature = model.predict(padded)\n",
        "  del padded\n",
        "  gc.collect()\n",
        "\n",
        "  np.save(save_path + 'textual_features.npy', feature)\n",
        "  del all_text\n",
        "  del model\n",
        "  gc.collect()"
      ],
      "metadata": {
        "id": "XdtLm5O1QFhF"
      },
      "execution_count": null,
      "outputs": []
    }
  ]
}