{
  "cells": [
    {
      "cell_type": "markdown",
      "metadata": {
        "id": "_pfkipERUp2S"
      },
      "source": [
        "### Library"
      ]
    },
    {
      "cell_type": "code",
      "execution_count": 1,
      "metadata": {
        "colab": {
          "base_uri": "https://localhost:8080/"
        },
        "id": "Gzd9eiVHUp2T",
        "outputId": "0b2dcb51-0821-4d03-d6a6-a19516c942bf"
      },
      "outputs": [
        {
          "output_type": "stream",
          "name": "stdout",
          "text": [
            "Mounted at /content/drive\n"
          ]
        }
      ],
      "source": [
        "from google.colab import drive\n",
        "drive.mount('/content/drive')"
      ]
    },
    {
      "cell_type": "code",
      "execution_count": 2,
      "metadata": {
        "id": "DT07UTxEUp2T"
      },
      "outputs": [],
      "source": [
        "import pandas as pd\n",
        "import numpy as np\n",
        "from tqdm import tqdm\n",
        "import networkx as nx\n",
        "import tensorflow as tf\n",
        "import matplotlib.pyplot as plt\n",
        "import random\n",
        "import gc\n",
        "import datetime\n",
        "import itertools\n",
        "import re\n",
        "tf.random.set_seed(123)\n",
        "\n",
        "import time"
      ]
    },
    {
      "cell_type": "code",
      "execution_count": 3,
      "metadata": {
        "colab": {
          "base_uri": "https://localhost:8080/"
        },
        "id": "0hlmmdue2LxF",
        "outputId": "4155213b-b133-42ab-a7ec-a7fce5829d84"
      },
      "outputs": [
        {
          "output_type": "stream",
          "name": "stdout",
          "text": [
            "/content/drive/MyDrive/TaDeR-A-New-Task-Dependency-Recommendation-for-Project-Management-Platform\n"
          ]
        }
      ],
      "source": [
        "cd /content/drive/MyDrive/TaDeR-A-New-Task-Dependency-Recommendation-for-Project-Management-Platform/"
      ]
    },
    {
      "cell_type": "markdown",
      "metadata": {
        "id": "MTlk8R4WfvUu"
      },
      "source": [
        "# Load dataset"
      ]
    },
    {
      "cell_type": "code",
      "execution_count": 4,
      "metadata": {
        "id": "WUAyPH7y26Cc"
      },
      "outputs": [],
      "source": [
        "def encode_graph(row):\n",
        "  new_row = []\n",
        "  for i in row:\n",
        "    if i==0:\n",
        "      new_row.append([1,0])\n",
        "    else:\n",
        "      new_row.append([0,1])\n",
        "  return new_row"
      ]
    },
    {
      "cell_type": "code",
      "execution_count": 5,
      "metadata": {
        "id": "t0vt5UFbuSQ1"
      },
      "outputs": [],
      "source": [
        "def load_project(project_name):\n",
        "  # Attributes\n",
        "  df = pd.read_csv('data/{}/attribute_preprocess.csv'.format(project_name))\n",
        "  df = df.fillna('')\n",
        "  # Graph\n",
        "  graph = pd.read_csv('data/{}/graph.csv'.format(project_name), delimiter=',')\n",
        "  graph = graph.apply(encode_graph)\n",
        "  graph = graph.values\n",
        "  return df, graph"
      ]
    },
    {
      "cell_type": "markdown",
      "metadata": {
        "id": "I6JY3Eh71lr5"
      },
      "source": [
        "# Get features"
      ]
    },
    {
      "cell_type": "code",
      "execution_count": 6,
      "metadata": {
        "id": "b524oFZS1nLg"
      },
      "outputs": [],
      "source": [
        "def get_textual_features(df, choose_feature_string):\n",
        "  # Load title/description/summary vectors\n",
        "  loading_path = 'embedding/GloVe/{}/'.format(project_name)\n",
        "  if len(choose_feature_string)!=3:\n",
        "    for feature in choose_feature_string:\n",
        "      print('Loading',feature)\n",
        "      loading_path+=feature+'_'\n",
        "    loading_path = loading_path[:-1]+'/'\n",
        "  all_textual_vectors = np.load(loading_path + 'textual_features.npy')\n",
        "  return all_textual_vectors"
      ]
    },
    {
      "cell_type": "code",
      "execution_count": 7,
      "metadata": {
        "id": "utF8crt95KQ4"
      },
      "outputs": [],
      "source": [
        "def get_time_features(df):\n",
        "  createds = pd.to_datetime(df['created'])\n",
        "  updateds = pd.to_datetime(df['updated'])\n",
        "  return [createds, updateds]"
      ]
    },
    {
      "cell_type": "markdown",
      "metadata": {
        "id": "WdaXoWHxvKkw"
      },
      "source": [
        "# Split data"
      ]
    },
    {
      "cell_type": "code",
      "execution_count": 8,
      "metadata": {
        "id": "UX3KbV9xHScF"
      },
      "outputs": [],
      "source": [
        "def split_data(createds, graph, time_split):\n",
        "  # Get date to split data\n",
        "  x = createds[0]\n",
        "  check_date = x + abs(datetime.timedelta(time_split))\n",
        "\n",
        "  train_nodes = []\n",
        "  test_nodes = []\n",
        "\n",
        "  for i in range(0, len(createds)):\n",
        "    if createds[i]<=check_date:\n",
        "      train_nodes.append(i)\n",
        "    else:\n",
        "      test_nodes.append(i)\n",
        "\n",
        "  # Delete all lonely nodes in test\n",
        "  c = 0\n",
        "  new_test_node = []\n",
        "  for i in test_nodes:\n",
        "    t = True\n",
        "    for j in graph[i,:]:\n",
        "      if j[1]!=0: # has linked\n",
        "        t = False\n",
        "    if not t:\n",
        "      c+=1\n",
        "      new_test_node.append(i)\n",
        "\n",
        "  test_nodes = new_test_node\n",
        "  all_nodes = train_nodes + test_nodes\n",
        "\n",
        "  return train_nodes, test_nodes, all_nodes"
      ]
    },
    {
      "cell_type": "markdown",
      "metadata": {
        "id": "ak4kwhPFeO8h"
      },
      "source": [
        "### Pairing"
      ]
    },
    {
      "cell_type": "code",
      "execution_count": 9,
      "metadata": {
        "id": "AS-10zImeO8h"
      },
      "outputs": [],
      "source": [
        "def get_pairs(graph, list_nodes_1, list_nodes_2):\n",
        "  # Get size\n",
        "  size_1 = len(list_nodes_1)\n",
        "  size_2 = len(list_nodes_2)\n",
        "\n",
        "  # Get index of pairs\n",
        "  pairs = np.empty((size_1*size_2,2))\n",
        "  # Get label\n",
        "  labels = np.empty((size_1*size_2,2))\n",
        "\n",
        "  c=0\n",
        "  for i in tqdm(range(0, size_1)):\n",
        "    for j in range(0, size_2):\n",
        "      u = list_nodes_1[i]\n",
        "      v = list_nodes_2[j]\n",
        "      if u!=v:\n",
        "        # Get index of pairs\n",
        "        pairs[c] = [u,v]\n",
        "        # Get label\n",
        "        labels[c] = graph[u][v]\n",
        "        c+=1\n",
        "\n",
        "  pairs = pairs[:c]\n",
        "  labels = labels[:c]\n",
        "  return pairs, labels"
      ]
    },
    {
      "cell_type": "markdown",
      "metadata": {
        "id": "5TNFM5EteO8j"
      },
      "source": [
        "# Get training dataset"
      ]
    },
    {
      "cell_type": "code",
      "execution_count": 10,
      "metadata": {
        "id": "9IP4YNAqEYMO"
      },
      "outputs": [],
      "source": [
        "def create_pair_dataset(pairs, labels):\n",
        "  # Get data\n",
        "  # Index of pairs which have link\n",
        "  link_data_index = np.array([i for i in range(len(pairs)) if labels[i][0]==0])\n",
        "\n",
        "  # Index of pairs which don't have link\n",
        "  non_link_data_index = np.array([i for i in range(len(pairs)) if labels[i][0]==1])\n",
        "\n",
        "  return link_data_index, non_link_data_index\n",
        "\n",
        "def get_separated_data_pairs(input, add_feature = None):\n",
        "  pairs, labels, createds, updateds = input\n",
        "\n",
        "  link_data_index, non_link_data_index = create_pair_dataset(pairs, labels)\n",
        "\n",
        "  link_data = []\n",
        "  non_link_data = []\n",
        "  print('Get training data pairs')\n",
        "  # Get link_data\n",
        "  for index in tqdm(link_data_index):\n",
        "      p = pairs[index]\n",
        "      u = int(p[0])\n",
        "      v = int(p[1])\n",
        "      link_data.append([u, v])\n",
        "\n",
        "  # Get non_link_data\n",
        "  for index in tqdm(non_link_data_index):\n",
        "      p = pairs[index]\n",
        "      u = int(p[0])\n",
        "      v = int(p[1])\n",
        "      non_link_data.append([u, v])\n",
        "\n",
        "  if add_feature != None:\n",
        "    print('Get time features!')\n",
        "    link_other_features = []\n",
        "    non_link_other_features = []\n",
        "\n",
        "    # Get link_data\n",
        "    for index in tqdm(link_data_index):\n",
        "        p = pairs[index]\n",
        "        u = int(p[0])\n",
        "        v = int(p[1])\n",
        "\n",
        "        cre_u = createds[u]\n",
        "\n",
        "        if add_feature==1: # Only cre-cre feature\n",
        "          cre_v = createds[v]\n",
        "          cre_cre = abs((cre_u - cre_v).days)\n",
        "          link_other_features.append([cre_cre])\n",
        "        else:\n",
        "          if add_feature==2: # Only cre-up feature\n",
        "            update_v = updateds[v]\n",
        "            cre_up = abs((cre_u - update_v).days)\n",
        "            link_other_features.append([cre_up])\n",
        "          else: # Add all time features (cre_cre, cre_up)\n",
        "            cre_v = createds[v]\n",
        "            cre_cre = abs((cre_u - cre_v).days)\n",
        "            update_v = updateds[v]\n",
        "            cre_up = abs((cre_u - update_v).days)\n",
        "            link_other_features.append([cre_cre, cre_up])\n",
        "\n",
        "\n",
        "    # Get non_link_data\n",
        "    for index in tqdm(non_link_data_index):\n",
        "        p = pairs[index]\n",
        "        u = int(p[0])\n",
        "        v = int(p[1])\n",
        "\n",
        "        cre_u = createds[u]\n",
        "\n",
        "        if add_feature==1:\n",
        "          cre_v = createds[v]\n",
        "          cre_cre = abs((cre_u - cre_v).days)\n",
        "          non_link_other_features.append([cre_cre])\n",
        "        else:\n",
        "          if add_feature==2:\n",
        "            update_v = updateds[v]\n",
        "            cre_up = abs((cre_u - update_v).days)\n",
        "            non_link_other_features.append([cre_up])\n",
        "          else:\n",
        "            cre_v = createds[v]\n",
        "            cre_cre = abs((cre_u - cre_v).days)\n",
        "            update_v = updateds[v]\n",
        "            cre_up = abs((cre_u - update_v).days)\n",
        "            non_link_other_features.append([cre_cre, cre_up])\n",
        "\n",
        "    return link_data, non_link_data, link_other_features, non_link_other_features\n",
        "\n",
        "  return link_data, non_link_data"
      ]
    },
    {
      "cell_type": "code",
      "execution_count": 11,
      "metadata": {
        "id": "lBmDwa9GmDaD"
      },
      "outputs": [],
      "source": [
        "def generate_input(config_generator, train_input):\n",
        "  batch_size, mul, add_feature = config_generator\n",
        "  all_textual_vectors, link_data, non_link_data, link_other_features, non_link_other_features = train_input\n",
        "  while True:\n",
        "    each_size = int(batch_size/2)\n",
        "\n",
        "    # Shuffle index of link data\n",
        "    shuffle_index = [index for index in np.random.choice(len(link_data), len(link_data), replace=False)]\n",
        "    link_data = [link_data[index] for index in shuffle_index]\n",
        "\n",
        "    if add_feature!=None:\n",
        "      link_other_features = [link_other_features[index] for index in shuffle_index]\n",
        "\n",
        "    for iter in range(int(len(link_data)/each_size)):\n",
        "        # Split data by batch size and randomly select non_link_data: 1/2 for link data, 1/2 for unlink data\n",
        "\n",
        "        # Get index\n",
        "        link_index = np.array(range(iter*each_size, (iter+1)*each_size))\n",
        "        non_link_index = np.array([index for index in np.random.choice(len(non_link_data), each_size*mul, replace=False)])\n",
        "\n",
        "        link_X = [link_data[i] for i in link_index]\n",
        "        non_link_X = [non_link_data[i] for i in non_link_index]\n",
        "\n",
        "        # Create X by tokenizing and padding X\n",
        "        X = np.array(link_X + non_link_X)\n",
        "        padded_A = all_textual_vectors[X[:,0]]\n",
        "        padded_B = all_textual_vectors[X[:,1]]\n",
        "\n",
        "        # Create label y\n",
        "        link_y = np.vstack([np.zeros(len(link_X)), np.ones(len(link_X))]).T\n",
        "        non_link_y = np.vstack([np.ones(len(link_X)), np.zeros(len(link_X))]).T\n",
        "        y = np.concatenate([link_y, non_link_y])\n",
        "\n",
        "        index = np.random.choice(batch_size, batch_size, replace=False)\n",
        "        if add_feature!=None:\n",
        "          # Create other features\n",
        "          link_other_X = np.array([link_other_features[\n",
        "i] for i in link_index])\n",
        "          non_link_other_X = np.array([non_link_other_features[i] for i in non_link_index])\n",
        "          other_features = np.concatenate([link_other_X, non_link_other_X])\n",
        "          yield [padded_A[index], padded_B[index], other_features[index]], y[index]\n",
        "        else:\n",
        "          yield [padded_A[index], padded_B[index]], y[index]\n",
        "  return 0"
      ]
    },
    {
      "cell_type": "markdown",
      "metadata": {
        "id": "99ILnvh8hlKw"
      },
      "source": [
        "## Model"
      ]
    },
    {
      "cell_type": "code",
      "execution_count": 12,
      "metadata": {
        "id": "jgpi5yc27JXL"
      },
      "outputs": [],
      "source": [
        "def dice_coefficient(y_true, y_pred, smooth=1e-5):\n",
        "    intersection = tf.reduce_sum(y_true * y_pred)\n",
        "    prediction = tf.reduce_sum(y_pred)\n",
        "    ground_truth = tf.reduce_sum(y_true)\n",
        "    dice = (2.0 * intersection + smooth) / (prediction + ground_truth + smooth)\n",
        "    return dice\n",
        "\n",
        "def dice_loss(y_true, y_pred):\n",
        "    return 1.0 - dice_coefficient(y_true, y_pred)"
      ]
    },
    {
      "cell_type": "code",
      "execution_count": 13,
      "metadata": {
        "id": "k9vYWqKHhlK3"
      },
      "outputs": [],
      "source": [
        "def return_model(input_init, add_feature):\n",
        "  value_maxlen, number_units, lr, l = input_init\n",
        "  inputs_A = tf.keras.Input(shape=(value_maxlen, 300), name=\"input_a\")\n",
        "  inputs_B = tf.keras.Input(shape=(value_maxlen, 300), name=\"input_b\")\n",
        "\n",
        "  if add_feature==1 or add_feature==2:\n",
        "    inputs_C = tf.keras.Input(shape=(1), name=\"input_c\")\n",
        "  else:\n",
        "    inputs_C = tf.keras.Input(shape=(2), name=\"input_c\")\n",
        "\n",
        "  # Deep Learning model's structure\n",
        "  cnn_layer = tf.keras.layers.Conv1D(number_units, 3, activation='relu')\n",
        "  flatten_layer = tf.keras.layers.Flatten(name=\"flatten\")\n",
        "  dense_1_layer = tf.keras.layers.Dense(number_units, activation=\"relu\", name=\"dense_1\")\n",
        "  output_layer = tf.keras.layers.Dense(2, activation=\"softmax\", name=\"dense_output\")\n",
        "\n",
        "  # cnn\n",
        "  cnn_A = cnn_layer(inputs_A)\n",
        "  cnn_B = cnn_layer(inputs_B)\n",
        "\n",
        "  if add_feature==None:\n",
        "\n",
        "    # Concat two embedded inputs\n",
        "    X = tf.concat([flatten_layer(cnn_A), flatten_layer(cnn_B)], axis=1)\n",
        "\n",
        "    dense_1_X = dense_1_layer(X)\n",
        "\n",
        "    outputs = output_layer(dense_1_X)\n",
        "\n",
        "    model = tf.keras.Model(inputs=[inputs_A, inputs_B], outputs=outputs)\n",
        "\n",
        "  else:\n",
        "\n",
        "    # Concat two embedded inputs\n",
        "    X = tf.concat([flatten_layer(cnn_A), flatten_layer(cnn_B), inputs_C], axis=1)\n",
        "\n",
        "    dense_1_X = dense_1_layer(X)\n",
        "\n",
        "    outputs = output_layer(dense_1_X)\n",
        "\n",
        "    model = tf.keras.Model(inputs=[inputs_A, inputs_B, inputs_C], outputs=outputs)\n",
        "\n",
        "  model.compile(tf.keras.optimizers.Adam(learning_rate=lr), loss=l, metrics=[\"categorical_accuracy\"])\n",
        "  model.summary()\n",
        "\n",
        "  return model"
      ]
    },
    {
      "cell_type": "code",
      "execution_count": 14,
      "metadata": {
        "id": "5UfrUyiChlK4"
      },
      "outputs": [],
      "source": [
        "def train_model(model_params, init_input, train_input):\n",
        "  steps_per_epoch, epochs, batch_size, add_feature = model_params\n",
        "  model_path, value_maxlen, model, all_textual_vectors = init_input\n",
        "  links_train, non_links_train, links_other_features_train, non_links_other_features_train = train_input\n",
        "\n",
        "  model_checkpoint_callback = tf.keras.callbacks.ModelCheckpoint(filepath = model_path, save_best_only=True,save_weights_only=True)\n",
        "\n",
        "  # Config generator\n",
        "  batch_size = 64\n",
        "  mul = 3\n",
        "  config_generator = (batch_size, mul, add_feature)\n",
        "  train_input = all_textual_vectors, links_train, non_links_train, links_other_features_train, non_links_other_features_train\n",
        "  history = model.fit(generate_input(config_generator, train_input),\n",
        "              steps_per_epoch=steps_per_epoch,\n",
        "              epochs=epochs,\n",
        "              shuffle=False,\n",
        "              callbacks=[model_checkpoint_callback],\n",
        "              verbose = 1)\n",
        "  return history"
      ]
    },
    {
      "cell_type": "markdown",
      "metadata": {
        "id": "Z1WHra7QvUs1"
      },
      "source": [
        "## Recommend"
      ]
    },
    {
      "cell_type": "code",
      "execution_count": 15,
      "metadata": {
        "id": "DZUEKauLZIDL"
      },
      "outputs": [],
      "source": [
        "def model_predict(init_input, data_test, labels_test, other_features):\n",
        "  value_maxlen, model, all_textual_vectors = init_input\n",
        "  y_s = np.empty((2,2))\n",
        "  pred_s = np.empty((2,2))\n",
        "\n",
        "  each_size = len(data_test) #all dataset\n",
        "\n",
        "  t = 0\n",
        "  while t<each_size:\n",
        "    if t+2048 < each_size:\n",
        "      data_X = data_test[t:t+2048]\n",
        "    else:\n",
        "      data_X = data_test[t:]\n",
        "\n",
        "    X = np.array(data_X)\n",
        "    padded_A = all_textual_vectors[X[:,0]]\n",
        "    padded_B = all_textual_vectors[X[:,1]]\n",
        "\n",
        "    # Create label y\n",
        "    if t+2048 < each_size:\n",
        "      y = labels_test[t:t+2048]\n",
        "    else:\n",
        "      y = labels_test[t:]\n",
        "\n",
        "    if type(other_features) is np.ndarray:\n",
        "      # Create features\n",
        "      if t+2048 < each_size:\n",
        "        test_features = other_features[t:t+2048]\n",
        "      else:\n",
        "        test_features = other_features[t:]\n",
        "      pred = model.predict([padded_A, padded_B, test_features])\n",
        "    else:\n",
        "      pred = model.predict([padded_A, padded_B])\n",
        "\n",
        "    del padded_A\n",
        "    del padded_B\n",
        "    gc.collect()\n",
        "\n",
        "    y_s = np.concatenate([y_s, y])\n",
        "    del y\n",
        "    gc.collect()\n",
        "    pred_s = np.concatenate([pred_s, pred])\n",
        "    del pred\n",
        "    gc.collect()\n",
        "\n",
        "    t+=2048\n",
        "\n",
        "    print(t,'/',each_size)\n",
        "\n",
        "  # Delete empty value in y_s and pred_s\n",
        "  y_s = y_s[2:]\n",
        "  pred_s = pred_s[2:]\n",
        "\n",
        "  # Get label\n",
        "  y_s = np.argmax(y_s, axis=1)\n",
        "\n",
        "  pred_proba = np.array(pred_s)[:,1] # Proba of having link\n",
        "\n",
        "  pred_s = np.argmax(pred_s, axis=1)\n",
        "\n",
        "  return y_s, pred_s, pred_proba"
      ]
    },
    {
      "cell_type": "markdown",
      "metadata": {
        "id": "5WzzLMOUxEzP"
      },
      "source": [
        "### Evaluate"
      ]
    },
    {
      "cell_type": "code",
      "execution_count": 16,
      "metadata": {
        "id": "DczN9t57kD3i"
      },
      "outputs": [],
      "source": [
        "def get_test_data(input, add_feature=None):\n",
        "    print('Get testing data pairs')\n",
        "    pairs, labels, createds, updateds = input\n",
        "    data = []\n",
        "    test_labels = []\n",
        "    other_features = []\n",
        "\n",
        "    # Get link_data_sample\n",
        "    for index in tqdm(range(len(pairs))):\n",
        "        p = pairs[index]\n",
        "        u = int(p[0])\n",
        "        v = int(p[1])\n",
        "        data.append([u, v])\n",
        "        test_labels.append(labels[index])\n",
        "        if add_feature != None:\n",
        "          cre_u = createds[u]\n",
        "          cre_v = createds[v]\n",
        "          update_v = updateds[v]\n",
        "          cre_cre = abs((cre_u - cre_v).days)\n",
        "          cre_up = abs((cre_u - update_v).days)\n",
        "          if add_feature==1:\n",
        "            other_features.append([cre_cre])\n",
        "          else:\n",
        "            if add_feature==2:\n",
        "              other_features.append([cre_up])\n",
        "            else:\n",
        "              other_features.append([cre_cre, cre_up])\n",
        "        else:\n",
        "          other_features = None\n",
        "    if add_feature!=None:\n",
        "      other_features = np.array(other_features)\n",
        "      return data, test_labels, other_features\n",
        "    else:\n",
        "      return data, test_labels"
      ]
    },
    {
      "cell_type": "code",
      "execution_count": 17,
      "metadata": {
        "id": "KngCr1VHh6_9"
      },
      "outputs": [],
      "source": [
        "def evaluate(y_s, pred_s):\n",
        "  m = tf.keras.metrics.Accuracy()\n",
        "  m.update_state(y_s, pred_s)\n",
        "  print(m.result().numpy())\n",
        "\n",
        "  from sklearn.metrics import confusion_matrix, classification_report\n",
        "  print(\"Confusion maxtrix\")\n",
        "  print(confusion_matrix(y_s, pred_s))\n",
        "  print(classification_report(y_s, pred_s, digits= 2))"
      ]
    },
    {
      "cell_type": "markdown",
      "metadata": {
        "id": "sb26mmnxCbmZ"
      },
      "source": [
        "### Recommend"
      ]
    },
    {
      "cell_type": "code",
      "execution_count": 18,
      "metadata": {
        "id": "teDWebiyyA9k"
      },
      "outputs": [],
      "source": [
        "def recommend_function(createds, test_nodes, test_pairs, pred_proba):\n",
        "  total_size = len(test_nodes)\n",
        "\n",
        "  recommend_s = []\n",
        "  for i in range(total_size):\n",
        "    recommend_s.append([])\n",
        "\n",
        "\n",
        "  # Make dictionary of test_nodes and position of test_nodes in list\n",
        "  index_dictionary = dict(zip(test_nodes, range(total_size)))\n",
        "\n",
        "  print('Make recommends!')\n",
        "  for iter in tqdm(range(len(test_pairs))):\n",
        "    pair = test_pairs[iter]\n",
        "    u = int(pair[0])\n",
        "    v = int(pair[1])\n",
        "    if abs((createds[u]-createds[v]).days)<=60:\n",
        "      proba = pred_proba[iter]\n",
        "      if u in index_dictionary.keys():\n",
        "        index_1 = index_dictionary[u]\n",
        "        index_2 = v\n",
        "        recommend_s[index_1].append((index_2,proba))\n",
        "\n",
        "      if v in index_dictionary.keys():\n",
        "        index_1 = index_dictionary[v]\n",
        "        index_2 = u\n",
        "        recommend_s[index_1].append((index_2,proba))\n",
        "\n",
        "  return recommend_s"
      ]
    },
    {
      "cell_type": "code",
      "execution_count": 19,
      "metadata": {
        "id": "YGoii9pcSOVS"
      },
      "outputs": [],
      "source": [
        "def Acc(pred, gt):\n",
        "\tacc = 0\n",
        "\tfor i, item in enumerate(pred):\n",
        "\t\tif item in gt:\n",
        "\t\t\tacc += 1.0\n",
        "\t\t\tbreak\n",
        "\treturn acc"
      ]
    },
    {
      "cell_type": "code",
      "execution_count": 20,
      "metadata": {
        "id": "VO5U9mwyCZGR"
      },
      "outputs": [],
      "source": [
        "def MRR(pred, gt):\n",
        "\tmrr = 0\n",
        "\tfor i, item in enumerate(pred):\n",
        "\t\tif item in gt:\n",
        "\t\t\tmrr += 1.0/(i+1)\n",
        "\treturn mrr"
      ]
    },
    {
      "cell_type": "code",
      "execution_count": 21,
      "metadata": {
        "id": "TJ5_Y13sZ1zq"
      },
      "outputs": [],
      "source": [
        "def Precision_Recall(pred, gt):\n",
        "  right = 0\n",
        "\n",
        "  for item in gt:\n",
        "    if item in pred: # relevant\n",
        "      right+=1\n",
        "\n",
        "  if len(pred) == 0:\n",
        "    precision = 0\n",
        "  else:\n",
        "    precision = right/len(pred)\n",
        "  recall = right/len(gt)\n",
        "\n",
        "  return precision, recall"
      ]
    },
    {
      "cell_type": "code",
      "execution_count": 22,
      "metadata": {
        "id": "P3zxc2kUB_Qk"
      },
      "outputs": [],
      "source": [
        "def metrics(recommend, label):\n",
        "  acc = 0\n",
        "  mrr = 0\n",
        "  precision = 0\n",
        "  recall = 0\n",
        "  for i in range(0, len(recommend)):\n",
        "    if len(label[i])!=0:\n",
        "      acc+=Acc(recommend[i], label[i])\n",
        "      mrr+=MRR(recommend[i], label[i])\n",
        "      precision_recall = Precision_Recall(recommend[i], label[i])\n",
        "      precision+=precision_recall[0]\n",
        "      recall+=precision_recall[1]\n",
        "  return acc/(len(recommend)), mrr/(len(recommend)), precision/(len(recommend)), recall/(len(recommend))"
      ]
    },
    {
      "cell_type": "markdown",
      "metadata": {
        "id": "hCPd8rldIoAF"
      },
      "source": [
        "### List of recommend"
      ]
    },
    {
      "cell_type": "code",
      "execution_count": 23,
      "metadata": {
        "id": "J90oyNipGidm"
      },
      "outputs": [],
      "source": [
        "def get_result(project_name, path, input):\n",
        "  createds, test_nodes, all_nodes, test_pairs, pred_proba = input\n",
        "  recommend_s = recommend_function(createds, test_nodes, test_pairs, pred_proba)\n",
        "\n",
        "\n",
        "  # Sort nodes in pairs\n",
        "  recommend_s2 = []\n",
        "  c = 0\n",
        "  for recommend2 in recommend_s:\n",
        "    c+=1\n",
        "    recommend = np.array(sorted(recommend2, key = lambda x: x[1], reverse = True))\n",
        "    if len(recommend)>0:\n",
        "      recommend = np.array(recommend[:,0], dtype = int)\n",
        "    recommend_s2.append(recommend)\n",
        "\n",
        "  y_test = []\n",
        "\n",
        "  for i in range(len(test_nodes)):\n",
        "    nodes = []\n",
        "    for j in range(len(all_nodes)):\n",
        "      if graph[test_nodes[i], all_nodes[j]][1] !=0 and graph[test_nodes[i], all_nodes[j]][1] !=0:\n",
        "        nodes.append(all_nodes[j])\n",
        "    y_test.append(nodes)\n",
        "\n",
        "  f = open(path, \"a\")\n",
        "\n",
        "\n",
        "  top = 1\n",
        "  recommend_s = np.array(recommend_s2)\n",
        "\n",
        "  recommend_s = [i[:top] for i in recommend_s]\n",
        "\n",
        "  f.write('Top 1:')\n",
        "  f.write('\\n')\n",
        "  metric = metrics(recommend_s, y_test)\n",
        "  f.write('Accuracy = ' + repr(metric[0]))\n",
        "  f.write('\\n')\n",
        "  f.write('MRR = ' + repr(metric[1]))\n",
        "  f.write('\\n')\n",
        "  f.write('Recall = ' + repr(metric[3]))\n",
        "  f.write('\\n')\n",
        "\n",
        "\n",
        "  top = 2\n",
        "  recommend_s = np.array(recommend_s2)\n",
        "  recommend_s = [i[:top] for i in recommend_s]\n",
        "\n",
        "  f.write('Top 2:')\n",
        "  f.write('\\n')\n",
        "  metric = metrics(recommend_s, y_test)\n",
        "  f.write('Accuracy = ' + repr(metric[0]))\n",
        "  f.write('\\n')\n",
        "  f.write('MRR = ' + repr(metric[1]))\n",
        "  f.write('\\n')\n",
        "  f.write('Recall = ' + repr(metric[3]))\n",
        "  f.write('\\n')\n",
        "\n",
        "  top = 3\n",
        "  recommend_s = np.array(recommend_s2)\n",
        "  recommend_s = [i[:top] for i in recommend_s]\n",
        "\n",
        "  f.write('Top 3:')\n",
        "  f.write('\\n')\n",
        "  metric = metrics(recommend_s, y_test)\n",
        "  f.write('Accuracy = ' + repr(metric[0]))\n",
        "  f.write('\\n')\n",
        "  f.write('MRR = ' + repr(metric[1]))\n",
        "  f.write('\\n')\n",
        "  f.write('Recall = ' + repr(metric[3]))\n",
        "  f.write('\\n')\n",
        "\n",
        "\n",
        "  top = 5\n",
        "  recommend_s = np.array(recommend_s2)\n",
        "\n",
        "  recommend_s = [i[:top] for i in recommend_s]\n",
        "\n",
        "  f.write('Top 5:')\n",
        "  f.write('\\n')\n",
        "  metric = metrics(recommend_s, y_test)\n",
        "  f.write('Accuracy = ' + repr(metric[0]))\n",
        "  f.write('\\n')\n",
        "  f.write('MRR = ' + repr(metric[1]))\n",
        "  f.write('\\n')\n",
        "  f.write('Recall = ' + repr(metric[3]))\n",
        "  f.write('\\n')\n",
        "\n",
        "\n",
        "  top = 10\n",
        "  recommend_s = np.array(recommend_s2)\n",
        "  recommend_s = [i[:top] for i in recommend_s]\n",
        "\n",
        "  f.write('Top 10:')\n",
        "  f.write('\\n')\n",
        "  metric = metrics(recommend_s, y_test)\n",
        "  f.write('Accuracy = ' + repr(metric[0]))\n",
        "  f.write('\\n')\n",
        "  f.write('MRR = ' + repr(metric[1]))\n",
        "  f.write('\\n')\n",
        "  f.write('Recall = ' + repr(metric[3]))\n",
        "  f.write('\\n')\n",
        "\n",
        "  top = 20\n",
        "  recommend_s = np.array(recommend_s2)\n",
        "\n",
        "  recommend_s = [i[:top] for i in recommend_s]\n",
        "\n",
        "  f.write('Top 20:')\n",
        "  f.write('\\n')\n",
        "  metric = metrics(recommend_s, y_test)\n",
        "  f.write('Accuracy = ' + repr(metric[0]))\n",
        "  f.write('\\n')\n",
        "  f.write('MRR = ' + repr(metric[1]))\n",
        "  f.write('\\n')\n",
        "  f.write('Recall = ' + repr(metric[3]))\n",
        "  f.write('\\n')\n",
        "\n",
        "  top = 30\n",
        "  recommend_s = np.array(recommend_s2)\n",
        "\n",
        "  recommend_s = [i[:top] for i in recommend_s]\n",
        "\n",
        "  f.write('Top 30:')\n",
        "  f.write('\\n')\n",
        "  metric = metrics(recommend_s, y_test)\n",
        "  f.write('Accuracy = ' + repr(metric[0]))\n",
        "  f.write('\\n')\n",
        "  f.write('MRR = ' + repr(metric[1]))\n",
        "  f.write('\\n')\n",
        "  f.write('Recall = ' + repr(metric[3]))\n",
        "  f.write('\\n')\n",
        "\n",
        "  top = 50\n",
        "  recommend_s = np.array(recommend_s2)\n",
        "\n",
        "  recommend_s = [i[:top] for i in recommend_s]\n",
        "\n",
        "  f.write('Top 50:')\n",
        "  f.write('\\n')\n",
        "  metric = metrics(recommend_s, y_test)\n",
        "  f.write('Accuracy = ' + repr(metric[0]))\n",
        "  f.write('\\n')\n",
        "  f.write('MRR = ' + repr(metric[1]))\n",
        "  f.write('\\n')\n",
        "  f.write('Recall = ' + repr(metric[3]))\n",
        "  f.write('\\n')\n",
        "  f.close()"
      ]
    },
    {
      "cell_type": "markdown",
      "metadata": {
        "id": "bAk3ZnP8QTMY"
      },
      "source": [
        "# Main program"
      ]
    },
    {
      "cell_type": "markdown",
      "metadata": {
        "id": "02oiSc4QQwlA"
      },
      "source": [
        "### Start"
      ]
    },
    {
      "cell_type": "code",
      "execution_count": 26,
      "metadata": {
        "id": "nxT9qdSmQhbi"
      },
      "outputs": [],
      "source": [
        "list_project_names = [('FLUME', 1577, 5, 200, 256), ('MDLSITE', 4100, 12, 200, 256)]\n",
        "list_chosen_textual_features = [['title'], ['description'], ['summary'],\n",
        "                                ['title','description'], ['title', 'summary'], ['description', 'summary'],\n",
        "                                ['title', 'description','summary']]\n",
        "list_add_features = [None,1,2,3]"
      ]
    },
    {
      "cell_type": "code",
      "execution_count": null,
      "metadata": {
        "colab": {
          "base_uri": "https://localhost:8080/"
        },
        "id": "TaIYllMIsa5b",
        "outputId": "4f07ab2d-c47d-40d8-8321-caaca7153929"
      },
      "outputs": [
        {
          "output_type": "stream",
          "name": "stdout",
          "text": [
            "Pairing data!\n"
          ]
        },
        {
          "output_type": "stream",
          "name": "stderr",
          "text": [
            "100%|██████████| 2502/2502 [00:08<00:00, 290.86it/s]\n",
            "100%|██████████| 227/227 [00:00<00:00, 262.28it/s]\n"
          ]
        },
        {
          "output_type": "stream",
          "name": "stdout",
          "text": [
            "Loading title\n",
            "Get training data pairs\n"
          ]
        },
        {
          "output_type": "stream",
          "name": "stderr",
          "text": [
            "100%|██████████| 1266/1266 [00:00<00:00, 673343.76it/s]\n",
            "100%|██████████| 6256236/6256236 [00:05<00:00, 1068182.28it/s]\n"
          ]
        },
        {
          "output_type": "stream",
          "name": "stdout",
          "text": [
            "Get testing data pairs\n"
          ]
        },
        {
          "output_type": "stream",
          "name": "stderr",
          "text": [
            "100%|██████████| 619256/619256 [00:00<00:00, 805235.38it/s]\n"
          ]
        },
        {
          "output_type": "stream",
          "name": "stdout",
          "text": [
            "Model: \"model_1\"\n",
            "__________________________________________________________________________________________________\n",
            " Layer (type)                   Output Shape         Param #     Connected to                     \n",
            "==================================================================================================\n",
            " input_a (InputLayer)           [(None, 20, 300)]    0           []                               \n",
            "                                                                                                  \n",
            " input_b (InputLayer)           [(None, 20, 300)]    0           []                               \n",
            "                                                                                                  \n",
            " conv1d_1 (Conv1D)              (None, 18, 256)      230656      ['input_a[0][0]',                \n",
            "                                                                  'input_b[0][0]']                \n",
            "                                                                                                  \n",
            " flatten (Flatten)              (None, 4608)         0           ['conv1d_1[0][0]',               \n",
            "                                                                  'conv1d_1[1][0]']               \n",
            "                                                                                                  \n",
            " tf.concat_1 (TFOpLambda)       (None, 9216)         0           ['flatten[0][0]',                \n",
            "                                                                  'flatten[1][0]']                \n",
            "                                                                                                  \n",
            " dense_1 (Dense)                (None, 256)          2359552     ['tf.concat_1[0][0]']            \n",
            "                                                                                                  \n",
            " dense_output (Dense)           (None, 2)            514         ['dense_1[0][0]']                \n",
            "                                                                                                  \n",
            "==================================================================================================\n",
            "Total params: 2,590,722\n",
            "Trainable params: 2,590,722\n",
            "Non-trainable params: 0\n",
            "__________________________________________________________________________________________________\n",
            "Training model...\n",
            "Epoch 1/200\n",
            "5/5 [==============================] - ETA: 0s - loss: 0.4932 - categorical_accuracy: 0.5188"
          ]
        },
        {
          "output_type": "stream",
          "name": "stderr",
          "text": [
            "WARNING:tensorflow:Can save best model only with val_loss available, skipping.\n"
          ]
        },
        {
          "output_type": "stream",
          "name": "stdout",
          "text": [
            "\b\b\b\b\b\b\b\b\b\b\b\b\b\b\b\b\b\b\b\b\b\b\b\b\b\b\b\b\b\b\b\b\b\b\b\b\b\b\b\b\b\b\b\b\b\b\b\b\b\b\b\b\b\b\b\b\b\b\b\b\b\b\b\b\b\b\b\b\b\b\b\b\b\b\b\b\b\b\b\b\b\b\b\b\b\b\b\b\b\b\b\b\r5/5 [==============================] - 2s 144ms/step - loss: 0.4932 - categorical_accuracy: 0.5188\n",
            "Epoch 2/200\n",
            "5/5 [==============================] - ETA: 0s - loss: 0.4361 - categorical_accuracy: 0.5781"
          ]
        },
        {
          "output_type": "stream",
          "name": "stderr",
          "text": [
            "WARNING:tensorflow:Can save best model only with val_loss available, skipping.\n"
          ]
        },
        {
          "output_type": "stream",
          "name": "stdout",
          "text": [
            "\b\b\b\b\b\b\b\b\b\b\b\b\b\b\b\b\b\b\b\b\b\b\b\b\b\b\b\b\b\b\b\b\b\b\b\b\b\b\b\b\b\b\b\b\b\b\b\b\b\b\b\b\b\b\b\b\b\b\b\b\b\b\b\b\b\b\b\b\b\b\b\b\b\b\b\b\b\b\b\b\b\b\b\b\b\b\b\b\b\b\b\b\r5/5 [==============================] - 1s 189ms/step - loss: 0.4361 - categorical_accuracy: 0.5781\n",
            "Epoch 3/200\n",
            "5/5 [==============================] - ETA: 0s - loss: 0.4029 - categorical_accuracy: 0.6281"
          ]
        },
        {
          "output_type": "stream",
          "name": "stderr",
          "text": [
            "WARNING:tensorflow:Can save best model only with val_loss available, skipping.\n"
          ]
        },
        {
          "output_type": "stream",
          "name": "stdout",
          "text": [
            "\b\b\b\b\b\b\b\b\b\b\b\b\b\b\b\b\b\b\b\b\b\b\b\b\b\b\b\b\b\b\b\b\b\b\b\b\b\b\b\b\b\b\b\b\b\b\b\b\b\b\b\b\b\b\b\b\b\b\b\b\b\b\b\b\b\b\b\b\b\b\b\b\b\b\b\b\b\b\b\b\b\b\b\b\b\b\b\b\b\b\b\b\r5/5 [==============================] - 1s 192ms/step - loss: 0.4029 - categorical_accuracy: 0.6281\n",
            "Epoch 4/200\n",
            "5/5 [==============================] - ETA: 0s - loss: 0.4067 - categorical_accuracy: 0.6094"
          ]
        },
        {
          "output_type": "stream",
          "name": "stderr",
          "text": [
            "WARNING:tensorflow:Can save best model only with val_loss available, skipping.\n"
          ]
        },
        {
          "output_type": "stream",
          "name": "stdout",
          "text": [
            "\b\b\b\b\b\b\b\b\b\b\b\b\b\b\b\b\b\b\b\b\b\b\b\b\b\b\b\b\b\b\b\b\b\b\b\b\b\b\b\b\b\b\b\b\b\b\b\b\b\b\b\b\b\b\b\b\b\b\b\b\b\b\b\b\b\b\b\b\b\b\b\b\b\b\b\b\b\b\b\b\b\b\b\b\b\b\b\b\b\b\b\b\r5/5 [==============================] - 1s 187ms/step - loss: 0.4067 - categorical_accuracy: 0.6094\n",
            "Epoch 5/200\n",
            "5/5 [==============================] - ETA: 0s - loss: 0.3811 - categorical_accuracy: 0.6219"
          ]
        },
        {
          "output_type": "stream",
          "name": "stderr",
          "text": [
            "WARNING:tensorflow:Can save best model only with val_loss available, skipping.\n"
          ]
        },
        {
          "output_type": "stream",
          "name": "stdout",
          "text": [
            "\b\b\b\b\b\b\b\b\b\b\b\b\b\b\b\b\b\b\b\b\b\b\b\b\b\b\b\b\b\b\b\b\b\b\b\b\b\b\b\b\b\b\b\b\b\b\b\b\b\b\b\b\b\b\b\b\b\b\b\b\b\b\b\b\b\b\b\b\b\b\b\b\b\b\b\b\b\b\b\b\b\b\b\b\b\b\b\b\b\b\b\b\r5/5 [==============================] - 1s 186ms/step - loss: 0.3811 - categorical_accuracy: 0.6219\n",
            "Epoch 6/200\n",
            "5/5 [==============================] - ETA: 0s - loss: 0.3893 - categorical_accuracy: 0.6094"
          ]
        },
        {
          "output_type": "stream",
          "name": "stderr",
          "text": [
            "WARNING:tensorflow:Can save best model only with val_loss available, skipping.\n"
          ]
        },
        {
          "output_type": "stream",
          "name": "stdout",
          "text": [
            "\b\b\b\b\b\b\b\b\b\b\b\b\b\b\b\b\b\b\b\b\b\b\b\b\b\b\b\b\b\b\b\b\b\b\b\b\b\b\b\b\b\b\b\b\b\b\b\b\b\b\b\b\b\b\b\b\b\b\b\b\b\b\b\b\b\b\b\b\b\b\b\b\b\b\b\b\b\b\b\b\b\b\b\b\b\b\b\b\b\b\b\b\r5/5 [==============================] - 1s 187ms/step - loss: 0.3893 - categorical_accuracy: 0.6094\n",
            "Epoch 7/200\n",
            "5/5 [==============================] - ETA: 0s - loss: 0.3546 - categorical_accuracy: 0.6438"
          ]
        },
        {
          "output_type": "stream",
          "name": "stderr",
          "text": [
            "WARNING:tensorflow:Can save best model only with val_loss available, skipping.\n"
          ]
        },
        {
          "output_type": "stream",
          "name": "stdout",
          "text": [
            "\b\b\b\b\b\b\b\b\b\b\b\b\b\b\b\b\b\b\b\b\b\b\b\b\b\b\b\b\b\b\b\b\b\b\b\b\b\b\b\b\b\b\b\b\b\b\b\b\b\b\b\b\b\b\b\b\b\b\b\b\b\b\b\b\b\b\b\b\b\b\b\b\b\b\b\b\b\b\b\b\b\b\b\b\b\b\b\b\b\b\b\b\r5/5 [==============================] - 1s 193ms/step - loss: 0.3546 - categorical_accuracy: 0.6438\n",
            "Epoch 8/200\n",
            "5/5 [==============================] - ETA: 0s - loss: 0.3422 - categorical_accuracy: 0.6594"
          ]
        },
        {
          "output_type": "stream",
          "name": "stderr",
          "text": [
            "WARNING:tensorflow:Can save best model only with val_loss available, skipping.\n"
          ]
        },
        {
          "output_type": "stream",
          "name": "stdout",
          "text": [
            "\b\b\b\b\b\b\b\b\b\b\b\b\b\b\b\b\b\b\b\b\b\b\b\b\b\b\b\b\b\b\b\b\b\b\b\b\b\b\b\b\b\b\b\b\b\b\b\b\b\b\b\b\b\b\b\b\b\b\b\b\b\b\b\b\b\b\b\b\b\b\b\b\b\b\b\b\b\b\b\b\b\b\b\b\b\b\b\b\b\b\b\b\r5/5 [==============================] - 1s 187ms/step - loss: 0.3422 - categorical_accuracy: 0.6594\n",
            "Epoch 9/200\n",
            "5/5 [==============================] - ETA: 0s - loss: 0.3582 - categorical_accuracy: 0.6438"
          ]
        },
        {
          "output_type": "stream",
          "name": "stderr",
          "text": [
            "WARNING:tensorflow:Can save best model only with val_loss available, skipping.\n"
          ]
        },
        {
          "output_type": "stream",
          "name": "stdout",
          "text": [
            "\b\b\b\b\b\b\b\b\b\b\b\b\b\b\b\b\b\b\b\b\b\b\b\b\b\b\b\b\b\b\b\b\b\b\b\b\b\b\b\b\b\b\b\b\b\b\b\b\b\b\b\b\b\b\b\b\b\b\b\b\b\b\b\b\b\b\b\b\b\b\b\b\b\b\b\b\b\b\b\b\b\b\b\b\b\b\b\b\b\b\b\b\r5/5 [==============================] - 1s 196ms/step - loss: 0.3582 - categorical_accuracy: 0.6438\n",
            "Epoch 10/200\n",
            "5/5 [==============================] - ETA: 0s - loss: 0.3218 - categorical_accuracy: 0.6844"
          ]
        },
        {
          "output_type": "stream",
          "name": "stderr",
          "text": [
            "WARNING:tensorflow:Can save best model only with val_loss available, skipping.\n"
          ]
        },
        {
          "output_type": "stream",
          "name": "stdout",
          "text": [
            "\b\b\b\b\b\b\b\b\b\b\b\b\b\b\b\b\b\b\b\b\b\b\b\b\b\b\b\b\b\b\b\b\b\b\b\b\b\b\b\b\b\b\b\b\b\b\b\b\b\b\b\b\b\b\b\b\b\b\b\b\b\b\b\b\b\b\b\b\b\b\b\b\b\b\b\b\b\b\b\b\b\b\b\b\b\b\b\b\b\b\b\b\r5/5 [==============================] - 1s 204ms/step - loss: 0.3218 - categorical_accuracy: 0.6844\n",
            "Epoch 11/200\n",
            "5/5 [==============================] - ETA: 0s - loss: 0.3025 - categorical_accuracy: 0.7031"
          ]
        },
        {
          "output_type": "stream",
          "name": "stderr",
          "text": [
            "WARNING:tensorflow:Can save best model only with val_loss available, skipping.\n"
          ]
        },
        {
          "output_type": "stream",
          "name": "stdout",
          "text": [
            "\b\b\b\b\b\b\b\b\b\b\b\b\b\b\b\b\b\b\b\b\b\b\b\b\b\b\b\b\b\b\b\b\b\b\b\b\b\b\b\b\b\b\b\b\b\b\b\b\b\b\b\b\b\b\b\b\b\b\b\b\b\b\b\b\b\b\b\b\b\b\b\b\b\b\b\b\b\b\b\b\b\b\b\b\b\b\b\b\b\b\b\b\r5/5 [==============================] - 1s 190ms/step - loss: 0.3025 - categorical_accuracy: 0.7031\n",
            "Epoch 12/200\n",
            "5/5 [==============================] - ETA: 0s - loss: 0.2829 - categorical_accuracy: 0.7188"
          ]
        },
        {
          "output_type": "stream",
          "name": "stderr",
          "text": [
            "WARNING:tensorflow:Can save best model only with val_loss available, skipping.\n"
          ]
        },
        {
          "output_type": "stream",
          "name": "stdout",
          "text": [
            "\b\b\b\b\b\b\b\b\b\b\b\b\b\b\b\b\b\b\b\b\b\b\b\b\b\b\b\b\b\b\b\b\b\b\b\b\b\b\b\b\b\b\b\b\b\b\b\b\b\b\b\b\b\b\b\b\b\b\b\b\b\b\b\b\b\b\b\b\b\b\b\b\b\b\b\b\b\b\b\b\b\b\b\b\b\b\b\b\b\b\b\b\r5/5 [==============================] - 1s 194ms/step - loss: 0.2829 - categorical_accuracy: 0.7188\n",
            "Epoch 13/200\n",
            "5/5 [==============================] - ETA: 0s - loss: 0.2773 - categorical_accuracy: 0.7250"
          ]
        },
        {
          "output_type": "stream",
          "name": "stderr",
          "text": [
            "WARNING:tensorflow:Can save best model only with val_loss available, skipping.\n"
          ]
        },
        {
          "output_type": "stream",
          "name": "stdout",
          "text": [
            "\b\b\b\b\b\b\b\b\b\b\b\b\b\b\b\b\b\b\b\b\b\b\b\b\b\b\b\b\b\b\b\b\b\b\b\b\b\b\b\b\b\b\b\b\b\b\b\b\b\b\b\b\b\b\b\b\b\b\b\b\b\b\b\b\b\b\b\b\b\b\b\b\b\b\b\b\b\b\b\b\b\b\b\b\b\b\b\b\b\b\b\b\r5/5 [==============================] - 1s 193ms/step - loss: 0.2773 - categorical_accuracy: 0.7250\n",
            "Epoch 14/200\n",
            "5/5 [==============================] - ETA: 0s - loss: 0.2981 - categorical_accuracy: 0.7031"
          ]
        },
        {
          "output_type": "stream",
          "name": "stderr",
          "text": [
            "WARNING:tensorflow:Can save best model only with val_loss available, skipping.\n"
          ]
        },
        {
          "output_type": "stream",
          "name": "stdout",
          "text": [
            "\b\b\b\b\b\b\b\b\b\b\b\b\b\b\b\b\b\b\b\b\b\b\b\b\b\b\b\b\b\b\b\b\b\b\b\b\b\b\b\b\b\b\b\b\b\b\b\b\b\b\b\b\b\b\b\b\b\b\b\b\b\b\b\b\b\b\b\b\b\b\b\b\b\b\b\b\b\b\b\b\b\b\b\b\b\b\b\b\b\b\b\b\r5/5 [==============================] - 1s 191ms/step - loss: 0.2981 - categorical_accuracy: 0.7031\n",
            "Epoch 15/200\n",
            "5/5 [==============================] - ETA: 0s - loss: 0.3469 - categorical_accuracy: 0.6562"
          ]
        },
        {
          "output_type": "stream",
          "name": "stderr",
          "text": [
            "WARNING:tensorflow:Can save best model only with val_loss available, skipping.\n"
          ]
        },
        {
          "output_type": "stream",
          "name": "stdout",
          "text": [
            "\b\b\b\b\b\b\b\b\b\b\b\b\b\b\b\b\b\b\b\b\b\b\b\b\b\b\b\b\b\b\b\b\b\b\b\b\b\b\b\b\b\b\b\b\b\b\b\b\b\b\b\b\b\b\b\b\b\b\b\b\b\b\b\b\b\b\b\b\b\b\b\b\b\b\b\b\b\b\b\b\b\b\b\b\b\b\b\b\b\b\b\b\r5/5 [==============================] - 1s 195ms/step - loss: 0.3469 - categorical_accuracy: 0.6562\n",
            "Epoch 16/200\n",
            "5/5 [==============================] - ETA: 0s - loss: 0.3323 - categorical_accuracy: 0.6750"
          ]
        },
        {
          "output_type": "stream",
          "name": "stderr",
          "text": [
            "WARNING:tensorflow:Can save best model only with val_loss available, skipping.\n"
          ]
        },
        {
          "output_type": "stream",
          "name": "stdout",
          "text": [
            "\b\b\b\b\b\b\b\b\b\b\b\b\b\b\b\b\b\b\b\b\b\b\b\b\b\b\b\b\b\b\b\b\b\b\b\b\b\b\b\b\b\b\b\b\b\b\b\b\b\b\b\b\b\b\b\b\b\b\b\b\b\b\b\b\b\b\b\b\b\b\b\b\b\b\b\b\b\b\b\b\b\b\b\b\b\b\b\b\b\b\b\b\r5/5 [==============================] - 1s 196ms/step - loss: 0.3323 - categorical_accuracy: 0.6750\n",
            "Epoch 17/200\n",
            "5/5 [==============================] - ETA: 0s - loss: 0.2591 - categorical_accuracy: 0.7469"
          ]
        },
        {
          "output_type": "stream",
          "name": "stderr",
          "text": [
            "WARNING:tensorflow:Can save best model only with val_loss available, skipping.\n"
          ]
        },
        {
          "output_type": "stream",
          "name": "stdout",
          "text": [
            "\b\b\b\b\b\b\b\b\b\b\b\b\b\b\b\b\b\b\b\b\b\b\b\b\b\b\b\b\b\b\b\b\b\b\b\b\b\b\b\b\b\b\b\b\b\b\b\b\b\b\b\b\b\b\b\b\b\b\b\b\b\b\b\b\b\b\b\b\b\b\b\b\b\b\b\b\b\b\b\b\b\b\b\b\b\b\b\b\b\b\b\b\r5/5 [==============================] - 1s 185ms/step - loss: 0.2591 - categorical_accuracy: 0.7469\n",
            "Epoch 18/200\n",
            "5/5 [==============================] - ETA: 0s - loss: 0.2978 - categorical_accuracy: 0.6938"
          ]
        },
        {
          "output_type": "stream",
          "name": "stderr",
          "text": [
            "WARNING:tensorflow:Can save best model only with val_loss available, skipping.\n"
          ]
        },
        {
          "output_type": "stream",
          "name": "stdout",
          "text": [
            "\b\b\b\b\b\b\b\b\b\b\b\b\b\b\b\b\b\b\b\b\b\b\b\b\b\b\b\b\b\b\b\b\b\b\b\b\b\b\b\b\b\b\b\b\b\b\b\b\b\b\b\b\b\b\b\b\b\b\b\b\b\b\b\b\b\b\b\b\b\b\b\b\b\b\b\b\b\b\b\b\b\b\b\b\b\b\b\b\b\b\b\b\r5/5 [==============================] - 1s 190ms/step - loss: 0.2978 - categorical_accuracy: 0.6938\n",
            "Epoch 19/200\n",
            "5/5 [==============================] - ETA: 0s - loss: 0.2429 - categorical_accuracy: 0.7531"
          ]
        },
        {
          "output_type": "stream",
          "name": "stderr",
          "text": [
            "WARNING:tensorflow:Can save best model only with val_loss available, skipping.\n"
          ]
        },
        {
          "output_type": "stream",
          "name": "stdout",
          "text": [
            "\b\b\b\b\b\b\b\b\b\b\b\b\b\b\b\b\b\b\b\b\b\b\b\b\b\b\b\b\b\b\b\b\b\b\b\b\b\b\b\b\b\b\b\b\b\b\b\b\b\b\b\b\b\b\b\b\b\b\b\b\b\b\b\b\b\b\b\b\b\b\b\b\b\b\b\b\b\b\b\b\b\b\b\b\b\b\b\b\b\b\b\b\r5/5 [==============================] - 1s 186ms/step - loss: 0.2429 - categorical_accuracy: 0.7531\n",
            "Epoch 20/200\n",
            "5/5 [==============================] - ETA: 0s - loss: 0.2864 - categorical_accuracy: 0.7125"
          ]
        },
        {
          "output_type": "stream",
          "name": "stderr",
          "text": [
            "WARNING:tensorflow:Can save best model only with val_loss available, skipping.\n"
          ]
        },
        {
          "output_type": "stream",
          "name": "stdout",
          "text": [
            "\b\b\b\b\b\b\b\b\b\b\b\b\b\b\b\b\b\b\b\b\b\b\b\b\b\b\b\b\b\b\b\b\b\b\b\b\b\b\b\b\b\b\b\b\b\b\b\b\b\b\b\b\b\b\b\b\b\b\b\b\b\b\b\b\b\b\b\b\b\b\b\b\b\b\b\b\b\b\b\b\b\b\b\b\b\b\b\b\b\b\b\b\r5/5 [==============================] - 1s 192ms/step - loss: 0.2864 - categorical_accuracy: 0.7125\n",
            "Epoch 21/200\n",
            "5/5 [==============================] - ETA: 0s - loss: 0.2957 - categorical_accuracy: 0.7125"
          ]
        },
        {
          "output_type": "stream",
          "name": "stderr",
          "text": [
            "WARNING:tensorflow:Can save best model only with val_loss available, skipping.\n"
          ]
        },
        {
          "output_type": "stream",
          "name": "stdout",
          "text": [
            "\b\b\b\b\b\b\b\b\b\b\b\b\b\b\b\b\b\b\b\b\b\b\b\b\b\b\b\b\b\b\b\b\b\b\b\b\b\b\b\b\b\b\b\b\b\b\b\b\b\b\b\b\b\b\b\b\b\b\b\b\b\b\b\b\b\b\b\b\b\b\b\b\b\b\b\b\b\b\b\b\b\b\b\b\b\b\b\b\b\b\b\b\r5/5 [==============================] - 1s 193ms/step - loss: 0.2957 - categorical_accuracy: 0.7125\n",
            "Epoch 22/200\n",
            "5/5 [==============================] - ETA: 0s - loss: 0.2725 - categorical_accuracy: 0.7375"
          ]
        },
        {
          "output_type": "stream",
          "name": "stderr",
          "text": [
            "WARNING:tensorflow:Can save best model only with val_loss available, skipping.\n"
          ]
        },
        {
          "output_type": "stream",
          "name": "stdout",
          "text": [
            "\b\b\b\b\b\b\b\b\b\b\b\b\b\b\b\b\b\b\b\b\b\b\b\b\b\b\b\b\b\b\b\b\b\b\b\b\b\b\b\b\b\b\b\b\b\b\b\b\b\b\b\b\b\b\b\b\b\b\b\b\b\b\b\b\b\b\b\b\b\b\b\b\b\b\b\b\b\b\b\b\b\b\b\b\b\b\b\b\b\b\b\b\r5/5 [==============================] - 1s 196ms/step - loss: 0.2725 - categorical_accuracy: 0.7375\n",
            "Epoch 23/200\n",
            "5/5 [==============================] - ETA: 0s - loss: 0.2976 - categorical_accuracy: 0.7000"
          ]
        },
        {
          "output_type": "stream",
          "name": "stderr",
          "text": [
            "WARNING:tensorflow:Can save best model only with val_loss available, skipping.\n"
          ]
        },
        {
          "output_type": "stream",
          "name": "stdout",
          "text": [
            "\b\b\b\b\b\b\b\b\b\b\b\b\b\b\b\b\b\b\b\b\b\b\b\b\b\b\b\b\b\b\b\b\b\b\b\b\b\b\b\b\b\b\b\b\b\b\b\b\b\b\b\b\b\b\b\b\b\b\b\b\b\b\b\b\b\b\b\b\b\b\b\b\b\b\b\b\b\b\b\b\b\b\b\b\b\b\b\b\b\b\b\b\r5/5 [==============================] - 1s 200ms/step - loss: 0.2976 - categorical_accuracy: 0.7000\n",
            "Epoch 24/200\n",
            "5/5 [==============================] - ETA: 0s - loss: 0.2577 - categorical_accuracy: 0.7531"
          ]
        },
        {
          "output_type": "stream",
          "name": "stderr",
          "text": [
            "WARNING:tensorflow:Can save best model only with val_loss available, skipping.\n"
          ]
        },
        {
          "output_type": "stream",
          "name": "stdout",
          "text": [
            "\b\b\b\b\b\b\b\b\b\b\b\b\b\b\b\b\b\b\b\b\b\b\b\b\b\b\b\b\b\b\b\b\b\b\b\b\b\b\b\b\b\b\b\b\b\b\b\b\b\b\b\b\b\b\b\b\b\b\b\b\b\b\b\b\b\b\b\b\b\b\b\b\b\b\b\b\b\b\b\b\b\b\b\b\b\b\b\b\b\b\b\b\r5/5 [==============================] - 1s 211ms/step - loss: 0.2577 - categorical_accuracy: 0.7531\n",
            "Epoch 25/200\n",
            "5/5 [==============================] - ETA: 0s - loss: 0.2328 - categorical_accuracy: 0.7719"
          ]
        },
        {
          "output_type": "stream",
          "name": "stderr",
          "text": [
            "WARNING:tensorflow:Can save best model only with val_loss available, skipping.\n"
          ]
        },
        {
          "output_type": "stream",
          "name": "stdout",
          "text": [
            "\b\b\b\b\b\b\b\b\b\b\b\b\b\b\b\b\b\b\b\b\b\b\b\b\b\b\b\b\b\b\b\b\b\b\b\b\b\b\b\b\b\b\b\b\b\b\b\b\b\b\b\b\b\b\b\b\b\b\b\b\b\b\b\b\b\b\b\b\b\b\b\b\b\b\b\b\b\b\b\b\b\b\b\b\b\b\b\b\b\b\b\b\r5/5 [==============================] - 1s 198ms/step - loss: 0.2328 - categorical_accuracy: 0.7719\n",
            "Epoch 26/200\n",
            "5/5 [==============================] - ETA: 0s - loss: 0.2169 - categorical_accuracy: 0.7875"
          ]
        },
        {
          "output_type": "stream",
          "name": "stderr",
          "text": [
            "WARNING:tensorflow:Can save best model only with val_loss available, skipping.\n"
          ]
        },
        {
          "output_type": "stream",
          "name": "stdout",
          "text": [
            "\b\b\b\b\b\b\b\b\b\b\b\b\b\b\b\b\b\b\b\b\b\b\b\b\b\b\b\b\b\b\b\b\b\b\b\b\b\b\b\b\b\b\b\b\b\b\b\b\b\b\b\b\b\b\b\b\b\b\b\b\b\b\b\b\b\b\b\b\b\b\b\b\b\b\b\b\b\b\b\b\b\b\b\b\b\b\b\b\b\b\b\b\r5/5 [==============================] - 1s 186ms/step - loss: 0.2169 - categorical_accuracy: 0.7875\n",
            "Epoch 27/200\n",
            "5/5 [==============================] - ETA: 0s - loss: 0.2730 - categorical_accuracy: 0.7375"
          ]
        },
        {
          "output_type": "stream",
          "name": "stderr",
          "text": [
            "WARNING:tensorflow:Can save best model only with val_loss available, skipping.\n"
          ]
        },
        {
          "output_type": "stream",
          "name": "stdout",
          "text": [
            "\b\b\b\b\b\b\b\b\b\b\b\b\b\b\b\b\b\b\b\b\b\b\b\b\b\b\b\b\b\b\b\b\b\b\b\b\b\b\b\b\b\b\b\b\b\b\b\b\b\b\b\b\b\b\b\b\b\b\b\b\b\b\b\b\b\b\b\b\b\b\b\b\b\b\b\b\b\b\b\b\b\b\b\b\b\b\b\b\b\b\b\b\r5/5 [==============================] - 1s 199ms/step - loss: 0.2730 - categorical_accuracy: 0.7375\n",
            "Epoch 28/200\n",
            "5/5 [==============================] - ETA: 0s - loss: 0.2425 - categorical_accuracy: 0.7656"
          ]
        },
        {
          "output_type": "stream",
          "name": "stderr",
          "text": [
            "WARNING:tensorflow:Can save best model only with val_loss available, skipping.\n"
          ]
        },
        {
          "output_type": "stream",
          "name": "stdout",
          "text": [
            "\b\b\b\b\b\b\b\b\b\b\b\b\b\b\b\b\b\b\b\b\b\b\b\b\b\b\b\b\b\b\b\b\b\b\b\b\b\b\b\b\b\b\b\b\b\b\b\b\b\b\b\b\b\b\b\b\b\b\b\b\b\b\b\b\b\b\b\b\b\b\b\b\b\b\b\b\b\b\b\b\b\b\b\b\b\b\b\b\b\b\b\b\r5/5 [==============================] - 1s 198ms/step - loss: 0.2425 - categorical_accuracy: 0.7656\n",
            "Epoch 29/200\n",
            "5/5 [==============================] - ETA: 0s - loss: 0.1957 - categorical_accuracy: 0.8062"
          ]
        },
        {
          "output_type": "stream",
          "name": "stderr",
          "text": [
            "WARNING:tensorflow:Can save best model only with val_loss available, skipping.\n"
          ]
        },
        {
          "output_type": "stream",
          "name": "stdout",
          "text": [
            "\b\b\b\b\b\b\b\b\b\b\b\b\b\b\b\b\b\b\b\b\b\b\b\b\b\b\b\b\b\b\b\b\b\b\b\b\b\b\b\b\b\b\b\b\b\b\b\b\b\b\b\b\b\b\b\b\b\b\b\b\b\b\b\b\b\b\b\b\b\b\b\b\b\b\b\b\b\b\b\b\b\b\b\b\b\b\b\b\b\b\b\b\r5/5 [==============================] - 1s 193ms/step - loss: 0.1957 - categorical_accuracy: 0.8062\n",
            "Epoch 30/200\n",
            "5/5 [==============================] - ETA: 0s - loss: 0.2242 - categorical_accuracy: 0.7781"
          ]
        },
        {
          "output_type": "stream",
          "name": "stderr",
          "text": [
            "WARNING:tensorflow:Can save best model only with val_loss available, skipping.\n"
          ]
        },
        {
          "output_type": "stream",
          "name": "stdout",
          "text": [
            "\b\b\b\b\b\b\b\b\b\b\b\b\b\b\b\b\b\b\b\b\b\b\b\b\b\b\b\b\b\b\b\b\b\b\b\b\b\b\b\b\b\b\b\b\b\b\b\b\b\b\b\b\b\b\b\b\b\b\b\b\b\b\b\b\b\b\b\b\b\b\b\b\b\b\b\b\b\b\b\b\b\b\b\b\b\b\b\b\b\b\b\b\r5/5 [==============================] - 1s 186ms/step - loss: 0.2242 - categorical_accuracy: 0.7781\n",
            "Epoch 31/200\n",
            "5/5 [==============================] - ETA: 0s - loss: 0.2383 - categorical_accuracy: 0.7594"
          ]
        },
        {
          "output_type": "stream",
          "name": "stderr",
          "text": [
            "WARNING:tensorflow:Can save best model only with val_loss available, skipping.\n"
          ]
        },
        {
          "output_type": "stream",
          "name": "stdout",
          "text": [
            "\b\b\b\b\b\b\b\b\b\b\b\b\b\b\b\b\b\b\b\b\b\b\b\b\b\b\b\b\b\b\b\b\b\b\b\b\b\b\b\b\b\b\b\b\b\b\b\b\b\b\b\b\b\b\b\b\b\b\b\b\b\b\b\b\b\b\b\b\b\b\b\b\b\b\b\b\b\b\b\b\b\b\b\b\b\b\b\b\b\b\b\b\r5/5 [==============================] - 1s 193ms/step - loss: 0.2383 - categorical_accuracy: 0.7594\n",
            "Epoch 32/200\n",
            "5/5 [==============================] - ETA: 0s - loss: 0.2421 - categorical_accuracy: 0.7563"
          ]
        },
        {
          "output_type": "stream",
          "name": "stderr",
          "text": [
            "WARNING:tensorflow:Can save best model only with val_loss available, skipping.\n"
          ]
        },
        {
          "output_type": "stream",
          "name": "stdout",
          "text": [
            "\b\b\b\b\b\b\b\b\b\b\b\b\b\b\b\b\b\b\b\b\b\b\b\b\b\b\b\b\b\b\b\b\b\b\b\b\b\b\b\b\b\b\b\b\b\b\b\b\b\b\b\b\b\b\b\b\b\b\b\b\b\b\b\b\b\b\b\b\b\b\b\b\b\b\b\b\b\b\b\b\b\b\b\b\b\b\b\b\b\b\b\b\r5/5 [==============================] - 1s 193ms/step - loss: 0.2421 - categorical_accuracy: 0.7563\n",
            "Epoch 33/200\n",
            "5/5 [==============================] - ETA: 0s - loss: 0.1737 - categorical_accuracy: 0.8344"
          ]
        },
        {
          "output_type": "stream",
          "name": "stderr",
          "text": [
            "WARNING:tensorflow:Can save best model only with val_loss available, skipping.\n"
          ]
        },
        {
          "output_type": "stream",
          "name": "stdout",
          "text": [
            "\b\b\b\b\b\b\b\b\b\b\b\b\b\b\b\b\b\b\b\b\b\b\b\b\b\b\b\b\b\b\b\b\b\b\b\b\b\b\b\b\b\b\b\b\b\b\b\b\b\b\b\b\b\b\b\b\b\b\b\b\b\b\b\b\b\b\b\b\b\b\b\b\b\b\b\b\b\b\b\b\b\b\b\b\b\b\b\b\b\b\b\b\r5/5 [==============================] - 1s 189ms/step - loss: 0.1737 - categorical_accuracy: 0.8344\n",
            "Epoch 34/200\n",
            "5/5 [==============================] - ETA: 0s - loss: 0.2316 - categorical_accuracy: 0.7750"
          ]
        },
        {
          "output_type": "stream",
          "name": "stderr",
          "text": [
            "WARNING:tensorflow:Can save best model only with val_loss available, skipping.\n"
          ]
        },
        {
          "output_type": "stream",
          "name": "stdout",
          "text": [
            "\b\b\b\b\b\b\b\b\b\b\b\b\b\b\b\b\b\b\b\b\b\b\b\b\b\b\b\b\b\b\b\b\b\b\b\b\b\b\b\b\b\b\b\b\b\b\b\b\b\b\b\b\b\b\b\b\b\b\b\b\b\b\b\b\b\b\b\b\b\b\b\b\b\b\b\b\b\b\b\b\b\b\b\b\b\b\b\b\b\b\b\b\r5/5 [==============================] - 1s 188ms/step - loss: 0.2316 - categorical_accuracy: 0.7750\n",
            "Epoch 35/200\n",
            "5/5 [==============================] - ETA: 0s - loss: 0.2251 - categorical_accuracy: 0.7844"
          ]
        },
        {
          "output_type": "stream",
          "name": "stderr",
          "text": [
            "WARNING:tensorflow:Can save best model only with val_loss available, skipping.\n"
          ]
        },
        {
          "output_type": "stream",
          "name": "stdout",
          "text": [
            "\b\b\b\b\b\b\b\b\b\b\b\b\b\b\b\b\b\b\b\b\b\b\b\b\b\b\b\b\b\b\b\b\b\b\b\b\b\b\b\b\b\b\b\b\b\b\b\b\b\b\b\b\b\b\b\b\b\b\b\b\b\b\b\b\b\b\b\b\b\b\b\b\b\b\b\b\b\b\b\b\b\b\b\b\b\b\b\b\b\b\b\b\r5/5 [==============================] - 1s 189ms/step - loss: 0.2251 - categorical_accuracy: 0.7844\n",
            "Epoch 36/200\n",
            "5/5 [==============================] - ETA: 0s - loss: 0.2268 - categorical_accuracy: 0.7719"
          ]
        },
        {
          "output_type": "stream",
          "name": "stderr",
          "text": [
            "WARNING:tensorflow:Can save best model only with val_loss available, skipping.\n"
          ]
        },
        {
          "output_type": "stream",
          "name": "stdout",
          "text": [
            "\b\b\b\b\b\b\b\b\b\b\b\b\b\b\b\b\b\b\b\b\b\b\b\b\b\b\b\b\b\b\b\b\b\b\b\b\b\b\b\b\b\b\b\b\b\b\b\b\b\b\b\b\b\b\b\b\b\b\b\b\b\b\b\b\b\b\b\b\b\b\b\b\b\b\b\b\b\b\b\b\b\b\b\b\b\b\b\b\b\b\b\b\r5/5 [==============================] - 1s 195ms/step - loss: 0.2268 - categorical_accuracy: 0.7719\n",
            "Epoch 37/200\n",
            "5/5 [==============================] - ETA: 0s - loss: 0.2492 - categorical_accuracy: 0.7500"
          ]
        },
        {
          "output_type": "stream",
          "name": "stderr",
          "text": [
            "WARNING:tensorflow:Can save best model only with val_loss available, skipping.\n"
          ]
        },
        {
          "output_type": "stream",
          "name": "stdout",
          "text": [
            "\b\b\b\b\b\b\b\b\b\b\b\b\b\b\b\b\b\b\b\b\b\b\b\b\b\b\b\b\b\b\b\b\b\b\b\b\b\b\b\b\b\b\b\b\b\b\b\b\b\b\b\b\b\b\b\b\b\b\b\b\b\b\b\b\b\b\b\b\b\b\b\b\b\b\b\b\b\b\b\b\b\b\b\b\b\b\b\b\b\b\b\b\r5/5 [==============================] - 1s 198ms/step - loss: 0.2492 - categorical_accuracy: 0.7500\n",
            "Epoch 38/200\n",
            "5/5 [==============================] - ETA: 0s - loss: 0.2440 - categorical_accuracy: 0.7656"
          ]
        },
        {
          "output_type": "stream",
          "name": "stderr",
          "text": [
            "WARNING:tensorflow:Can save best model only with val_loss available, skipping.\n"
          ]
        },
        {
          "output_type": "stream",
          "name": "stdout",
          "text": [
            "\b\b\b\b\b\b\b\b\b\b\b\b\b\b\b\b\b\b\b\b\b\b\b\b\b\b\b\b\b\b\b\b\b\b\b\b\b\b\b\b\b\b\b\b\b\b\b\b\b\b\b\b\b\b\b\b\b\b\b\b\b\b\b\b\b\b\b\b\b\b\b\b\b\b\b\b\b\b\b\b\b\b\b\b\b\b\b\b\b\b\b\b\r5/5 [==============================] - 1s 206ms/step - loss: 0.2440 - categorical_accuracy: 0.7656\n",
            "Epoch 39/200\n",
            "5/5 [==============================] - ETA: 0s - loss: 0.2071 - categorical_accuracy: 0.7969"
          ]
        },
        {
          "output_type": "stream",
          "name": "stderr",
          "text": [
            "WARNING:tensorflow:Can save best model only with val_loss available, skipping.\n"
          ]
        },
        {
          "output_type": "stream",
          "name": "stdout",
          "text": [
            "\b\b\b\b\b\b\b\b\b\b\b\b\b\b\b\b\b\b\b\b\b\b\b\b\b\b\b\b\b\b\b\b\b\b\b\b\b\b\b\b\b\b\b\b\b\b\b\b\b\b\b\b\b\b\b\b\b\b\b\b\b\b\b\b\b\b\b\b\b\b\b\b\b\b\b\b\b\b\b\b\b\b\b\b\b\b\b\b\b\b\b\b\r5/5 [==============================] - 1s 198ms/step - loss: 0.2071 - categorical_accuracy: 0.7969\n",
            "Epoch 40/200\n",
            "5/5 [==============================] - ETA: 0s - loss: 0.2414 - categorical_accuracy: 0.7625"
          ]
        },
        {
          "output_type": "stream",
          "name": "stderr",
          "text": [
            "WARNING:tensorflow:Can save best model only with val_loss available, skipping.\n"
          ]
        },
        {
          "output_type": "stream",
          "name": "stdout",
          "text": [
            "\b\b\b\b\b\b\b\b\b\b\b\b\b\b\b\b\b\b\b\b\b\b\b\b\b\b\b\b\b\b\b\b\b\b\b\b\b\b\b\b\b\b\b\b\b\b\b\b\b\b\b\b\b\b\b\b\b\b\b\b\b\b\b\b\b\b\b\b\b\b\b\b\b\b\b\b\b\b\b\b\b\b\b\b\b\b\b\b\b\b\b\b\r5/5 [==============================] - 1s 186ms/step - loss: 0.2414 - categorical_accuracy: 0.7625\n",
            "Epoch 41/200\n",
            "5/5 [==============================] - ETA: 0s - loss: 0.2244 - categorical_accuracy: 0.7781"
          ]
        },
        {
          "output_type": "stream",
          "name": "stderr",
          "text": [
            "WARNING:tensorflow:Can save best model only with val_loss available, skipping.\n"
          ]
        },
        {
          "output_type": "stream",
          "name": "stdout",
          "text": [
            "\b\b\b\b\b\b\b\b\b\b\b\b\b\b\b\b\b\b\b\b\b\b\b\b\b\b\b\b\b\b\b\b\b\b\b\b\b\b\b\b\b\b\b\b\b\b\b\b\b\b\b\b\b\b\b\b\b\b\b\b\b\b\b\b\b\b\b\b\b\b\b\b\b\b\b\b\b\b\b\b\b\b\b\b\b\b\b\b\b\b\b\b\r5/5 [==============================] - 1s 198ms/step - loss: 0.2244 - categorical_accuracy: 0.7781\n",
            "Epoch 42/200\n",
            "5/5 [==============================] - ETA: 0s - loss: 0.2078 - categorical_accuracy: 0.8000"
          ]
        },
        {
          "output_type": "stream",
          "name": "stderr",
          "text": [
            "WARNING:tensorflow:Can save best model only with val_loss available, skipping.\n"
          ]
        },
        {
          "output_type": "stream",
          "name": "stdout",
          "text": [
            "\b\b\b\b\b\b\b\b\b\b\b\b\b\b\b\b\b\b\b\b\b\b\b\b\b\b\b\b\b\b\b\b\b\b\b\b\b\b\b\b\b\b\b\b\b\b\b\b\b\b\b\b\b\b\b\b\b\b\b\b\b\b\b\b\b\b\b\b\b\b\b\b\b\b\b\b\b\b\b\b\b\b\b\b\b\b\b\b\b\b\b\b\r5/5 [==============================] - 1s 190ms/step - loss: 0.2078 - categorical_accuracy: 0.8000\n",
            "Epoch 43/200\n",
            "5/5 [==============================] - ETA: 0s - loss: 0.2174 - categorical_accuracy: 0.7906"
          ]
        },
        {
          "output_type": "stream",
          "name": "stderr",
          "text": [
            "WARNING:tensorflow:Can save best model only with val_loss available, skipping.\n"
          ]
        },
        {
          "output_type": "stream",
          "name": "stdout",
          "text": [
            "\b\b\b\b\b\b\b\b\b\b\b\b\b\b\b\b\b\b\b\b\b\b\b\b\b\b\b\b\b\b\b\b\b\b\b\b\b\b\b\b\b\b\b\b\b\b\b\b\b\b\b\b\b\b\b\b\b\b\b\b\b\b\b\b\b\b\b\b\b\b\b\b\b\b\b\b\b\b\b\b\b\b\b\b\b\b\b\b\b\b\b\b\r5/5 [==============================] - 1s 186ms/step - loss: 0.2174 - categorical_accuracy: 0.7906\n",
            "Epoch 44/200\n",
            "5/5 [==============================] - ETA: 0s - loss: 0.1581 - categorical_accuracy: 0.8438"
          ]
        },
        {
          "output_type": "stream",
          "name": "stderr",
          "text": [
            "WARNING:tensorflow:Can save best model only with val_loss available, skipping.\n"
          ]
        },
        {
          "output_type": "stream",
          "name": "stdout",
          "text": [
            "\b\b\b\b\b\b\b\b\b\b\b\b\b\b\b\b\b\b\b\b\b\b\b\b\b\b\b\b\b\b\b\b\b\b\b\b\b\b\b\b\b\b\b\b\b\b\b\b\b\b\b\b\b\b\b\b\b\b\b\b\b\b\b\b\b\b\b\b\b\b\b\b\b\b\b\b\b\b\b\b\b\b\b\b\b\b\b\b\b\b\b\b\r5/5 [==============================] - 1s 184ms/step - loss: 0.1581 - categorical_accuracy: 0.8438\n",
            "Epoch 45/200\n",
            "5/5 [==============================] - ETA: 0s - loss: 0.2091 - categorical_accuracy: 0.7906"
          ]
        },
        {
          "output_type": "stream",
          "name": "stderr",
          "text": [
            "WARNING:tensorflow:Can save best model only with val_loss available, skipping.\n"
          ]
        },
        {
          "output_type": "stream",
          "name": "stdout",
          "text": [
            "\b\b\b\b\b\b\b\b\b\b\b\b\b\b\b\b\b\b\b\b\b\b\b\b\b\b\b\b\b\b\b\b\b\b\b\b\b\b\b\b\b\b\b\b\b\b\b\b\b\b\b\b\b\b\b\b\b\b\b\b\b\b\b\b\b\b\b\b\b\b\b\b\b\b\b\b\b\b\b\b\b\b\b\b\b\b\b\b\b\b\b\b\r5/5 [==============================] - 1s 187ms/step - loss: 0.2091 - categorical_accuracy: 0.7906\n",
            "Epoch 46/200\n",
            "5/5 [==============================] - ETA: 0s - loss: 0.2087 - categorical_accuracy: 0.7969"
          ]
        },
        {
          "output_type": "stream",
          "name": "stderr",
          "text": [
            "WARNING:tensorflow:Can save best model only with val_loss available, skipping.\n"
          ]
        },
        {
          "output_type": "stream",
          "name": "stdout",
          "text": [
            "\b\b\b\b\b\b\b\b\b\b\b\b\b\b\b\b\b\b\b\b\b\b\b\b\b\b\b\b\b\b\b\b\b\b\b\b\b\b\b\b\b\b\b\b\b\b\b\b\b\b\b\b\b\b\b\b\b\b\b\b\b\b\b\b\b\b\b\b\b\b\b\b\b\b\b\b\b\b\b\b\b\b\b\b\b\b\b\b\b\b\b\b\r5/5 [==============================] - 1s 189ms/step - loss: 0.2087 - categorical_accuracy: 0.7969\n",
            "Epoch 47/200\n",
            "5/5 [==============================] - ETA: 0s - loss: 0.1929 - categorical_accuracy: 0.8125"
          ]
        },
        {
          "output_type": "stream",
          "name": "stderr",
          "text": [
            "WARNING:tensorflow:Can save best model only with val_loss available, skipping.\n"
          ]
        },
        {
          "output_type": "stream",
          "name": "stdout",
          "text": [
            "\b\b\b\b\b\b\b\b\b\b\b\b\b\b\b\b\b\b\b\b\b\b\b\b\b\b\b\b\b\b\b\b\b\b\b\b\b\b\b\b\b\b\b\b\b\b\b\b\b\b\b\b\b\b\b\b\b\b\b\b\b\b\b\b\b\b\b\b\b\b\b\b\b\b\b\b\b\b\b\b\b\b\b\b\b\b\b\b\b\b\b\b\r5/5 [==============================] - 1s 185ms/step - loss: 0.1929 - categorical_accuracy: 0.8125\n",
            "Epoch 48/200\n",
            "5/5 [==============================] - ETA: 0s - loss: 0.2057 - categorical_accuracy: 0.8031"
          ]
        },
        {
          "output_type": "stream",
          "name": "stderr",
          "text": [
            "WARNING:tensorflow:Can save best model only with val_loss available, skipping.\n"
          ]
        },
        {
          "output_type": "stream",
          "name": "stdout",
          "text": [
            "\b\b\b\b\b\b\b\b\b\b\b\b\b\b\b\b\b\b\b\b\b\b\b\b\b\b\b\b\b\b\b\b\b\b\b\b\b\b\b\b\b\b\b\b\b\b\b\b\b\b\b\b\b\b\b\b\b\b\b\b\b\b\b\b\b\b\b\b\b\b\b\b\b\b\b\b\b\b\b\b\b\b\b\b\b\b\b\b\b\b\b\b\r5/5 [==============================] - 1s 193ms/step - loss: 0.2057 - categorical_accuracy: 0.8031\n",
            "Epoch 49/200\n",
            "5/5 [==============================] - ETA: 0s - loss: 0.2292 - categorical_accuracy: 0.7688"
          ]
        },
        {
          "output_type": "stream",
          "name": "stderr",
          "text": [
            "WARNING:tensorflow:Can save best model only with val_loss available, skipping.\n"
          ]
        },
        {
          "output_type": "stream",
          "name": "stdout",
          "text": [
            "\b\b\b\b\b\b\b\b\b\b\b\b\b\b\b\b\b\b\b\b\b\b\b\b\b\b\b\b\b\b\b\b\b\b\b\b\b\b\b\b\b\b\b\b\b\b\b\b\b\b\b\b\b\b\b\b\b\b\b\b\b\b\b\b\b\b\b\b\b\b\b\b\b\b\b\b\b\b\b\b\b\b\b\b\b\b\b\b\b\b\b\b\r5/5 [==============================] - 1s 195ms/step - loss: 0.2292 - categorical_accuracy: 0.7688\n",
            "Epoch 50/200\n",
            "5/5 [==============================] - ETA: 0s - loss: 0.2419 - categorical_accuracy: 0.7531"
          ]
        },
        {
          "output_type": "stream",
          "name": "stderr",
          "text": [
            "WARNING:tensorflow:Can save best model only with val_loss available, skipping.\n"
          ]
        },
        {
          "output_type": "stream",
          "name": "stdout",
          "text": [
            "\b\b\b\b\b\b\b\b\b\b\b\b\b\b\b\b\b\b\b\b\b\b\b\b\b\b\b\b\b\b\b\b\b\b\b\b\b\b\b\b\b\b\b\b\b\b\b\b\b\b\b\b\b\b\b\b\b\b\b\b\b\b\b\b\b\b\b\b\b\b\b\b\b\b\b\b\b\b\b\b\b\b\b\b\b\b\b\b\b\b\b\b\r5/5 [==============================] - 1s 195ms/step - loss: 0.2419 - categorical_accuracy: 0.7531\n",
            "Epoch 51/200\n",
            "5/5 [==============================] - ETA: 0s - loss: 0.1994 - categorical_accuracy: 0.8031"
          ]
        },
        {
          "output_type": "stream",
          "name": "stderr",
          "text": [
            "WARNING:tensorflow:Can save best model only with val_loss available, skipping.\n"
          ]
        },
        {
          "output_type": "stream",
          "name": "stdout",
          "text": [
            "\b\b\b\b\b\b\b\b\b\b\b\b\b\b\b\b\b\b\b\b\b\b\b\b\b\b\b\b\b\b\b\b\b\b\b\b\b\b\b\b\b\b\b\b\b\b\b\b\b\b\b\b\b\b\b\b\b\b\b\b\b\b\b\b\b\b\b\b\b\b\b\b\b\b\b\b\b\b\b\b\b\b\b\b\b\b\b\b\b\b\b\b\r5/5 [==============================] - 1s 200ms/step - loss: 0.1994 - categorical_accuracy: 0.8031\n",
            "Epoch 52/200\n",
            "5/5 [==============================] - ETA: 0s - loss: 0.1844 - categorical_accuracy: 0.8188"
          ]
        },
        {
          "output_type": "stream",
          "name": "stderr",
          "text": [
            "WARNING:tensorflow:Can save best model only with val_loss available, skipping.\n"
          ]
        },
        {
          "output_type": "stream",
          "name": "stdout",
          "text": [
            "\b\b\b\b\b\b\b\b\b\b\b\b\b\b\b\b\b\b\b\b\b\b\b\b\b\b\b\b\b\b\b\b\b\b\b\b\b\b\b\b\b\b\b\b\b\b\b\b\b\b\b\b\b\b\b\b\b\b\b\b\b\b\b\b\b\b\b\b\b\b\b\b\b\b\b\b\b\b\b\b\b\b\b\b\b\b\b\b\b\b\b\b\r5/5 [==============================] - 1s 208ms/step - loss: 0.1844 - categorical_accuracy: 0.8188\n",
            "Epoch 53/200\n",
            "5/5 [==============================] - ETA: 0s - loss: 0.2011 - categorical_accuracy: 0.7937"
          ]
        },
        {
          "output_type": "stream",
          "name": "stderr",
          "text": [
            "WARNING:tensorflow:Can save best model only with val_loss available, skipping.\n"
          ]
        },
        {
          "output_type": "stream",
          "name": "stdout",
          "text": [
            "\b\b\b\b\b\b\b\b\b\b\b\b\b\b\b\b\b\b\b\b\b\b\b\b\b\b\b\b\b\b\b\b\b\b\b\b\b\b\b\b\b\b\b\b\b\b\b\b\b\b\b\b\b\b\b\b\b\b\b\b\b\b\b\b\b\b\b\b\b\b\b\b\b\b\b\b\b\b\b\b\b\b\b\b\b\b\b\b\b\b\b\b\r5/5 [==============================] - 1s 208ms/step - loss: 0.2011 - categorical_accuracy: 0.7937\n",
            "Epoch 54/200\n",
            "5/5 [==============================] - ETA: 0s - loss: 0.2085 - categorical_accuracy: 0.7969"
          ]
        },
        {
          "output_type": "stream",
          "name": "stderr",
          "text": [
            "WARNING:tensorflow:Can save best model only with val_loss available, skipping.\n"
          ]
        },
        {
          "output_type": "stream",
          "name": "stdout",
          "text": [
            "\b\b\b\b\b\b\b\b\b\b\b\b\b\b\b\b\b\b\b\b\b\b\b\b\b\b\b\b\b\b\b\b\b\b\b\b\b\b\b\b\b\b\b\b\b\b\b\b\b\b\b\b\b\b\b\b\b\b\b\b\b\b\b\b\b\b\b\b\b\b\b\b\b\b\b\b\b\b\b\b\b\b\b\b\b\b\b\b\b\b\b\b\r5/5 [==============================] - 1s 199ms/step - loss: 0.2085 - categorical_accuracy: 0.7969\n",
            "Epoch 55/200\n",
            "5/5 [==============================] - ETA: 0s - loss: 0.2205 - categorical_accuracy: 0.7812"
          ]
        },
        {
          "output_type": "stream",
          "name": "stderr",
          "text": [
            "WARNING:tensorflow:Can save best model only with val_loss available, skipping.\n"
          ]
        },
        {
          "output_type": "stream",
          "name": "stdout",
          "text": [
            "\b\b\b\b\b\b\b\b\b\b\b\b\b\b\b\b\b\b\b\b\b\b\b\b\b\b\b\b\b\b\b\b\b\b\b\b\b\b\b\b\b\b\b\b\b\b\b\b\b\b\b\b\b\b\b\b\b\b\b\b\b\b\b\b\b\b\b\b\b\b\b\b\b\b\b\b\b\b\b\b\b\b\b\b\b\b\b\b\b\b\b\b\r5/5 [==============================] - 1s 195ms/step - loss: 0.2205 - categorical_accuracy: 0.7812\n",
            "Epoch 56/200\n",
            "5/5 [==============================] - ETA: 0s - loss: 0.1942 - categorical_accuracy: 0.8094"
          ]
        },
        {
          "output_type": "stream",
          "name": "stderr",
          "text": [
            "WARNING:tensorflow:Can save best model only with val_loss available, skipping.\n"
          ]
        },
        {
          "output_type": "stream",
          "name": "stdout",
          "text": [
            "\b\b\b\b\b\b\b\b\b\b\b\b\b\b\b\b\b\b\b\b\b\b\b\b\b\b\b\b\b\b\b\b\b\b\b\b\b\b\b\b\b\b\b\b\b\b\b\b\b\b\b\b\b\b\b\b\b\b\b\b\b\b\b\b\b\b\b\b\b\b\b\b\b\b\b\b\b\b\b\b\b\b\b\b\b\b\b\b\b\b\b\b\r5/5 [==============================] - 1s 191ms/step - loss: 0.1942 - categorical_accuracy: 0.8094\n",
            "Epoch 57/200\n",
            "5/5 [==============================] - ETA: 0s - loss: 0.2190 - categorical_accuracy: 0.7781"
          ]
        },
        {
          "output_type": "stream",
          "name": "stderr",
          "text": [
            "WARNING:tensorflow:Can save best model only with val_loss available, skipping.\n"
          ]
        },
        {
          "output_type": "stream",
          "name": "stdout",
          "text": [
            "\b\b\b\b\b\b\b\b\b\b\b\b\b\b\b\b\b\b\b\b\b\b\b\b\b\b\b\b\b\b\b\b\b\b\b\b\b\b\b\b\b\b\b\b\b\b\b\b\b\b\b\b\b\b\b\b\b\b\b\b\b\b\b\b\b\b\b\b\b\b\b\b\b\b\b\b\b\b\b\b\b\b\b\b\b\b\b\b\b\b\b\b\r5/5 [==============================] - 1s 189ms/step - loss: 0.2190 - categorical_accuracy: 0.7781\n",
            "Epoch 58/200\n",
            "5/5 [==============================] - ETA: 0s - loss: 0.2011 - categorical_accuracy: 0.8062"
          ]
        },
        {
          "output_type": "stream",
          "name": "stderr",
          "text": [
            "WARNING:tensorflow:Can save best model only with val_loss available, skipping.\n"
          ]
        },
        {
          "output_type": "stream",
          "name": "stdout",
          "text": [
            "\b\b\b\b\b\b\b\b\b\b\b\b\b\b\b\b\b\b\b\b\b\b\b\b\b\b\b\b\b\b\b\b\b\b\b\b\b\b\b\b\b\b\b\b\b\b\b\b\b\b\b\b\b\b\b\b\b\b\b\b\b\b\b\b\b\b\b\b\b\b\b\b\b\b\b\b\b\b\b\b\b\b\b\b\b\b\b\b\b\b\b\b\r5/5 [==============================] - 1s 190ms/step - loss: 0.2011 - categorical_accuracy: 0.8062\n",
            "Epoch 59/200\n",
            "5/5 [==============================] - ETA: 0s - loss: 0.2173 - categorical_accuracy: 0.7844"
          ]
        },
        {
          "output_type": "stream",
          "name": "stderr",
          "text": [
            "WARNING:tensorflow:Can save best model only with val_loss available, skipping.\n"
          ]
        },
        {
          "output_type": "stream",
          "name": "stdout",
          "text": [
            "\b\b\b\b\b\b\b\b\b\b\b\b\b\b\b\b\b\b\b\b\b\b\b\b\b\b\b\b\b\b\b\b\b\b\b\b\b\b\b\b\b\b\b\b\b\b\b\b\b\b\b\b\b\b\b\b\b\b\b\b\b\b\b\b\b\b\b\b\b\b\b\b\b\b\b\b\b\b\b\b\b\b\b\b\b\b\b\b\b\b\b\b\r5/5 [==============================] - 1s 190ms/step - loss: 0.2173 - categorical_accuracy: 0.7844\n",
            "Epoch 60/200\n",
            "5/5 [==============================] - ETA: 0s - loss: 0.2035 - categorical_accuracy: 0.7969"
          ]
        },
        {
          "output_type": "stream",
          "name": "stderr",
          "text": [
            "WARNING:tensorflow:Can save best model only with val_loss available, skipping.\n"
          ]
        },
        {
          "output_type": "stream",
          "name": "stdout",
          "text": [
            "\b\b\b\b\b\b\b\b\b\b\b\b\b\b\b\b\b\b\b\b\b\b\b\b\b\b\b\b\b\b\b\b\b\b\b\b\b\b\b\b\b\b\b\b\b\b\b\b\b\b\b\b\b\b\b\b\b\b\b\b\b\b\b\b\b\b\b\b\b\b\b\b\b\b\b\b\b\b\b\b\b\b\b\b\b\b\b\b\b\b\b\b\r5/5 [==============================] - 1s 186ms/step - loss: 0.2035 - categorical_accuracy: 0.7969\n",
            "Epoch 61/200\n",
            "5/5 [==============================] - ETA: 0s - loss: 0.2192 - categorical_accuracy: 0.7781"
          ]
        },
        {
          "output_type": "stream",
          "name": "stderr",
          "text": [
            "WARNING:tensorflow:Can save best model only with val_loss available, skipping.\n"
          ]
        },
        {
          "output_type": "stream",
          "name": "stdout",
          "text": [
            "\b\b\b\b\b\b\b\b\b\b\b\b\b\b\b\b\b\b\b\b\b\b\b\b\b\b\b\b\b\b\b\b\b\b\b\b\b\b\b\b\b\b\b\b\b\b\b\b\b\b\b\b\b\b\b\b\b\b\b\b\b\b\b\b\b\b\b\b\b\b\b\b\b\b\b\b\b\b\b\b\b\b\b\b\b\b\b\b\b\b\b\b\r5/5 [==============================] - 1s 197ms/step - loss: 0.2192 - categorical_accuracy: 0.7781\n",
            "Epoch 62/200\n",
            "5/5 [==============================] - ETA: 0s - loss: 0.1886 - categorical_accuracy: 0.8125"
          ]
        },
        {
          "output_type": "stream",
          "name": "stderr",
          "text": [
            "WARNING:tensorflow:Can save best model only with val_loss available, skipping.\n"
          ]
        },
        {
          "output_type": "stream",
          "name": "stdout",
          "text": [
            "\b\b\b\b\b\b\b\b\b\b\b\b\b\b\b\b\b\b\b\b\b\b\b\b\b\b\b\b\b\b\b\b\b\b\b\b\b\b\b\b\b\b\b\b\b\b\b\b\b\b\b\b\b\b\b\b\b\b\b\b\b\b\b\b\b\b\b\b\b\b\b\b\b\b\b\b\b\b\b\b\b\b\b\b\b\b\b\b\b\b\b\b\r5/5 [==============================] - 1s 197ms/step - loss: 0.1886 - categorical_accuracy: 0.8125\n",
            "Epoch 63/200\n",
            "5/5 [==============================] - ETA: 0s - loss: 0.2102 - categorical_accuracy: 0.7875"
          ]
        },
        {
          "output_type": "stream",
          "name": "stderr",
          "text": [
            "WARNING:tensorflow:Can save best model only with val_loss available, skipping.\n"
          ]
        },
        {
          "output_type": "stream",
          "name": "stdout",
          "text": [
            "\b\b\b\b\b\b\b\b\b\b\b\b\b\b\b\b\b\b\b\b\b\b\b\b\b\b\b\b\b\b\b\b\b\b\b\b\b\b\b\b\b\b\b\b\b\b\b\b\b\b\b\b\b\b\b\b\b\b\b\b\b\b\b\b\b\b\b\b\b\b\b\b\b\b\b\b\b\b\b\b\b\b\b\b\b\b\b\b\b\b\b\b\r5/5 [==============================] - 1s 195ms/step - loss: 0.2102 - categorical_accuracy: 0.7875\n",
            "Epoch 64/200\n",
            "5/5 [==============================] - ETA: 0s - loss: 0.2216 - categorical_accuracy: 0.7812"
          ]
        },
        {
          "output_type": "stream",
          "name": "stderr",
          "text": [
            "WARNING:tensorflow:Can save best model only with val_loss available, skipping.\n"
          ]
        },
        {
          "output_type": "stream",
          "name": "stdout",
          "text": [
            "\b\b\b\b\b\b\b\b\b\b\b\b\b\b\b\b\b\b\b\b\b\b\b\b\b\b\b\b\b\b\b\b\b\b\b\b\b\b\b\b\b\b\b\b\b\b\b\b\b\b\b\b\b\b\b\b\b\b\b\b\b\b\b\b\b\b\b\b\b\b\b\b\b\b\b\b\b\b\b\b\b\b\b\b\b\b\b\b\b\b\b\b\r5/5 [==============================] - 1s 198ms/step - loss: 0.2216 - categorical_accuracy: 0.7812\n",
            "Epoch 65/200\n",
            "5/5 [==============================] - ETA: 0s - loss: 0.2363 - categorical_accuracy: 0.7625"
          ]
        },
        {
          "output_type": "stream",
          "name": "stderr",
          "text": [
            "WARNING:tensorflow:Can save best model only with val_loss available, skipping.\n"
          ]
        },
        {
          "output_type": "stream",
          "name": "stdout",
          "text": [
            "\b\b\b\b\b\b\b\b\b\b\b\b\b\b\b\b\b\b\b\b\b\b\b\b\b\b\b\b\b\b\b\b\b\b\b\b\b\b\b\b\b\b\b\b\b\b\b\b\b\b\b\b\b\b\b\b\b\b\b\b\b\b\b\b\b\b\b\b\b\b\b\b\b\b\b\b\b\b\b\b\b\b\b\b\b\b\b\b\b\b\b\b\r5/5 [==============================] - 1s 204ms/step - loss: 0.2363 - categorical_accuracy: 0.7625\n",
            "Epoch 66/200\n",
            "5/5 [==============================] - ETA: 0s - loss: 0.1837 - categorical_accuracy: 0.8062"
          ]
        },
        {
          "output_type": "stream",
          "name": "stderr",
          "text": [
            "WARNING:tensorflow:Can save best model only with val_loss available, skipping.\n"
          ]
        },
        {
          "output_type": "stream",
          "name": "stdout",
          "text": [
            "\b\b\b\b\b\b\b\b\b\b\b\b\b\b\b\b\b\b\b\b\b\b\b\b\b\b\b\b\b\b\b\b\b\b\b\b\b\b\b\b\b\b\b\b\b\b\b\b\b\b\b\b\b\b\b\b\b\b\b\b\b\b\b\b\b\b\b\b\b\b\b\b\b\b\b\b\b\b\b\b\b\b\b\b\b\b\b\b\b\b\b\b\r5/5 [==============================] - 1s 202ms/step - loss: 0.1837 - categorical_accuracy: 0.8062\n",
            "Epoch 67/200\n",
            "5/5 [==============================] - ETA: 0s - loss: 0.2360 - categorical_accuracy: 0.7625"
          ]
        },
        {
          "output_type": "stream",
          "name": "stderr",
          "text": [
            "WARNING:tensorflow:Can save best model only with val_loss available, skipping.\n"
          ]
        },
        {
          "output_type": "stream",
          "name": "stdout",
          "text": [
            "\b\b\b\b\b\b\b\b\b\b\b\b\b\b\b\b\b\b\b\b\b\b\b\b\b\b\b\b\b\b\b\b\b\b\b\b\b\b\b\b\b\b\b\b\b\b\b\b\b\b\b\b\b\b\b\b\b\b\b\b\b\b\b\b\b\b\b\b\b\b\b\b\b\b\b\b\b\b\b\b\b\b\b\b\b\b\b\b\b\b\b\b\r5/5 [==============================] - 1s 210ms/step - loss: 0.2360 - categorical_accuracy: 0.7625\n",
            "Epoch 68/200\n",
            "5/5 [==============================] - ETA: 0s - loss: 0.2142 - categorical_accuracy: 0.7844"
          ]
        },
        {
          "output_type": "stream",
          "name": "stderr",
          "text": [
            "WARNING:tensorflow:Can save best model only with val_loss available, skipping.\n"
          ]
        },
        {
          "output_type": "stream",
          "name": "stdout",
          "text": [
            "\b\b\b\b\b\b\b\b\b\b\b\b\b\b\b\b\b\b\b\b\b\b\b\b\b\b\b\b\b\b\b\b\b\b\b\b\b\b\b\b\b\b\b\b\b\b\b\b\b\b\b\b\b\b\b\b\b\b\b\b\b\b\b\b\b\b\b\b\b\b\b\b\b\b\b\b\b\b\b\b\b\b\b\b\b\b\b\b\b\b\b\b\r5/5 [==============================] - 1s 189ms/step - loss: 0.2142 - categorical_accuracy: 0.7844\n",
            "Epoch 69/200\n",
            "5/5 [==============================] - ETA: 0s - loss: 0.2210 - categorical_accuracy: 0.7844"
          ]
        },
        {
          "output_type": "stream",
          "name": "stderr",
          "text": [
            "WARNING:tensorflow:Can save best model only with val_loss available, skipping.\n"
          ]
        },
        {
          "output_type": "stream",
          "name": "stdout",
          "text": [
            "\b\b\b\b\b\b\b\b\b\b\b\b\b\b\b\b\b\b\b\b\b\b\b\b\b\b\b\b\b\b\b\b\b\b\b\b\b\b\b\b\b\b\b\b\b\b\b\b\b\b\b\b\b\b\b\b\b\b\b\b\b\b\b\b\b\b\b\b\b\b\b\b\b\b\b\b\b\b\b\b\b\b\b\b\b\b\b\b\b\b\b\b\r5/5 [==============================] - 1s 188ms/step - loss: 0.2210 - categorical_accuracy: 0.7844\n",
            "Epoch 70/200\n",
            "5/5 [==============================] - ETA: 0s - loss: 0.2356 - categorical_accuracy: 0.7563"
          ]
        },
        {
          "output_type": "stream",
          "name": "stderr",
          "text": [
            "WARNING:tensorflow:Can save best model only with val_loss available, skipping.\n"
          ]
        },
        {
          "output_type": "stream",
          "name": "stdout",
          "text": [
            "\b\b\b\b\b\b\b\b\b\b\b\b\b\b\b\b\b\b\b\b\b\b\b\b\b\b\b\b\b\b\b\b\b\b\b\b\b\b\b\b\b\b\b\b\b\b\b\b\b\b\b\b\b\b\b\b\b\b\b\b\b\b\b\b\b\b\b\b\b\b\b\b\b\b\b\b\b\b\b\b\b\b\b\b\b\b\b\b\b\b\b\b\r5/5 [==============================] - 1s 186ms/step - loss: 0.2356 - categorical_accuracy: 0.7563\n",
            "Epoch 71/200\n",
            "5/5 [==============================] - ETA: 0s - loss: 0.2389 - categorical_accuracy: 0.7594"
          ]
        },
        {
          "output_type": "stream",
          "name": "stderr",
          "text": [
            "WARNING:tensorflow:Can save best model only with val_loss available, skipping.\n"
          ]
        },
        {
          "output_type": "stream",
          "name": "stdout",
          "text": [
            "\b\b\b\b\b\b\b\b\b\b\b\b\b\b\b\b\b\b\b\b\b\b\b\b\b\b\b\b\b\b\b\b\b\b\b\b\b\b\b\b\b\b\b\b\b\b\b\b\b\b\b\b\b\b\b\b\b\b\b\b\b\b\b\b\b\b\b\b\b\b\b\b\b\b\b\b\b\b\b\b\b\b\b\b\b\b\b\b\b\b\b\b\r5/5 [==============================] - 1s 188ms/step - loss: 0.2389 - categorical_accuracy: 0.7594\n",
            "Epoch 72/200\n",
            "5/5 [==============================] - ETA: 0s - loss: 0.1958 - categorical_accuracy: 0.8000"
          ]
        },
        {
          "output_type": "stream",
          "name": "stderr",
          "text": [
            "WARNING:tensorflow:Can save best model only with val_loss available, skipping.\n"
          ]
        },
        {
          "output_type": "stream",
          "name": "stdout",
          "text": [
            "\b\b\b\b\b\b\b\b\b\b\b\b\b\b\b\b\b\b\b\b\b\b\b\b\b\b\b\b\b\b\b\b\b\b\b\b\b\b\b\b\b\b\b\b\b\b\b\b\b\b\b\b\b\b\b\b\b\b\b\b\b\b\b\b\b\b\b\b\b\b\b\b\b\b\b\b\b\b\b\b\b\b\b\b\b\b\b\b\b\b\b\b\r5/5 [==============================] - 1s 191ms/step - loss: 0.1958 - categorical_accuracy: 0.8000\n",
            "Epoch 73/200\n",
            "5/5 [==============================] - ETA: 0s - loss: 0.2013 - categorical_accuracy: 0.8031"
          ]
        },
        {
          "output_type": "stream",
          "name": "stderr",
          "text": [
            "WARNING:tensorflow:Can save best model only with val_loss available, skipping.\n"
          ]
        },
        {
          "output_type": "stream",
          "name": "stdout",
          "text": [
            "\b\b\b\b\b\b\b\b\b\b\b\b\b\b\b\b\b\b\b\b\b\b\b\b\b\b\b\b\b\b\b\b\b\b\b\b\b\b\b\b\b\b\b\b\b\b\b\b\b\b\b\b\b\b\b\b\b\b\b\b\b\b\b\b\b\b\b\b\b\b\b\b\b\b\b\b\b\b\b\b\b\b\b\b\b\b\b\b\b\b\b\b\r5/5 [==============================] - 1s 188ms/step - loss: 0.2013 - categorical_accuracy: 0.8031\n",
            "Epoch 74/200\n",
            "5/5 [==============================] - ETA: 0s - loss: 0.2542 - categorical_accuracy: 0.7500"
          ]
        },
        {
          "output_type": "stream",
          "name": "stderr",
          "text": [
            "WARNING:tensorflow:Can save best model only with val_loss available, skipping.\n"
          ]
        },
        {
          "output_type": "stream",
          "name": "stdout",
          "text": [
            "\b\b\b\b\b\b\b\b\b\b\b\b\b\b\b\b\b\b\b\b\b\b\b\b\b\b\b\b\b\b\b\b\b\b\b\b\b\b\b\b\b\b\b\b\b\b\b\b\b\b\b\b\b\b\b\b\b\b\b\b\b\b\b\b\b\b\b\b\b\b\b\b\b\b\b\b\b\b\b\b\b\b\b\b\b\b\b\b\b\b\b\b\r5/5 [==============================] - 1s 192ms/step - loss: 0.2542 - categorical_accuracy: 0.7500\n",
            "Epoch 75/200\n",
            "5/5 [==============================] - ETA: 0s - loss: 0.2370 - categorical_accuracy: 0.7656"
          ]
        },
        {
          "output_type": "stream",
          "name": "stderr",
          "text": [
            "WARNING:tensorflow:Can save best model only with val_loss available, skipping.\n"
          ]
        },
        {
          "output_type": "stream",
          "name": "stdout",
          "text": [
            "\b\b\b\b\b\b\b\b\b\b\b\b\b\b\b\b\b\b\b\b\b\b\b\b\b\b\b\b\b\b\b\b\b\b\b\b\b\b\b\b\b\b\b\b\b\b\b\b\b\b\b\b\b\b\b\b\b\b\b\b\b\b\b\b\b\b\b\b\b\b\b\b\b\b\b\b\b\b\b\b\b\b\b\b\b\b\b\b\b\b\b\b\r5/5 [==============================] - 1s 193ms/step - loss: 0.2370 - categorical_accuracy: 0.7656\n",
            "Epoch 76/200\n",
            "5/5 [==============================] - ETA: 0s - loss: 0.2055 - categorical_accuracy: 0.7906"
          ]
        },
        {
          "output_type": "stream",
          "name": "stderr",
          "text": [
            "WARNING:tensorflow:Can save best model only with val_loss available, skipping.\n"
          ]
        },
        {
          "output_type": "stream",
          "name": "stdout",
          "text": [
            "\b\b\b\b\b\b\b\b\b\b\b\b\b\b\b\b\b\b\b\b\b\b\b\b\b\b\b\b\b\b\b\b\b\b\b\b\b\b\b\b\b\b\b\b\b\b\b\b\b\b\b\b\b\b\b\b\b\b\b\b\b\b\b\b\b\b\b\b\b\b\b\b\b\b\b\b\b\b\b\b\b\b\b\b\b\b\b\b\b\b\b\b\r5/5 [==============================] - 1s 196ms/step - loss: 0.2055 - categorical_accuracy: 0.7906\n",
            "Epoch 77/200\n",
            "5/5 [==============================] - ETA: 0s - loss: 0.1964 - categorical_accuracy: 0.8031"
          ]
        },
        {
          "output_type": "stream",
          "name": "stderr",
          "text": [
            "WARNING:tensorflow:Can save best model only with val_loss available, skipping.\n"
          ]
        },
        {
          "output_type": "stream",
          "name": "stdout",
          "text": [
            "\b\b\b\b\b\b\b\b\b\b\b\b\b\b\b\b\b\b\b\b\b\b\b\b\b\b\b\b\b\b\b\b\b\b\b\b\b\b\b\b\b\b\b\b\b\b\b\b\b\b\b\b\b\b\b\b\b\b\b\b\b\b\b\b\b\b\b\b\b\b\b\b\b\b\b\b\b\b\b\b\b\b\b\b\b\b\b\b\b\b\b\b\r5/5 [==============================] - 1s 195ms/step - loss: 0.1964 - categorical_accuracy: 0.8031\n",
            "Epoch 78/200\n",
            "5/5 [==============================] - ETA: 0s - loss: 0.1823 - categorical_accuracy: 0.8156"
          ]
        },
        {
          "output_type": "stream",
          "name": "stderr",
          "text": [
            "WARNING:tensorflow:Can save best model only with val_loss available, skipping.\n"
          ]
        },
        {
          "output_type": "stream",
          "name": "stdout",
          "text": [
            "\b\b\b\b\b\b\b\b\b\b\b\b\b\b\b\b\b\b\b\b\b\b\b\b\b\b\b\b\b\b\b\b\b\b\b\b\b\b\b\b\b\b\b\b\b\b\b\b\b\b\b\b\b\b\b\b\b\b\b\b\b\b\b\b\b\b\b\b\b\b\b\b\b\b\b\b\b\b\b\b\b\b\b\b\b\b\b\b\b\b\b\b\r5/5 [==============================] - 1s 200ms/step - loss: 0.1823 - categorical_accuracy: 0.8156\n",
            "Epoch 79/200\n",
            "5/5 [==============================] - ETA: 0s - loss: 0.1799 - categorical_accuracy: 0.8219"
          ]
        },
        {
          "output_type": "stream",
          "name": "stderr",
          "text": [
            "WARNING:tensorflow:Can save best model only with val_loss available, skipping.\n"
          ]
        },
        {
          "output_type": "stream",
          "name": "stdout",
          "text": [
            "\b\b\b\b\b\b\b\b\b\b\b\b\b\b\b\b\b\b\b\b\b\b\b\b\b\b\b\b\b\b\b\b\b\b\b\b\b\b\b\b\b\b\b\b\b\b\b\b\b\b\b\b\b\b\b\b\b\b\b\b\b\b\b\b\b\b\b\b\b\b\b\b\b\b\b\b\b\b\b\b\b\b\b\b\b\b\b\b\b\b\b\b\r5/5 [==============================] - 1s 240ms/step - loss: 0.1799 - categorical_accuracy: 0.8219\n",
            "Epoch 80/200\n",
            "5/5 [==============================] - ETA: 0s - loss: 0.2346 - categorical_accuracy: 0.7656"
          ]
        },
        {
          "output_type": "stream",
          "name": "stderr",
          "text": [
            "WARNING:tensorflow:Can save best model only with val_loss available, skipping.\n"
          ]
        },
        {
          "output_type": "stream",
          "name": "stdout",
          "text": [
            "\b\b\b\b\b\b\b\b\b\b\b\b\b\b\b\b\b\b\b\b\b\b\b\b\b\b\b\b\b\b\b\b\b\b\b\b\b\b\b\b\b\b\b\b\b\b\b\b\b\b\b\b\b\b\b\b\b\b\b\b\b\b\b\b\b\b\b\b\b\b\b\b\b\b\b\b\b\b\b\b\b\b\b\b\b\b\b\b\b\b\b\b\r5/5 [==============================] - 1s 198ms/step - loss: 0.2346 - categorical_accuracy: 0.7656\n",
            "Epoch 81/200\n",
            "5/5 [==============================] - ETA: 0s - loss: 0.1974 - categorical_accuracy: 0.8062"
          ]
        },
        {
          "output_type": "stream",
          "name": "stderr",
          "text": [
            "WARNING:tensorflow:Can save best model only with val_loss available, skipping.\n"
          ]
        },
        {
          "output_type": "stream",
          "name": "stdout",
          "text": [
            "\b\b\b\b\b\b\b\b\b\b\b\b\b\b\b\b\b\b\b\b\b\b\b\b\b\b\b\b\b\b\b\b\b\b\b\b\b\b\b\b\b\b\b\b\b\b\b\b\b\b\b\b\b\b\b\b\b\b\b\b\b\b\b\b\b\b\b\b\b\b\b\b\b\b\b\b\b\b\b\b\b\b\b\b\b\b\b\b\b\b\b\b\r5/5 [==============================] - 1s 206ms/step - loss: 0.1974 - categorical_accuracy: 0.8062\n",
            "Epoch 82/200\n",
            "5/5 [==============================] - ETA: 0s - loss: 0.2157 - categorical_accuracy: 0.7875"
          ]
        },
        {
          "output_type": "stream",
          "name": "stderr",
          "text": [
            "WARNING:tensorflow:Can save best model only with val_loss available, skipping.\n"
          ]
        },
        {
          "output_type": "stream",
          "name": "stdout",
          "text": [
            "\b\b\b\b\b\b\b\b\b\b\b\b\b\b\b\b\b\b\b\b\b\b\b\b\b\b\b\b\b\b\b\b\b\b\b\b\b\b\b\b\b\b\b\b\b\b\b\b\b\b\b\b\b\b\b\b\b\b\b\b\b\b\b\b\b\b\b\b\b\b\b\b\b\b\b\b\b\b\b\b\b\b\b\b\b\b\b\b\b\b\b\b\r5/5 [==============================] - 1s 196ms/step - loss: 0.2157 - categorical_accuracy: 0.7875\n",
            "Epoch 83/200\n",
            "5/5 [==============================] - ETA: 0s - loss: 0.1973 - categorical_accuracy: 0.8094"
          ]
        },
        {
          "output_type": "stream",
          "name": "stderr",
          "text": [
            "WARNING:tensorflow:Can save best model only with val_loss available, skipping.\n"
          ]
        },
        {
          "output_type": "stream",
          "name": "stdout",
          "text": [
            "\b\b\b\b\b\b\b\b\b\b\b\b\b\b\b\b\b\b\b\b\b\b\b\b\b\b\b\b\b\b\b\b\b\b\b\b\b\b\b\b\b\b\b\b\b\b\b\b\b\b\b\b\b\b\b\b\b\b\b\b\b\b\b\b\b\b\b\b\b\b\b\b\b\b\b\b\b\b\b\b\b\b\b\b\b\b\b\b\b\b\b\b\r5/5 [==============================] - 1s 187ms/step - loss: 0.1973 - categorical_accuracy: 0.8094\n",
            "Epoch 84/200\n",
            "5/5 [==============================] - ETA: 0s - loss: 0.1901 - categorical_accuracy: 0.8094"
          ]
        },
        {
          "output_type": "stream",
          "name": "stderr",
          "text": [
            "WARNING:tensorflow:Can save best model only with val_loss available, skipping.\n"
          ]
        },
        {
          "output_type": "stream",
          "name": "stdout",
          "text": [
            "\b\b\b\b\b\b\b\b\b\b\b\b\b\b\b\b\b\b\b\b\b\b\b\b\b\b\b\b\b\b\b\b\b\b\b\b\b\b\b\b\b\b\b\b\b\b\b\b\b\b\b\b\b\b\b\b\b\b\b\b\b\b\b\b\b\b\b\b\b\b\b\b\b\b\b\b\b\b\b\b\b\b\b\b\b\b\b\b\b\b\b\b\r5/5 [==============================] - 1s 184ms/step - loss: 0.1901 - categorical_accuracy: 0.8094\n",
            "Epoch 85/200\n",
            "5/5 [==============================] - ETA: 0s - loss: 0.1887 - categorical_accuracy: 0.8125"
          ]
        },
        {
          "output_type": "stream",
          "name": "stderr",
          "text": [
            "WARNING:tensorflow:Can save best model only with val_loss available, skipping.\n"
          ]
        },
        {
          "output_type": "stream",
          "name": "stdout",
          "text": [
            "\b\b\b\b\b\b\b\b\b\b\b\b\b\b\b\b\b\b\b\b\b\b\b\b\b\b\b\b\b\b\b\b\b\b\b\b\b\b\b\b\b\b\b\b\b\b\b\b\b\b\b\b\b\b\b\b\b\b\b\b\b\b\b\b\b\b\b\b\b\b\b\b\b\b\b\b\b\b\b\b\b\b\b\b\b\b\b\b\b\b\b\b\r5/5 [==============================] - 1s 185ms/step - loss: 0.1887 - categorical_accuracy: 0.8125\n",
            "Epoch 86/200\n",
            "5/5 [==============================] - ETA: 0s - loss: 0.2051 - categorical_accuracy: 0.7937"
          ]
        },
        {
          "output_type": "stream",
          "name": "stderr",
          "text": [
            "WARNING:tensorflow:Can save best model only with val_loss available, skipping.\n"
          ]
        },
        {
          "output_type": "stream",
          "name": "stdout",
          "text": [
            "\b\b\b\b\b\b\b\b\b\b\b\b\b\b\b\b\b\b\b\b\b\b\b\b\b\b\b\b\b\b\b\b\b\b\b\b\b\b\b\b\b\b\b\b\b\b\b\b\b\b\b\b\b\b\b\b\b\b\b\b\b\b\b\b\b\b\b\b\b\b\b\b\b\b\b\b\b\b\b\b\b\b\b\b\b\b\b\b\b\b\b\b\r5/5 [==============================] - 1s 191ms/step - loss: 0.2051 - categorical_accuracy: 0.7937\n",
            "Epoch 87/200\n",
            "5/5 [==============================] - ETA: 0s - loss: 0.2112 - categorical_accuracy: 0.7906"
          ]
        },
        {
          "output_type": "stream",
          "name": "stderr",
          "text": [
            "WARNING:tensorflow:Can save best model only with val_loss available, skipping.\n"
          ]
        },
        {
          "output_type": "stream",
          "name": "stdout",
          "text": [
            "\b\b\b\b\b\b\b\b\b\b\b\b\b\b\b\b\b\b\b\b\b\b\b\b\b\b\b\b\b\b\b\b\b\b\b\b\b\b\b\b\b\b\b\b\b\b\b\b\b\b\b\b\b\b\b\b\b\b\b\b\b\b\b\b\b\b\b\b\b\b\b\b\b\b\b\b\b\b\b\b\b\b\b\b\b\b\b\b\b\b\b\b\r5/5 [==============================] - 1s 191ms/step - loss: 0.2112 - categorical_accuracy: 0.7906\n",
            "Epoch 88/200\n",
            "5/5 [==============================] - ETA: 0s - loss: 0.1809 - categorical_accuracy: 0.8188"
          ]
        },
        {
          "output_type": "stream",
          "name": "stderr",
          "text": [
            "WARNING:tensorflow:Can save best model only with val_loss available, skipping.\n"
          ]
        },
        {
          "output_type": "stream",
          "name": "stdout",
          "text": [
            "\b\b\b\b\b\b\b\b\b\b\b\b\b\b\b\b\b\b\b\b\b\b\b\b\b\b\b\b\b\b\b\b\b\b\b\b\b\b\b\b\b\b\b\b\b\b\b\b\b\b\b\b\b\b\b\b\b\b\b\b\b\b\b\b\b\b\b\b\b\b\b\b\b\b\b\b\b\b\b\b\b\b\b\b\b\b\b\b\b\b\b\b\r5/5 [==============================] - 1s 192ms/step - loss: 0.1809 - categorical_accuracy: 0.8188\n",
            "Epoch 89/200\n",
            "5/5 [==============================] - ETA: 0s - loss: 0.1920 - categorical_accuracy: 0.8062"
          ]
        },
        {
          "output_type": "stream",
          "name": "stderr",
          "text": [
            "WARNING:tensorflow:Can save best model only with val_loss available, skipping.\n"
          ]
        },
        {
          "output_type": "stream",
          "name": "stdout",
          "text": [
            "\b\b\b\b\b\b\b\b\b\b\b\b\b\b\b\b\b\b\b\b\b\b\b\b\b\b\b\b\b\b\b\b\b\b\b\b\b\b\b\b\b\b\b\b\b\b\b\b\b\b\b\b\b\b\b\b\b\b\b\b\b\b\b\b\b\b\b\b\b\b\b\b\b\b\b\b\b\b\b\b\b\b\b\b\b\b\b\b\b\b\b\b\r5/5 [==============================] - 1s 189ms/step - loss: 0.1920 - categorical_accuracy: 0.8062\n",
            "Epoch 90/200\n",
            "5/5 [==============================] - ETA: 0s - loss: 0.2069 - categorical_accuracy: 0.7937"
          ]
        },
        {
          "output_type": "stream",
          "name": "stderr",
          "text": [
            "WARNING:tensorflow:Can save best model only with val_loss available, skipping.\n"
          ]
        },
        {
          "output_type": "stream",
          "name": "stdout",
          "text": [
            "\b\b\b\b\b\b\b\b\b\b\b\b\b\b\b\b\b\b\b\b\b\b\b\b\b\b\b\b\b\b\b\b\b\b\b\b\b\b\b\b\b\b\b\b\b\b\b\b\b\b\b\b\b\b\b\b\b\b\b\b\b\b\b\b\b\b\b\b\b\b\b\b\b\b\b\b\b\b\b\b\b\b\b\b\b\b\b\b\b\b\b\b\r5/5 [==============================] - 1s 201ms/step - loss: 0.2069 - categorical_accuracy: 0.7937\n",
            "Epoch 91/200\n",
            "5/5 [==============================] - ETA: 0s - loss: 0.2324 - categorical_accuracy: 0.7625"
          ]
        },
        {
          "output_type": "stream",
          "name": "stderr",
          "text": [
            "WARNING:tensorflow:Can save best model only with val_loss available, skipping.\n"
          ]
        },
        {
          "output_type": "stream",
          "name": "stdout",
          "text": [
            "\b\b\b\b\b\b\b\b\b\b\b\b\b\b\b\b\b\b\b\b\b\b\b\b\b\b\b\b\b\b\b\b\b\b\b\b\b\b\b\b\b\b\b\b\b\b\b\b\b\b\b\b\b\b\b\b\b\b\b\b\b\b\b\b\b\b\b\b\b\b\b\b\b\b\b\b\b\b\b\b\b\b\b\b\b\b\b\b\b\b\b\b\r5/5 [==============================] - 1s 195ms/step - loss: 0.2324 - categorical_accuracy: 0.7625\n",
            "Epoch 92/200\n",
            "5/5 [==============================] - ETA: 0s - loss: 0.1729 - categorical_accuracy: 0.8313"
          ]
        },
        {
          "output_type": "stream",
          "name": "stderr",
          "text": [
            "WARNING:tensorflow:Can save best model only with val_loss available, skipping.\n"
          ]
        },
        {
          "output_type": "stream",
          "name": "stdout",
          "text": [
            "\b\b\b\b\b\b\b\b\b\b\b\b\b\b\b\b\b\b\b\b\b\b\b\b\b\b\b\b\b\b\b\b\b\b\b\b\b\b\b\b\b\b\b\b\b\b\b\b\b\b\b\b\b\b\b\b\b\b\b\b\b\b\b\b\b\b\b\b\b\b\b\b\b\b\b\b\b\b\b\b\b\b\b\b\b\b\b\b\b\b\b\b\r5/5 [==============================] - 1s 200ms/step - loss: 0.1729 - categorical_accuracy: 0.8313\n",
            "Epoch 93/200\n",
            "5/5 [==============================] - ETA: 0s - loss: 0.1514 - categorical_accuracy: 0.8500"
          ]
        },
        {
          "output_type": "stream",
          "name": "stderr",
          "text": [
            "WARNING:tensorflow:Can save best model only with val_loss available, skipping.\n"
          ]
        },
        {
          "output_type": "stream",
          "name": "stdout",
          "text": [
            "\b\b\b\b\b\b\b\b\b\b\b\b\b\b\b\b\b\b\b\b\b\b\b\b\b\b\b\b\b\b\b\b\b\b\b\b\b\b\b\b\b\b\b\b\b\b\b\b\b\b\b\b\b\b\b\b\b\b\b\b\b\b\b\b\b\b\b\b\b\b\b\b\b\b\b\b\b\b\b\b\b\b\b\b\b\b\b\b\b\b\b\b\r5/5 [==============================] - 1s 200ms/step - loss: 0.1514 - categorical_accuracy: 0.8500\n",
            "Epoch 94/200\n",
            "5/5 [==============================] - ETA: 0s - loss: 0.2080 - categorical_accuracy: 0.7969"
          ]
        },
        {
          "output_type": "stream",
          "name": "stderr",
          "text": [
            "WARNING:tensorflow:Can save best model only with val_loss available, skipping.\n"
          ]
        },
        {
          "output_type": "stream",
          "name": "stdout",
          "text": [
            "\b\b\b\b\b\b\b\b\b\b\b\b\b\b\b\b\b\b\b\b\b\b\b\b\b\b\b\b\b\b\b\b\b\b\b\b\b\b\b\b\b\b\b\b\b\b\b\b\b\b\b\b\b\b\b\b\b\b\b\b\b\b\b\b\b\b\b\b\b\b\b\b\b\b\b\b\b\b\b\b\b\b\b\b\b\b\b\b\b\b\b\b\r5/5 [==============================] - 1s 195ms/step - loss: 0.2080 - categorical_accuracy: 0.7969\n",
            "Epoch 95/200\n",
            "5/5 [==============================] - ETA: 0s - loss: 0.1899 - categorical_accuracy: 0.8125"
          ]
        },
        {
          "output_type": "stream",
          "name": "stderr",
          "text": [
            "WARNING:tensorflow:Can save best model only with val_loss available, skipping.\n"
          ]
        },
        {
          "output_type": "stream",
          "name": "stdout",
          "text": [
            "\b\b\b\b\b\b\b\b\b\b\b\b\b\b\b\b\b\b\b\b\b\b\b\b\b\b\b\b\b\b\b\b\b\b\b\b\b\b\b\b\b\b\b\b\b\b\b\b\b\b\b\b\b\b\b\b\b\b\b\b\b\b\b\b\b\b\b\b\b\b\b\b\b\b\b\b\b\b\b\b\b\b\b\b\b\b\b\b\b\b\b\b\r5/5 [==============================] - 1s 208ms/step - loss: 0.1899 - categorical_accuracy: 0.8125\n",
            "Epoch 96/200\n",
            "5/5 [==============================] - ETA: 0s - loss: 0.2195 - categorical_accuracy: 0.7844"
          ]
        },
        {
          "output_type": "stream",
          "name": "stderr",
          "text": [
            "WARNING:tensorflow:Can save best model only with val_loss available, skipping.\n"
          ]
        },
        {
          "output_type": "stream",
          "name": "stdout",
          "text": [
            "\b\b\b\b\b\b\b\b\b\b\b\b\b\b\b\b\b\b\b\b\b\b\b\b\b\b\b\b\b\b\b\b\b\b\b\b\b\b\b\b\b\b\b\b\b\b\b\b\b\b\b\b\b\b\b\b\b\b\b\b\b\b\b\b\b\b\b\b\b\b\b\b\b\b\b\b\b\b\b\b\b\b\b\b\b\b\b\b\b\b\b\b\r5/5 [==============================] - 1s 195ms/step - loss: 0.2195 - categorical_accuracy: 0.7844\n",
            "Epoch 97/200\n",
            "5/5 [==============================] - ETA: 0s - loss: 0.2086 - categorical_accuracy: 0.7969"
          ]
        },
        {
          "output_type": "stream",
          "name": "stderr",
          "text": [
            "WARNING:tensorflow:Can save best model only with val_loss available, skipping.\n"
          ]
        },
        {
          "output_type": "stream",
          "name": "stdout",
          "text": [
            "\b\b\b\b\b\b\b\b\b\b\b\b\b\b\b\b\b\b\b\b\b\b\b\b\b\b\b\b\b\b\b\b\b\b\b\b\b\b\b\b\b\b\b\b\b\b\b\b\b\b\b\b\b\b\b\b\b\b\b\b\b\b\b\b\b\b\b\b\b\b\b\b\b\b\b\b\b\b\b\b\b\b\b\b\b\b\b\b\b\b\b\b\r5/5 [==============================] - 1s 188ms/step - loss: 0.2086 - categorical_accuracy: 0.7969\n",
            "Epoch 98/200\n",
            "5/5 [==============================] - ETA: 0s - loss: 0.1823 - categorical_accuracy: 0.8188"
          ]
        },
        {
          "output_type": "stream",
          "name": "stderr",
          "text": [
            "WARNING:tensorflow:Can save best model only with val_loss available, skipping.\n"
          ]
        },
        {
          "output_type": "stream",
          "name": "stdout",
          "text": [
            "\b\b\b\b\b\b\b\b\b\b\b\b\b\b\b\b\b\b\b\b\b\b\b\b\b\b\b\b\b\b\b\b\b\b\b\b\b\b\b\b\b\b\b\b\b\b\b\b\b\b\b\b\b\b\b\b\b\b\b\b\b\b\b\b\b\b\b\b\b\b\b\b\b\b\b\b\b\b\b\b\b\b\b\b\b\b\b\b\b\b\b\b\r5/5 [==============================] - 1s 185ms/step - loss: 0.1823 - categorical_accuracy: 0.8188\n",
            "Epoch 99/200\n",
            "5/5 [==============================] - ETA: 0s - loss: 0.1879 - categorical_accuracy: 0.8156"
          ]
        },
        {
          "output_type": "stream",
          "name": "stderr",
          "text": [
            "WARNING:tensorflow:Can save best model only with val_loss available, skipping.\n"
          ]
        },
        {
          "output_type": "stream",
          "name": "stdout",
          "text": [
            "\b\b\b\b\b\b\b\b\b\b\b\b\b\b\b\b\b\b\b\b\b\b\b\b\b\b\b\b\b\b\b\b\b\b\b\b\b\b\b\b\b\b\b\b\b\b\b\b\b\b\b\b\b\b\b\b\b\b\b\b\b\b\b\b\b\b\b\b\b\b\b\b\b\b\b\b\b\b\b\b\b\b\b\b\b\b\b\b\b\b\b\b\r5/5 [==============================] - 1s 192ms/step - loss: 0.1879 - categorical_accuracy: 0.8156\n",
            "Epoch 100/200\n",
            "5/5 [==============================] - ETA: 0s - loss: 0.2066 - categorical_accuracy: 0.8000"
          ]
        },
        {
          "output_type": "stream",
          "name": "stderr",
          "text": [
            "WARNING:tensorflow:Can save best model only with val_loss available, skipping.\n"
          ]
        },
        {
          "output_type": "stream",
          "name": "stdout",
          "text": [
            "\b\b\b\b\b\b\b\b\b\b\b\b\b\b\b\b\b\b\b\b\b\b\b\b\b\b\b\b\b\b\b\b\b\b\b\b\b\b\b\b\b\b\b\b\b\b\b\b\b\b\b\b\b\b\b\b\b\b\b\b\b\b\b\b\b\b\b\b\b\b\b\b\b\b\b\b\b\b\b\b\b\b\b\b\b\b\b\b\b\b\b\b\r5/5 [==============================] - 1s 192ms/step - loss: 0.2066 - categorical_accuracy: 0.8000\n",
            "Epoch 101/200\n",
            "5/5 [==============================] - ETA: 0s - loss: 0.1648 - categorical_accuracy: 0.8375"
          ]
        },
        {
          "output_type": "stream",
          "name": "stderr",
          "text": [
            "WARNING:tensorflow:Can save best model only with val_loss available, skipping.\n"
          ]
        },
        {
          "output_type": "stream",
          "name": "stdout",
          "text": [
            "\b\b\b\b\b\b\b\b\b\b\b\b\b\b\b\b\b\b\b\b\b\b\b\b\b\b\b\b\b\b\b\b\b\b\b\b\b\b\b\b\b\b\b\b\b\b\b\b\b\b\b\b\b\b\b\b\b\b\b\b\b\b\b\b\b\b\b\b\b\b\b\b\b\b\b\b\b\b\b\b\b\b\b\b\b\b\b\b\b\b\b\b\r5/5 [==============================] - 1s 190ms/step - loss: 0.1648 - categorical_accuracy: 0.8375\n",
            "Epoch 102/200\n",
            "5/5 [==============================] - ETA: 0s - loss: 0.1605 - categorical_accuracy: 0.8406"
          ]
        },
        {
          "output_type": "stream",
          "name": "stderr",
          "text": [
            "WARNING:tensorflow:Can save best model only with val_loss available, skipping.\n"
          ]
        },
        {
          "output_type": "stream",
          "name": "stdout",
          "text": [
            "\b\b\b\b\b\b\b\b\b\b\b\b\b\b\b\b\b\b\b\b\b\b\b\b\b\b\b\b\b\b\b\b\b\b\b\b\b\b\b\b\b\b\b\b\b\b\b\b\b\b\b\b\b\b\b\b\b\b\b\b\b\b\b\b\b\b\b\b\b\b\b\b\b\b\b\b\b\b\b\b\b\b\b\b\b\b\b\b\b\b\b\b\r5/5 [==============================] - 1s 185ms/step - loss: 0.1605 - categorical_accuracy: 0.8406\n",
            "Epoch 103/200\n",
            "5/5 [==============================] - ETA: 0s - loss: 0.2036 - categorical_accuracy: 0.7937"
          ]
        },
        {
          "output_type": "stream",
          "name": "stderr",
          "text": [
            "WARNING:tensorflow:Can save best model only with val_loss available, skipping.\n"
          ]
        },
        {
          "output_type": "stream",
          "name": "stdout",
          "text": [
            "\b\b\b\b\b\b\b\b\b\b\b\b\b\b\b\b\b\b\b\b\b\b\b\b\b\b\b\b\b\b\b\b\b\b\b\b\b\b\b\b\b\b\b\b\b\b\b\b\b\b\b\b\b\b\b\b\b\b\b\b\b\b\b\b\b\b\b\b\b\b\b\b\b\b\b\b\b\b\b\b\b\b\b\b\b\b\b\b\b\b\b\b\r5/5 [==============================] - 1s 189ms/step - loss: 0.2036 - categorical_accuracy: 0.7937\n",
            "Epoch 104/200\n",
            "5/5 [==============================] - ETA: 0s - loss: 0.1998 - categorical_accuracy: 0.8031"
          ]
        },
        {
          "output_type": "stream",
          "name": "stderr",
          "text": [
            "WARNING:tensorflow:Can save best model only with val_loss available, skipping.\n"
          ]
        },
        {
          "output_type": "stream",
          "name": "stdout",
          "text": [
            "\b\b\b\b\b\b\b\b\b\b\b\b\b\b\b\b\b\b\b\b\b\b\b\b\b\b\b\b\b\b\b\b\b\b\b\b\b\b\b\b\b\b\b\b\b\b\b\b\b\b\b\b\b\b\b\b\b\b\b\b\b\b\b\b\b\b\b\b\b\b\b\b\b\b\b\b\b\b\b\b\b\b\b\b\b\b\b\b\b\b\b\b\r5/5 [==============================] - 1s 192ms/step - loss: 0.1998 - categorical_accuracy: 0.8031\n",
            "Epoch 105/200\n",
            "5/5 [==============================] - ETA: 0s - loss: 0.1644 - categorical_accuracy: 0.8406"
          ]
        },
        {
          "output_type": "stream",
          "name": "stderr",
          "text": [
            "WARNING:tensorflow:Can save best model only with val_loss available, skipping.\n"
          ]
        },
        {
          "output_type": "stream",
          "name": "stdout",
          "text": [
            "\b\b\b\b\b\b\b\b\b\b\b\b\b\b\b\b\b\b\b\b\b\b\b\b\b\b\b\b\b\b\b\b\b\b\b\b\b\b\b\b\b\b\b\b\b\b\b\b\b\b\b\b\b\b\b\b\b\b\b\b\b\b\b\b\b\b\b\b\b\b\b\b\b\b\b\b\b\b\b\b\b\b\b\b\b\b\b\b\b\b\b\b\r5/5 [==============================] - 1s 189ms/step - loss: 0.1644 - categorical_accuracy: 0.8406\n",
            "Epoch 106/200\n",
            "5/5 [==============================] - ETA: 0s - loss: 0.1888 - categorical_accuracy: 0.8125"
          ]
        },
        {
          "output_type": "stream",
          "name": "stderr",
          "text": [
            "WARNING:tensorflow:Can save best model only with val_loss available, skipping.\n"
          ]
        },
        {
          "output_type": "stream",
          "name": "stdout",
          "text": [
            "\b\b\b\b\b\b\b\b\b\b\b\b\b\b\b\b\b\b\b\b\b\b\b\b\b\b\b\b\b\b\b\b\b\b\b\b\b\b\b\b\b\b\b\b\b\b\b\b\b\b\b\b\b\b\b\b\b\b\b\b\b\b\b\b\b\b\b\b\b\b\b\b\b\b\b\b\b\b\b\b\b\b\b\b\b\b\b\b\b\b\b\b\r5/5 [==============================] - 1s 183ms/step - loss: 0.1888 - categorical_accuracy: 0.8125\n",
            "Epoch 107/200\n",
            "5/5 [==============================] - ETA: 0s - loss: 0.1888 - categorical_accuracy: 0.8094"
          ]
        },
        {
          "output_type": "stream",
          "name": "stderr",
          "text": [
            "WARNING:tensorflow:Can save best model only with val_loss available, skipping.\n"
          ]
        },
        {
          "output_type": "stream",
          "name": "stdout",
          "text": [
            "\b\b\b\b\b\b\b\b\b\b\b\b\b\b\b\b\b\b\b\b\b\b\b\b\b\b\b\b\b\b\b\b\b\b\b\b\b\b\b\b\b\b\b\b\b\b\b\b\b\b\b\b\b\b\b\b\b\b\b\b\b\b\b\b\b\b\b\b\b\b\b\b\b\b\b\b\b\b\b\b\b\b\b\b\b\b\b\b\b\b\b\b\r5/5 [==============================] - 1s 190ms/step - loss: 0.1888 - categorical_accuracy: 0.8094\n",
            "Epoch 108/200\n",
            "5/5 [==============================] - ETA: 0s - loss: 0.1898 - categorical_accuracy: 0.8125"
          ]
        },
        {
          "output_type": "stream",
          "name": "stderr",
          "text": [
            "WARNING:tensorflow:Can save best model only with val_loss available, skipping.\n"
          ]
        },
        {
          "output_type": "stream",
          "name": "stdout",
          "text": [
            "\b\b\b\b\b\b\b\b\b\b\b\b\b\b\b\b\b\b\b\b\b\b\b\b\b\b\b\b\b\b\b\b\b\b\b\b\b\b\b\b\b\b\b\b\b\b\b\b\b\b\b\b\b\b\b\b\b\b\b\b\b\b\b\b\b\b\b\b\b\b\b\b\b\b\b\b\b\b\b\b\b\b\b\b\b\b\b\b\b\b\b\b\r5/5 [==============================] - 1s 191ms/step - loss: 0.1898 - categorical_accuracy: 0.8125\n",
            "Epoch 109/200\n",
            "5/5 [==============================] - ETA: 0s - loss: 0.1937 - categorical_accuracy: 0.8094"
          ]
        },
        {
          "output_type": "stream",
          "name": "stderr",
          "text": [
            "WARNING:tensorflow:Can save best model only with val_loss available, skipping.\n"
          ]
        },
        {
          "output_type": "stream",
          "name": "stdout",
          "text": [
            "\b\b\b\b\b\b\b\b\b\b\b\b\b\b\b\b\b\b\b\b\b\b\b\b\b\b\b\b\b\b\b\b\b\b\b\b\b\b\b\b\b\b\b\b\b\b\b\b\b\b\b\b\b\b\b\b\b\b\b\b\b\b\b\b\b\b\b\b\b\b\b\b\b\b\b\b\b\b\b\b\b\b\b\b\b\b\b\b\b\b\b\b\r5/5 [==============================] - 1s 198ms/step - loss: 0.1937 - categorical_accuracy: 0.8094\n",
            "Epoch 110/200\n",
            "5/5 [==============================] - ETA: 0s - loss: 0.2303 - categorical_accuracy: 0.7688"
          ]
        },
        {
          "output_type": "stream",
          "name": "stderr",
          "text": [
            "WARNING:tensorflow:Can save best model only with val_loss available, skipping.\n"
          ]
        },
        {
          "output_type": "stream",
          "name": "stdout",
          "text": [
            "\b\b\b\b\b\b\b\b\b\b\b\b\b\b\b\b\b\b\b\b\b\b\b\b\b\b\b\b\b\b\b\b\b\b\b\b\b\b\b\b\b\b\b\b\b\b\b\b\b\b\b\b\b\b\b\b\b\b\b\b\b\b\b\b\b\b\b\b\b\b\b\b\b\b\b\b\b\b\b\b\b\b\b\b\b\b\b\b\b\b\b\b\r5/5 [==============================] - 1s 203ms/step - loss: 0.2303 - categorical_accuracy: 0.7688\n",
            "Epoch 111/200\n",
            "5/5 [==============================] - ETA: 0s - loss: 0.1873 - categorical_accuracy: 0.8125"
          ]
        },
        {
          "output_type": "stream",
          "name": "stderr",
          "text": [
            "WARNING:tensorflow:Can save best model only with val_loss available, skipping.\n"
          ]
        },
        {
          "output_type": "stream",
          "name": "stdout",
          "text": [
            "\b\b\b\b\b\b\b\b\b\b\b\b\b\b\b\b\b\b\b\b\b\b\b\b\b\b\b\b\b\b\b\b\b\b\b\b\b\b\b\b\b\b\b\b\b\b\b\b\b\b\b\b\b\b\b\b\b\b\b\b\b\b\b\b\b\b\b\b\b\b\b\b\b\b\b\b\b\b\b\b\b\b\b\b\b\b\b\b\b\b\b\b\r5/5 [==============================] - 1s 187ms/step - loss: 0.1873 - categorical_accuracy: 0.8125\n",
            "Epoch 112/200\n",
            "5/5 [==============================] - ETA: 0s - loss: 0.1858 - categorical_accuracy: 0.8156"
          ]
        },
        {
          "output_type": "stream",
          "name": "stderr",
          "text": [
            "WARNING:tensorflow:Can save best model only with val_loss available, skipping.\n"
          ]
        },
        {
          "output_type": "stream",
          "name": "stdout",
          "text": [
            "\b\b\b\b\b\b\b\b\b\b\b\b\b\b\b\b\b\b\b\b\b\b\b\b\b\b\b\b\b\b\b\b\b\b\b\b\b\b\b\b\b\b\b\b\b\b\b\b\b\b\b\b\b\b\b\b\b\b\b\b\b\b\b\b\b\b\b\b\b\b\b\b\b\b\b\b\b\b\b\b\b\b\b\b\b\b\b\b\b\b\b\b\r5/5 [==============================] - 1s 185ms/step - loss: 0.1858 - categorical_accuracy: 0.8156\n",
            "Epoch 113/200\n",
            "5/5 [==============================] - ETA: 0s - loss: 0.1758 - categorical_accuracy: 0.8281"
          ]
        },
        {
          "output_type": "stream",
          "name": "stderr",
          "text": [
            "WARNING:tensorflow:Can save best model only with val_loss available, skipping.\n"
          ]
        },
        {
          "output_type": "stream",
          "name": "stdout",
          "text": [
            "\b\b\b\b\b\b\b\b\b\b\b\b\b\b\b\b\b\b\b\b\b\b\b\b\b\b\b\b\b\b\b\b\b\b\b\b\b\b\b\b\b\b\b\b\b\b\b\b\b\b\b\b\b\b\b\b\b\b\b\b\b\b\b\b\b\b\b\b\b\b\b\b\b\b\b\b\b\b\b\b\b\b\b\b\b\b\b\b\b\b\b\b\r5/5 [==============================] - 1s 193ms/step - loss: 0.1758 - categorical_accuracy: 0.8281\n",
            "Epoch 114/200\n",
            "5/5 [==============================] - ETA: 0s - loss: 0.2315 - categorical_accuracy: 0.7688"
          ]
        },
        {
          "output_type": "stream",
          "name": "stderr",
          "text": [
            "WARNING:tensorflow:Can save best model only with val_loss available, skipping.\n"
          ]
        },
        {
          "output_type": "stream",
          "name": "stdout",
          "text": [
            "\b\b\b\b\b\b\b\b\b\b\b\b\b\b\b\b\b\b\b\b\b\b\b\b\b\b\b\b\b\b\b\b\b\b\b\b\b\b\b\b\b\b\b\b\b\b\b\b\b\b\b\b\b\b\b\b\b\b\b\b\b\b\b\b\b\b\b\b\b\b\b\b\b\b\b\b\b\b\b\b\b\b\b\b\b\b\b\b\b\b\b\b\r5/5 [==============================] - 1s 185ms/step - loss: 0.2315 - categorical_accuracy: 0.7688\n",
            "Epoch 115/200\n",
            "5/5 [==============================] - ETA: 0s - loss: 0.1649 - categorical_accuracy: 0.8344"
          ]
        },
        {
          "output_type": "stream",
          "name": "stderr",
          "text": [
            "WARNING:tensorflow:Can save best model only with val_loss available, skipping.\n"
          ]
        },
        {
          "output_type": "stream",
          "name": "stdout",
          "text": [
            "\b\b\b\b\b\b\b\b\b\b\b\b\b\b\b\b\b\b\b\b\b\b\b\b\b\b\b\b\b\b\b\b\b\b\b\b\b\b\b\b\b\b\b\b\b\b\b\b\b\b\b\b\b\b\b\b\b\b\b\b\b\b\b\b\b\b\b\b\b\b\b\b\b\b\b\b\b\b\b\b\b\b\b\b\b\b\b\b\b\b\b\b\r5/5 [==============================] - 1s 192ms/step - loss: 0.1649 - categorical_accuracy: 0.8344\n",
            "Epoch 116/200\n",
            "5/5 [==============================] - ETA: 0s - loss: 0.1774 - categorical_accuracy: 0.8219"
          ]
        },
        {
          "output_type": "stream",
          "name": "stderr",
          "text": [
            "WARNING:tensorflow:Can save best model only with val_loss available, skipping.\n"
          ]
        },
        {
          "output_type": "stream",
          "name": "stdout",
          "text": [
            "\b\b\b\b\b\b\b\b\b\b\b\b\b\b\b\b\b\b\b\b\b\b\b\b\b\b\b\b\b\b\b\b\b\b\b\b\b\b\b\b\b\b\b\b\b\b\b\b\b\b\b\b\b\b\b\b\b\b\b\b\b\b\b\b\b\b\b\b\b\b\b\b\b\b\b\b\b\b\b\b\b\b\b\b\b\b\b\b\b\b\b\b\r5/5 [==============================] - 1s 189ms/step - loss: 0.1774 - categorical_accuracy: 0.8219\n",
            "Epoch 117/200\n",
            "5/5 [==============================] - ETA: 0s - loss: 0.2030 - categorical_accuracy: 0.8000"
          ]
        },
        {
          "output_type": "stream",
          "name": "stderr",
          "text": [
            "WARNING:tensorflow:Can save best model only with val_loss available, skipping.\n"
          ]
        },
        {
          "output_type": "stream",
          "name": "stdout",
          "text": [
            "\b\b\b\b\b\b\b\b\b\b\b\b\b\b\b\b\b\b\b\b\b\b\b\b\b\b\b\b\b\b\b\b\b\b\b\b\b\b\b\b\b\b\b\b\b\b\b\b\b\b\b\b\b\b\b\b\b\b\b\b\b\b\b\b\b\b\b\b\b\b\b\b\b\b\b\b\b\b\b\b\b\b\b\b\b\b\b\b\b\b\b\b\r5/5 [==============================] - 1s 195ms/step - loss: 0.2030 - categorical_accuracy: 0.8000\n",
            "Epoch 118/200\n",
            "5/5 [==============================] - ETA: 0s - loss: 0.1828 - categorical_accuracy: 0.8156"
          ]
        },
        {
          "output_type": "stream",
          "name": "stderr",
          "text": [
            "WARNING:tensorflow:Can save best model only with val_loss available, skipping.\n"
          ]
        },
        {
          "output_type": "stream",
          "name": "stdout",
          "text": [
            "\b\b\b\b\b\b\b\b\b\b\b\b\b\b\b\b\b\b\b\b\b\b\b\b\b\b\b\b\b\b\b\b\b\b\b\b\b\b\b\b\b\b\b\b\b\b\b\b\b\b\b\b\b\b\b\b\b\b\b\b\b\b\b\b\b\b\b\b\b\b\b\b\b\b\b\b\b\b\b\b\b\b\b\b\b\b\b\b\b\b\b\b\r5/5 [==============================] - 1s 188ms/step - loss: 0.1828 - categorical_accuracy: 0.8156\n",
            "Epoch 119/200\n",
            "5/5 [==============================] - ETA: 0s - loss: 0.1957 - categorical_accuracy: 0.8000"
          ]
        },
        {
          "output_type": "stream",
          "name": "stderr",
          "text": [
            "WARNING:tensorflow:Can save best model only with val_loss available, skipping.\n"
          ]
        },
        {
          "output_type": "stream",
          "name": "stdout",
          "text": [
            "\b\b\b\b\b\b\b\b\b\b\b\b\b\b\b\b\b\b\b\b\b\b\b\b\b\b\b\b\b\b\b\b\b\b\b\b\b\b\b\b\b\b\b\b\b\b\b\b\b\b\b\b\b\b\b\b\b\b\b\b\b\b\b\b\b\b\b\b\b\b\b\b\b\b\b\b\b\b\b\b\b\b\b\b\b\b\b\b\b\b\b\b\r5/5 [==============================] - 1s 188ms/step - loss: 0.1957 - categorical_accuracy: 0.8000\n",
            "Epoch 120/200\n",
            "5/5 [==============================] - ETA: 0s - loss: 0.1857 - categorical_accuracy: 0.8188"
          ]
        },
        {
          "output_type": "stream",
          "name": "stderr",
          "text": [
            "WARNING:tensorflow:Can save best model only with val_loss available, skipping.\n"
          ]
        },
        {
          "output_type": "stream",
          "name": "stdout",
          "text": [
            "\b\b\b\b\b\b\b\b\b\b\b\b\b\b\b\b\b\b\b\b\b\b\b\b\b\b\b\b\b\b\b\b\b\b\b\b\b\b\b\b\b\b\b\b\b\b\b\b\b\b\b\b\b\b\b\b\b\b\b\b\b\b\b\b\b\b\b\b\b\b\b\b\b\b\b\b\b\b\b\b\b\b\b\b\b\b\b\b\b\b\b\b\r5/5 [==============================] - 1s 184ms/step - loss: 0.1857 - categorical_accuracy: 0.8188\n",
            "Epoch 121/200\n",
            "5/5 [==============================] - ETA: 0s - loss: 0.1890 - categorical_accuracy: 0.8062"
          ]
        },
        {
          "output_type": "stream",
          "name": "stderr",
          "text": [
            "WARNING:tensorflow:Can save best model only with val_loss available, skipping.\n"
          ]
        },
        {
          "output_type": "stream",
          "name": "stdout",
          "text": [
            "\b\b\b\b\b\b\b\b\b\b\b\b\b\b\b\b\b\b\b\b\b\b\b\b\b\b\b\b\b\b\b\b\b\b\b\b\b\b\b\b\b\b\b\b\b\b\b\b\b\b\b\b\b\b\b\b\b\b\b\b\b\b\b\b\b\b\b\b\b\b\b\b\b\b\b\b\b\b\b\b\b\b\b\b\b\b\b\b\b\b\b\b\r5/5 [==============================] - 1s 188ms/step - loss: 0.1890 - categorical_accuracy: 0.8062\n",
            "Epoch 122/200\n",
            "5/5 [==============================] - ETA: 0s - loss: 0.2274 - categorical_accuracy: 0.7750"
          ]
        },
        {
          "output_type": "stream",
          "name": "stderr",
          "text": [
            "WARNING:tensorflow:Can save best model only with val_loss available, skipping.\n"
          ]
        },
        {
          "output_type": "stream",
          "name": "stdout",
          "text": [
            "\b\b\b\b\b\b\b\b\b\b\b\b\b\b\b\b\b\b\b\b\b\b\b\b\b\b\b\b\b\b\b\b\b\b\b\b\b\b\b\b\b\b\b\b\b\b\b\b\b\b\b\b\b\b\b\b\b\b\b\b\b\b\b\b\b\b\b\b\b\b\b\b\b\b\b\b\b\b\b\b\b\b\b\b\b\b\b\b\b\b\b\b\r5/5 [==============================] - 1s 189ms/step - loss: 0.2274 - categorical_accuracy: 0.7750\n",
            "Epoch 123/200\n",
            "5/5 [==============================] - ETA: 0s - loss: 0.2184 - categorical_accuracy: 0.7875"
          ]
        },
        {
          "output_type": "stream",
          "name": "stderr",
          "text": [
            "WARNING:tensorflow:Can save best model only with val_loss available, skipping.\n"
          ]
        },
        {
          "output_type": "stream",
          "name": "stdout",
          "text": [
            "\b\b\b\b\b\b\b\b\b\b\b\b\b\b\b\b\b\b\b\b\b\b\b\b\b\b\b\b\b\b\b\b\b\b\b\b\b\b\b\b\b\b\b\b\b\b\b\b\b\b\b\b\b\b\b\b\b\b\b\b\b\b\b\b\b\b\b\b\b\b\b\b\b\b\b\b\b\b\b\b\b\b\b\b\b\b\b\b\b\b\b\b\r5/5 [==============================] - 1s 185ms/step - loss: 0.2184 - categorical_accuracy: 0.7875\n",
            "Epoch 124/200\n",
            "5/5 [==============================] - ETA: 0s - loss: 0.1891 - categorical_accuracy: 0.8094"
          ]
        },
        {
          "output_type": "stream",
          "name": "stderr",
          "text": [
            "WARNING:tensorflow:Can save best model only with val_loss available, skipping.\n"
          ]
        },
        {
          "output_type": "stream",
          "name": "stdout",
          "text": [
            "\b\b\b\b\b\b\b\b\b\b\b\b\b\b\b\b\b\b\b\b\b\b\b\b\b\b\b\b\b\b\b\b\b\b\b\b\b\b\b\b\b\b\b\b\b\b\b\b\b\b\b\b\b\b\b\b\b\b\b\b\b\b\b\b\b\b\b\b\b\b\b\b\b\b\b\b\b\b\b\b\b\b\b\b\b\b\b\b\b\b\b\b\r5/5 [==============================] - 1s 202ms/step - loss: 0.1891 - categorical_accuracy: 0.8094\n",
            "Epoch 125/200\n",
            "5/5 [==============================] - ETA: 0s - loss: 0.1692 - categorical_accuracy: 0.8313"
          ]
        },
        {
          "output_type": "stream",
          "name": "stderr",
          "text": [
            "WARNING:tensorflow:Can save best model only with val_loss available, skipping.\n"
          ]
        },
        {
          "output_type": "stream",
          "name": "stdout",
          "text": [
            "\b\b\b\b\b\b\b\b\b\b\b\b\b\b\b\b\b\b\b\b\b\b\b\b\b\b\b\b\b\b\b\b\b\b\b\b\b\b\b\b\b\b\b\b\b\b\b\b\b\b\b\b\b\b\b\b\b\b\b\b\b\b\b\b\b\b\b\b\b\b\b\b\b\b\b\b\b\b\b\b\b\b\b\b\b\b\b\b\b\b\b\b\r5/5 [==============================] - 1s 197ms/step - loss: 0.1692 - categorical_accuracy: 0.8313\n",
            "Epoch 126/200\n",
            "5/5 [==============================] - ETA: 0s - loss: 0.1721 - categorical_accuracy: 0.8281"
          ]
        },
        {
          "output_type": "stream",
          "name": "stderr",
          "text": [
            "WARNING:tensorflow:Can save best model only with val_loss available, skipping.\n"
          ]
        },
        {
          "output_type": "stream",
          "name": "stdout",
          "text": [
            "\b\b\b\b\b\b\b\b\b\b\b\b\b\b\b\b\b\b\b\b\b\b\b\b\b\b\b\b\b\b\b\b\b\b\b\b\b\b\b\b\b\b\b\b\b\b\b\b\b\b\b\b\b\b\b\b\b\b\b\b\b\b\b\b\b\b\b\b\b\b\b\b\b\b\b\b\b\b\b\b\b\b\b\b\b\b\b\b\b\b\b\b\r5/5 [==============================] - 1s 191ms/step - loss: 0.1721 - categorical_accuracy: 0.8281\n",
            "Epoch 127/200\n",
            "5/5 [==============================] - ETA: 0s - loss: 0.2235 - categorical_accuracy: 0.7781"
          ]
        },
        {
          "output_type": "stream",
          "name": "stderr",
          "text": [
            "WARNING:tensorflow:Can save best model only with val_loss available, skipping.\n"
          ]
        },
        {
          "output_type": "stream",
          "name": "stdout",
          "text": [
            "\b\b\b\b\b\b\b\b\b\b\b\b\b\b\b\b\b\b\b\b\b\b\b\b\b\b\b\b\b\b\b\b\b\b\b\b\b\b\b\b\b\b\b\b\b\b\b\b\b\b\b\b\b\b\b\b\b\b\b\b\b\b\b\b\b\b\b\b\b\b\b\b\b\b\b\b\b\b\b\b\b\b\b\b\b\b\b\b\b\b\b\b\r5/5 [==============================] - 1s 190ms/step - loss: 0.2235 - categorical_accuracy: 0.7781\n",
            "Epoch 128/200\n",
            "5/5 [==============================] - ETA: 0s - loss: 0.2200 - categorical_accuracy: 0.7781"
          ]
        },
        {
          "output_type": "stream",
          "name": "stderr",
          "text": [
            "WARNING:tensorflow:Can save best model only with val_loss available, skipping.\n"
          ]
        },
        {
          "output_type": "stream",
          "name": "stdout",
          "text": [
            "\b\b\b\b\b\b\b\b\b\b\b\b\b\b\b\b\b\b\b\b\b\b\b\b\b\b\b\b\b\b\b\b\b\b\b\b\b\b\b\b\b\b\b\b\b\b\b\b\b\b\b\b\b\b\b\b\b\b\b\b\b\b\b\b\b\b\b\b\b\b\b\b\b\b\b\b\b\b\b\b\b\b\b\b\b\b\b\b\b\b\b\b\r5/5 [==============================] - 1s 188ms/step - loss: 0.2200 - categorical_accuracy: 0.7781\n",
            "Epoch 129/200\n",
            "5/5 [==============================] - ETA: 0s - loss: 0.2052 - categorical_accuracy: 0.7937"
          ]
        },
        {
          "output_type": "stream",
          "name": "stderr",
          "text": [
            "WARNING:tensorflow:Can save best model only with val_loss available, skipping.\n"
          ]
        },
        {
          "output_type": "stream",
          "name": "stdout",
          "text": [
            "\b\b\b\b\b\b\b\b\b\b\b\b\b\b\b\b\b\b\b\b\b\b\b\b\b\b\b\b\b\b\b\b\b\b\b\b\b\b\b\b\b\b\b\b\b\b\b\b\b\b\b\b\b\b\b\b\b\b\b\b\b\b\b\b\b\b\b\b\b\b\b\b\b\b\b\b\b\b\b\b\b\b\b\b\b\b\b\b\b\b\b\b\r5/5 [==============================] - 1s 187ms/step - loss: 0.2052 - categorical_accuracy: 0.7937\n",
            "Epoch 130/200\n",
            "5/5 [==============================] - ETA: 0s - loss: 0.1793 - categorical_accuracy: 0.8250"
          ]
        },
        {
          "output_type": "stream",
          "name": "stderr",
          "text": [
            "WARNING:tensorflow:Can save best model only with val_loss available, skipping.\n"
          ]
        },
        {
          "output_type": "stream",
          "name": "stdout",
          "text": [
            "\b\b\b\b\b\b\b\b\b\b\b\b\b\b\b\b\b\b\b\b\b\b\b\b\b\b\b\b\b\b\b\b\b\b\b\b\b\b\b\b\b\b\b\b\b\b\b\b\b\b\b\b\b\b\b\b\b\b\b\b\b\b\b\b\b\b\b\b\b\b\b\b\b\b\b\b\b\b\b\b\b\b\b\b\b\b\b\b\b\b\b\b\r5/5 [==============================] - 1s 187ms/step - loss: 0.1793 - categorical_accuracy: 0.8250\n",
            "Epoch 131/200\n",
            "5/5 [==============================] - ETA: 0s - loss: 0.1804 - categorical_accuracy: 0.8188"
          ]
        },
        {
          "output_type": "stream",
          "name": "stderr",
          "text": [
            "WARNING:tensorflow:Can save best model only with val_loss available, skipping.\n"
          ]
        },
        {
          "output_type": "stream",
          "name": "stdout",
          "text": [
            "\b\b\b\b\b\b\b\b\b\b\b\b\b\b\b\b\b\b\b\b\b\b\b\b\b\b\b\b\b\b\b\b\b\b\b\b\b\b\b\b\b\b\b\b\b\b\b\b\b\b\b\b\b\b\b\b\b\b\b\b\b\b\b\b\b\b\b\b\b\b\b\b\b\b\b\b\b\b\b\b\b\b\b\b\b\b\b\b\b\b\b\b\r5/5 [==============================] - 1s 185ms/step - loss: 0.1804 - categorical_accuracy: 0.8188\n",
            "Epoch 132/200\n",
            "5/5 [==============================] - ETA: 0s - loss: 0.2313 - categorical_accuracy: 0.7625"
          ]
        },
        {
          "output_type": "stream",
          "name": "stderr",
          "text": [
            "WARNING:tensorflow:Can save best model only with val_loss available, skipping.\n"
          ]
        },
        {
          "output_type": "stream",
          "name": "stdout",
          "text": [
            "\b\b\b\b\b\b\b\b\b\b\b\b\b\b\b\b\b\b\b\b\b\b\b\b\b\b\b\b\b\b\b\b\b\b\b\b\b\b\b\b\b\b\b\b\b\b\b\b\b\b\b\b\b\b\b\b\b\b\b\b\b\b\b\b\b\b\b\b\b\b\b\b\b\b\b\b\b\b\b\b\b\b\b\b\b\b\b\b\b\b\b\b\r5/5 [==============================] - 1s 185ms/step - loss: 0.2313 - categorical_accuracy: 0.7625\n",
            "Epoch 133/200\n",
            "5/5 [==============================] - ETA: 0s - loss: 0.1761 - categorical_accuracy: 0.8250"
          ]
        },
        {
          "output_type": "stream",
          "name": "stderr",
          "text": [
            "WARNING:tensorflow:Can save best model only with val_loss available, skipping.\n"
          ]
        },
        {
          "output_type": "stream",
          "name": "stdout",
          "text": [
            "\b\b\b\b\b\b\b\b\b\b\b\b\b\b\b\b\b\b\b\b\b\b\b\b\b\b\b\b\b\b\b\b\b\b\b\b\b\b\b\b\b\b\b\b\b\b\b\b\b\b\b\b\b\b\b\b\b\b\b\b\b\b\b\b\b\b\b\b\b\b\b\b\b\b\b\b\b\b\b\b\b\b\b\b\b\b\b\b\b\b\b\b\r5/5 [==============================] - 1s 187ms/step - loss: 0.1761 - categorical_accuracy: 0.8250\n",
            "Epoch 134/200\n",
            "5/5 [==============================] - ETA: 0s - loss: 0.1961 - categorical_accuracy: 0.8000"
          ]
        },
        {
          "output_type": "stream",
          "name": "stderr",
          "text": [
            "WARNING:tensorflow:Can save best model only with val_loss available, skipping.\n"
          ]
        },
        {
          "output_type": "stream",
          "name": "stdout",
          "text": [
            "\b\b\b\b\b\b\b\b\b\b\b\b\b\b\b\b\b\b\b\b\b\b\b\b\b\b\b\b\b\b\b\b\b\b\b\b\b\b\b\b\b\b\b\b\b\b\b\b\b\b\b\b\b\b\b\b\b\b\b\b\b\b\b\b\b\b\b\b\b\b\b\b\b\b\b\b\b\b\b\b\b\b\b\b\b\b\b\b\b\b\b\b\r5/5 [==============================] - 1s 184ms/step - loss: 0.1961 - categorical_accuracy: 0.8000\n",
            "Epoch 135/200\n",
            "5/5 [==============================] - ETA: 0s - loss: 0.2309 - categorical_accuracy: 0.7688"
          ]
        },
        {
          "output_type": "stream",
          "name": "stderr",
          "text": [
            "WARNING:tensorflow:Can save best model only with val_loss available, skipping.\n"
          ]
        },
        {
          "output_type": "stream",
          "name": "stdout",
          "text": [
            "\b\b\b\b\b\b\b\b\b\b\b\b\b\b\b\b\b\b\b\b\b\b\b\b\b\b\b\b\b\b\b\b\b\b\b\b\b\b\b\b\b\b\b\b\b\b\b\b\b\b\b\b\b\b\b\b\b\b\b\b\b\b\b\b\b\b\b\b\b\b\b\b\b\b\b\b\b\b\b\b\b\b\b\b\b\b\b\b\b\b\b\b\r5/5 [==============================] - 1s 185ms/step - loss: 0.2309 - categorical_accuracy: 0.7688\n",
            "Epoch 136/200\n",
            "5/5 [==============================] - ETA: 0s - loss: 0.1952 - categorical_accuracy: 0.8031"
          ]
        },
        {
          "output_type": "stream",
          "name": "stderr",
          "text": [
            "WARNING:tensorflow:Can save best model only with val_loss available, skipping.\n"
          ]
        },
        {
          "output_type": "stream",
          "name": "stdout",
          "text": [
            "\b\b\b\b\b\b\b\b\b\b\b\b\b\b\b\b\b\b\b\b\b\b\b\b\b\b\b\b\b\b\b\b\b\b\b\b\b\b\b\b\b\b\b\b\b\b\b\b\b\b\b\b\b\b\b\b\b\b\b\b\b\b\b\b\b\b\b\b\b\b\b\b\b\b\b\b\b\b\b\b\b\b\b\b\b\b\b\b\b\b\b\b\r5/5 [==============================] - 1s 192ms/step - loss: 0.1952 - categorical_accuracy: 0.8031\n",
            "Epoch 137/200\n",
            "5/5 [==============================] - ETA: 0s - loss: 0.1857 - categorical_accuracy: 0.8156"
          ]
        },
        {
          "output_type": "stream",
          "name": "stderr",
          "text": [
            "WARNING:tensorflow:Can save best model only with val_loss available, skipping.\n"
          ]
        },
        {
          "output_type": "stream",
          "name": "stdout",
          "text": [
            "\b\b\b\b\b\b\b\b\b\b\b\b\b\b\b\b\b\b\b\b\b\b\b\b\b\b\b\b\b\b\b\b\b\b\b\b\b\b\b\b\b\b\b\b\b\b\b\b\b\b\b\b\b\b\b\b\b\b\b\b\b\b\b\b\b\b\b\b\b\b\b\b\b\b\b\b\b\b\b\b\b\b\b\b\b\b\b\b\b\b\b\b\r5/5 [==============================] - 1s 191ms/step - loss: 0.1857 - categorical_accuracy: 0.8156\n",
            "Epoch 138/200\n",
            "5/5 [==============================] - ETA: 0s - loss: 0.1947 - categorical_accuracy: 0.8062"
          ]
        },
        {
          "output_type": "stream",
          "name": "stderr",
          "text": [
            "WARNING:tensorflow:Can save best model only with val_loss available, skipping.\n"
          ]
        },
        {
          "output_type": "stream",
          "name": "stdout",
          "text": [
            "\b\b\b\b\b\b\b\b\b\b\b\b\b\b\b\b\b\b\b\b\b\b\b\b\b\b\b\b\b\b\b\b\b\b\b\b\b\b\b\b\b\b\b\b\b\b\b\b\b\b\b\b\b\b\b\b\b\b\b\b\b\b\b\b\b\b\b\b\b\b\b\b\b\b\b\b\b\b\b\b\b\b\b\b\b\b\b\b\b\b\b\b\r5/5 [==============================] - 1s 204ms/step - loss: 0.1947 - categorical_accuracy: 0.8062\n",
            "Epoch 139/200\n",
            "5/5 [==============================] - ETA: 0s - loss: 0.1920 - categorical_accuracy: 0.8094"
          ]
        },
        {
          "output_type": "stream",
          "name": "stderr",
          "text": [
            "WARNING:tensorflow:Can save best model only with val_loss available, skipping.\n"
          ]
        },
        {
          "output_type": "stream",
          "name": "stdout",
          "text": [
            "\b\b\b\b\b\b\b\b\b\b\b\b\b\b\b\b\b\b\b\b\b\b\b\b\b\b\b\b\b\b\b\b\b\b\b\b\b\b\b\b\b\b\b\b\b\b\b\b\b\b\b\b\b\b\b\b\b\b\b\b\b\b\b\b\b\b\b\b\b\b\b\b\b\b\b\b\b\b\b\b\b\b\b\b\b\b\b\b\b\b\b\b\r5/5 [==============================] - 1s 206ms/step - loss: 0.1920 - categorical_accuracy: 0.8094\n",
            "Epoch 140/200\n",
            "5/5 [==============================] - ETA: 0s - loss: 0.1633 - categorical_accuracy: 0.8375"
          ]
        },
        {
          "output_type": "stream",
          "name": "stderr",
          "text": [
            "WARNING:tensorflow:Can save best model only with val_loss available, skipping.\n"
          ]
        },
        {
          "output_type": "stream",
          "name": "stdout",
          "text": [
            "\b\b\b\b\b\b\b\b\b\b\b\b\b\b\b\b\b\b\b\b\b\b\b\b\b\b\b\b\b\b\b\b\b\b\b\b\b\b\b\b\b\b\b\b\b\b\b\b\b\b\b\b\b\b\b\b\b\b\b\b\b\b\b\b\b\b\b\b\b\b\b\b\b\b\b\b\b\b\b\b\b\b\b\b\b\b\b\b\b\b\b\b\r5/5 [==============================] - 1s 195ms/step - loss: 0.1633 - categorical_accuracy: 0.8375\n",
            "Epoch 141/200\n",
            "5/5 [==============================] - ETA: 0s - loss: 0.1717 - categorical_accuracy: 0.8313"
          ]
        },
        {
          "output_type": "stream",
          "name": "stderr",
          "text": [
            "WARNING:tensorflow:Can save best model only with val_loss available, skipping.\n"
          ]
        },
        {
          "output_type": "stream",
          "name": "stdout",
          "text": [
            "\b\b\b\b\b\b\b\b\b\b\b\b\b\b\b\b\b\b\b\b\b\b\b\b\b\b\b\b\b\b\b\b\b\b\b\b\b\b\b\b\b\b\b\b\b\b\b\b\b\b\b\b\b\b\b\b\b\b\b\b\b\b\b\b\b\b\b\b\b\b\b\b\b\b\b\b\b\b\b\b\b\b\b\b\b\b\b\b\b\b\b\b\r5/5 [==============================] - 1s 193ms/step - loss: 0.1717 - categorical_accuracy: 0.8313\n",
            "Epoch 142/200\n",
            "5/5 [==============================] - ETA: 0s - loss: 0.1705 - categorical_accuracy: 0.8281"
          ]
        },
        {
          "output_type": "stream",
          "name": "stderr",
          "text": [
            "WARNING:tensorflow:Can save best model only with val_loss available, skipping.\n"
          ]
        },
        {
          "output_type": "stream",
          "name": "stdout",
          "text": [
            "\b\b\b\b\b\b\b\b\b\b\b\b\b\b\b\b\b\b\b\b\b\b\b\b\b\b\b\b\b\b\b\b\b\b\b\b\b\b\b\b\b\b\b\b\b\b\b\b\b\b\b\b\b\b\b\b\b\b\b\b\b\b\b\b\b\b\b\b\b\b\b\b\b\b\b\b\b\b\b\b\b\b\b\b\b\b\b\b\b\b\b\b\r5/5 [==============================] - 1s 196ms/step - loss: 0.1705 - categorical_accuracy: 0.8281\n",
            "Epoch 143/200\n",
            "5/5 [==============================] - ETA: 0s - loss: 0.1766 - categorical_accuracy: 0.8250"
          ]
        },
        {
          "output_type": "stream",
          "name": "stderr",
          "text": [
            "WARNING:tensorflow:Can save best model only with val_loss available, skipping.\n"
          ]
        },
        {
          "output_type": "stream",
          "name": "stdout",
          "text": [
            "\b\b\b\b\b\b\b\b\b\b\b\b\b\b\b\b\b\b\b\b\b\b\b\b\b\b\b\b\b\b\b\b\b\b\b\b\b\b\b\b\b\b\b\b\b\b\b\b\b\b\b\b\b\b\b\b\b\b\b\b\b\b\b\b\b\b\b\b\b\b\b\b\b\b\b\b\b\b\b\b\b\b\b\b\b\b\b\b\b\b\b\b\r5/5 [==============================] - 1s 189ms/step - loss: 0.1766 - categorical_accuracy: 0.8250\n",
            "Epoch 144/200\n",
            "5/5 [==============================] - ETA: 0s - loss: 0.1762 - categorical_accuracy: 0.8250"
          ]
        },
        {
          "output_type": "stream",
          "name": "stderr",
          "text": [
            "WARNING:tensorflow:Can save best model only with val_loss available, skipping.\n"
          ]
        },
        {
          "output_type": "stream",
          "name": "stdout",
          "text": [
            "\b\b\b\b\b\b\b\b\b\b\b\b\b\b\b\b\b\b\b\b\b\b\b\b\b\b\b\b\b\b\b\b\b\b\b\b\b\b\b\b\b\b\b\b\b\b\b\b\b\b\b\b\b\b\b\b\b\b\b\b\b\b\b\b\b\b\b\b\b\b\b\b\b\b\b\b\b\b\b\b\b\b\b\b\b\b\b\b\b\b\b\b\r5/5 [==============================] - 1s 187ms/step - loss: 0.1762 - categorical_accuracy: 0.8250\n",
            "Epoch 145/200\n",
            "5/5 [==============================] - ETA: 0s - loss: 0.2009 - categorical_accuracy: 0.8000"
          ]
        },
        {
          "output_type": "stream",
          "name": "stderr",
          "text": [
            "WARNING:tensorflow:Can save best model only with val_loss available, skipping.\n"
          ]
        },
        {
          "output_type": "stream",
          "name": "stdout",
          "text": [
            "\b\b\b\b\b\b\b\b\b\b\b\b\b\b\b\b\b\b\b\b\b\b\b\b\b\b\b\b\b\b\b\b\b\b\b\b\b\b\b\b\b\b\b\b\b\b\b\b\b\b\b\b\b\b\b\b\b\b\b\b\b\b\b\b\b\b\b\b\b\b\b\b\b\b\b\b\b\b\b\b\b\b\b\b\b\b\b\b\b\b\b\b\r5/5 [==============================] - 1s 187ms/step - loss: 0.2009 - categorical_accuracy: 0.8000\n",
            "Epoch 146/200\n",
            "5/5 [==============================] - ETA: 0s - loss: 0.1833 - categorical_accuracy: 0.8156"
          ]
        },
        {
          "output_type": "stream",
          "name": "stderr",
          "text": [
            "WARNING:tensorflow:Can save best model only with val_loss available, skipping.\n"
          ]
        },
        {
          "output_type": "stream",
          "name": "stdout",
          "text": [
            "\b\b\b\b\b\b\b\b\b\b\b\b\b\b\b\b\b\b\b\b\b\b\b\b\b\b\b\b\b\b\b\b\b\b\b\b\b\b\b\b\b\b\b\b\b\b\b\b\b\b\b\b\b\b\b\b\b\b\b\b\b\b\b\b\b\b\b\b\b\b\b\b\b\b\b\b\b\b\b\b\b\b\b\b\b\b\b\b\b\b\b\b\r5/5 [==============================] - 1s 184ms/step - loss: 0.1833 - categorical_accuracy: 0.8156\n",
            "Epoch 147/200\n",
            "5/5 [==============================] - ETA: 0s - loss: 0.2173 - categorical_accuracy: 0.7812"
          ]
        },
        {
          "output_type": "stream",
          "name": "stderr",
          "text": [
            "WARNING:tensorflow:Can save best model only with val_loss available, skipping.\n"
          ]
        },
        {
          "output_type": "stream",
          "name": "stdout",
          "text": [
            "\b\b\b\b\b\b\b\b\b\b\b\b\b\b\b\b\b\b\b\b\b\b\b\b\b\b\b\b\b\b\b\b\b\b\b\b\b\b\b\b\b\b\b\b\b\b\b\b\b\b\b\b\b\b\b\b\b\b\b\b\b\b\b\b\b\b\b\b\b\b\b\b\b\b\b\b\b\b\b\b\b\b\b\b\b\b\b\b\b\b\b\b\r5/5 [==============================] - 1s 186ms/step - loss: 0.2173 - categorical_accuracy: 0.7812\n",
            "Epoch 148/200\n",
            "5/5 [==============================] - ETA: 0s - loss: 0.2058 - categorical_accuracy: 0.7937"
          ]
        },
        {
          "output_type": "stream",
          "name": "stderr",
          "text": [
            "WARNING:tensorflow:Can save best model only with val_loss available, skipping.\n"
          ]
        },
        {
          "output_type": "stream",
          "name": "stdout",
          "text": [
            "\b\b\b\b\b\b\b\b\b\b\b\b\b\b\b\b\b\b\b\b\b\b\b\b\b\b\b\b\b\b\b\b\b\b\b\b\b\b\b\b\b\b\b\b\b\b\b\b\b\b\b\b\b\b\b\b\b\b\b\b\b\b\b\b\b\b\b\b\b\b\b\b\b\b\b\b\b\b\b\b\b\b\b\b\b\b\b\b\b\b\b\b\r5/5 [==============================] - 1s 210ms/step - loss: 0.2058 - categorical_accuracy: 0.7937\n",
            "Epoch 149/200\n",
            "5/5 [==============================] - ETA: 0s - loss: 0.2068 - categorical_accuracy: 0.7937"
          ]
        },
        {
          "output_type": "stream",
          "name": "stderr",
          "text": [
            "WARNING:tensorflow:Can save best model only with val_loss available, skipping.\n"
          ]
        },
        {
          "output_type": "stream",
          "name": "stdout",
          "text": [
            "\b\b\b\b\b\b\b\b\b\b\b\b\b\b\b\b\b\b\b\b\b\b\b\b\b\b\b\b\b\b\b\b\b\b\b\b\b\b\b\b\b\b\b\b\b\b\b\b\b\b\b\b\b\b\b\b\b\b\b\b\b\b\b\b\b\b\b\b\b\b\b\b\b\b\b\b\b\b\b\b\b\b\b\b\b\b\b\b\b\b\b\b\r5/5 [==============================] - 1s 187ms/step - loss: 0.2068 - categorical_accuracy: 0.7937\n",
            "Epoch 150/200\n",
            "5/5 [==============================] - ETA: 0s - loss: 0.2038 - categorical_accuracy: 0.7937"
          ]
        },
        {
          "output_type": "stream",
          "name": "stderr",
          "text": [
            "WARNING:tensorflow:Can save best model only with val_loss available, skipping.\n"
          ]
        },
        {
          "output_type": "stream",
          "name": "stdout",
          "text": [
            "\b\b\b\b\b\b\b\b\b\b\b\b\b\b\b\b\b\b\b\b\b\b\b\b\b\b\b\b\b\b\b\b\b\b\b\b\b\b\b\b\b\b\b\b\b\b\b\b\b\b\b\b\b\b\b\b\b\b\b\b\b\b\b\b\b\b\b\b\b\b\b\b\b\b\b\b\b\b\b\b\b\b\b\b\b\b\b\b\b\b\b\b\r5/5 [==============================] - 1s 192ms/step - loss: 0.2038 - categorical_accuracy: 0.7937\n",
            "Epoch 151/200\n",
            "5/5 [==============================] - ETA: 0s - loss: 0.1935 - categorical_accuracy: 0.8031"
          ]
        },
        {
          "output_type": "stream",
          "name": "stderr",
          "text": [
            "WARNING:tensorflow:Can save best model only with val_loss available, skipping.\n"
          ]
        },
        {
          "output_type": "stream",
          "name": "stdout",
          "text": [
            "\b\b\b\b\b\b\b\b\b\b\b\b\b\b\b\b\b\b\b\b\b\b\b\b\b\b\b\b\b\b\b\b\b\b\b\b\b\b\b\b\b\b\b\b\b\b\b\b\b\b\b\b\b\b\b\b\b\b\b\b\b\b\b\b\b\b\b\b\b\b\b\b\b\b\b\b\b\b\b\b\b\b\b\b\b\b\b\b\b\b\b\b\r5/5 [==============================] - 1s 192ms/step - loss: 0.1935 - categorical_accuracy: 0.8031\n",
            "Epoch 152/200\n",
            "5/5 [==============================] - ETA: 0s - loss: 0.2079 - categorical_accuracy: 0.7906"
          ]
        },
        {
          "output_type": "stream",
          "name": "stderr",
          "text": [
            "WARNING:tensorflow:Can save best model only with val_loss available, skipping.\n"
          ]
        },
        {
          "output_type": "stream",
          "name": "stdout",
          "text": [
            "\b\b\b\b\b\b\b\b\b\b\b\b\b\b\b\b\b\b\b\b\b\b\b\b\b\b\b\b\b\b\b\b\b\b\b\b\b\b\b\b\b\b\b\b\b\b\b\b\b\b\b\b\b\b\b\b\b\b\b\b\b\b\b\b\b\b\b\b\b\b\b\b\b\b\b\b\b\b\b\b\b\b\b\b\b\b\b\b\b\b\b\b\r5/5 [==============================] - 1s 191ms/step - loss: 0.2079 - categorical_accuracy: 0.7906\n",
            "Epoch 153/200\n",
            "5/5 [==============================] - ETA: 0s - loss: 0.2139 - categorical_accuracy: 0.7875"
          ]
        },
        {
          "output_type": "stream",
          "name": "stderr",
          "text": [
            "WARNING:tensorflow:Can save best model only with val_loss available, skipping.\n"
          ]
        },
        {
          "output_type": "stream",
          "name": "stdout",
          "text": [
            "\b\b\b\b\b\b\b\b\b\b\b\b\b\b\b\b\b\b\b\b\b\b\b\b\b\b\b\b\b\b\b\b\b\b\b\b\b\b\b\b\b\b\b\b\b\b\b\b\b\b\b\b\b\b\b\b\b\b\b\b\b\b\b\b\b\b\b\b\b\b\b\b\b\b\b\b\b\b\b\b\b\b\b\b\b\b\b\b\b\b\b\b\r5/5 [==============================] - 1s 203ms/step - loss: 0.2139 - categorical_accuracy: 0.7875\n",
            "Epoch 154/200\n",
            "5/5 [==============================] - ETA: 0s - loss: 0.1825 - categorical_accuracy: 0.8188"
          ]
        },
        {
          "output_type": "stream",
          "name": "stderr",
          "text": [
            "WARNING:tensorflow:Can save best model only with val_loss available, skipping.\n"
          ]
        },
        {
          "output_type": "stream",
          "name": "stdout",
          "text": [
            "\b\b\b\b\b\b\b\b\b\b\b\b\b\b\b\b\b\b\b\b\b\b\b\b\b\b\b\b\b\b\b\b\b\b\b\b\b\b\b\b\b\b\b\b\b\b\b\b\b\b\b\b\b\b\b\b\b\b\b\b\b\b\b\b\b\b\b\b\b\b\b\b\b\b\b\b\b\b\b\b\b\b\b\b\b\b\b\b\b\b\b\b\r5/5 [==============================] - 1s 196ms/step - loss: 0.1825 - categorical_accuracy: 0.8188\n",
            "Epoch 155/200\n",
            "5/5 [==============================] - ETA: 0s - loss: 0.1495 - categorical_accuracy: 0.8500"
          ]
        },
        {
          "output_type": "stream",
          "name": "stderr",
          "text": [
            "WARNING:tensorflow:Can save best model only with val_loss available, skipping.\n"
          ]
        },
        {
          "output_type": "stream",
          "name": "stdout",
          "text": [
            "\b\b\b\b\b\b\b\b\b\b\b\b\b\b\b\b\b\b\b\b\b\b\b\b\b\b\b\b\b\b\b\b\b\b\b\b\b\b\b\b\b\b\b\b\b\b\b\b\b\b\b\b\b\b\b\b\b\b\b\b\b\b\b\b\b\b\b\b\b\b\b\b\b\b\b\b\b\b\b\b\b\b\b\b\b\b\b\b\b\b\b\b\r5/5 [==============================] - 1s 192ms/step - loss: 0.1495 - categorical_accuracy: 0.8500\n",
            "Epoch 156/200\n",
            "5/5 [==============================] - ETA: 0s - loss: 0.1769 - categorical_accuracy: 0.8219"
          ]
        },
        {
          "output_type": "stream",
          "name": "stderr",
          "text": [
            "WARNING:tensorflow:Can save best model only with val_loss available, skipping.\n"
          ]
        },
        {
          "output_type": "stream",
          "name": "stdout",
          "text": [
            "\b\b\b\b\b\b\b\b\b\b\b\b\b\b\b\b\b\b\b\b\b\b\b\b\b\b\b\b\b\b\b\b\b\b\b\b\b\b\b\b\b\b\b\b\b\b\b\b\b\b\b\b\b\b\b\b\b\b\b\b\b\b\b\b\b\b\b\b\b\b\b\b\b\b\b\b\b\b\b\b\b\b\b\b\b\b\b\b\b\b\b\b\r5/5 [==============================] - 1s 195ms/step - loss: 0.1769 - categorical_accuracy: 0.8219\n",
            "Epoch 157/200\n",
            "5/5 [==============================] - ETA: 0s - loss: 0.1994 - categorical_accuracy: 0.8031"
          ]
        },
        {
          "output_type": "stream",
          "name": "stderr",
          "text": [
            "WARNING:tensorflow:Can save best model only with val_loss available, skipping.\n"
          ]
        },
        {
          "output_type": "stream",
          "name": "stdout",
          "text": [
            "\b\b\b\b\b\b\b\b\b\b\b\b\b\b\b\b\b\b\b\b\b\b\b\b\b\b\b\b\b\b\b\b\b\b\b\b\b\b\b\b\b\b\b\b\b\b\b\b\b\b\b\b\b\b\b\b\b\b\b\b\b\b\b\b\b\b\b\b\b\b\b\b\b\b\b\b\b\b\b\b\b\b\b\b\b\b\b\b\b\b\b\b\r5/5 [==============================] - 1s 193ms/step - loss: 0.1994 - categorical_accuracy: 0.8031\n",
            "Epoch 158/200\n",
            "5/5 [==============================] - ETA: 0s - loss: 0.1796 - categorical_accuracy: 0.8188"
          ]
        },
        {
          "output_type": "stream",
          "name": "stderr",
          "text": [
            "WARNING:tensorflow:Can save best model only with val_loss available, skipping.\n"
          ]
        },
        {
          "output_type": "stream",
          "name": "stdout",
          "text": [
            "\b\b\b\b\b\b\b\b\b\b\b\b\b\b\b\b\b\b\b\b\b\b\b\b\b\b\b\b\b\b\b\b\b\b\b\b\b\b\b\b\b\b\b\b\b\b\b\b\b\b\b\b\b\b\b\b\b\b\b\b\b\b\b\b\b\b\b\b\b\b\b\b\b\b\b\b\b\b\b\b\b\b\b\b\b\b\b\b\b\b\b\b\r5/5 [==============================] - 1s 195ms/step - loss: 0.1796 - categorical_accuracy: 0.8188\n",
            "Epoch 159/200\n",
            "5/5 [==============================] - ETA: 0s - loss: 0.1397 - categorical_accuracy: 0.8594"
          ]
        },
        {
          "output_type": "stream",
          "name": "stderr",
          "text": [
            "WARNING:tensorflow:Can save best model only with val_loss available, skipping.\n"
          ]
        },
        {
          "output_type": "stream",
          "name": "stdout",
          "text": [
            "\b\b\b\b\b\b\b\b\b\b\b\b\b\b\b\b\b\b\b\b\b\b\b\b\b\b\b\b\b\b\b\b\b\b\b\b\b\b\b\b\b\b\b\b\b\b\b\b\b\b\b\b\b\b\b\b\b\b\b\b\b\b\b\b\b\b\b\b\b\b\b\b\b\b\b\b\b\b\b\b\b\b\b\b\b\b\b\b\b\b\b\b\r5/5 [==============================] - 1s 186ms/step - loss: 0.1397 - categorical_accuracy: 0.8594\n",
            "Epoch 160/200\n",
            "5/5 [==============================] - ETA: 0s - loss: 0.1941 - categorical_accuracy: 0.8031"
          ]
        },
        {
          "output_type": "stream",
          "name": "stderr",
          "text": [
            "WARNING:tensorflow:Can save best model only with val_loss available, skipping.\n"
          ]
        },
        {
          "output_type": "stream",
          "name": "stdout",
          "text": [
            "\b\b\b\b\b\b\b\b\b\b\b\b\b\b\b\b\b\b\b\b\b\b\b\b\b\b\b\b\b\b\b\b\b\b\b\b\b\b\b\b\b\b\b\b\b\b\b\b\b\b\b\b\b\b\b\b\b\b\b\b\b\b\b\b\b\b\b\b\b\b\b\b\b\b\b\b\b\b\b\b\b\b\b\b\b\b\b\b\b\b\b\b\r5/5 [==============================] - 1s 190ms/step - loss: 0.1941 - categorical_accuracy: 0.8031\n",
            "Epoch 161/200\n",
            "5/5 [==============================] - ETA: 0s - loss: 0.1622 - categorical_accuracy: 0.8375"
          ]
        },
        {
          "output_type": "stream",
          "name": "stderr",
          "text": [
            "WARNING:tensorflow:Can save best model only with val_loss available, skipping.\n"
          ]
        },
        {
          "output_type": "stream",
          "name": "stdout",
          "text": [
            "\b\b\b\b\b\b\b\b\b\b\b\b\b\b\b\b\b\b\b\b\b\b\b\b\b\b\b\b\b\b\b\b\b\b\b\b\b\b\b\b\b\b\b\b\b\b\b\b\b\b\b\b\b\b\b\b\b\b\b\b\b\b\b\b\b\b\b\b\b\b\b\b\b\b\b\b\b\b\b\b\b\b\b\b\b\b\b\b\b\b\b\b\r5/5 [==============================] - 1s 185ms/step - loss: 0.1622 - categorical_accuracy: 0.8375\n",
            "Epoch 162/200\n",
            "5/5 [==============================] - ETA: 0s - loss: 0.1838 - categorical_accuracy: 0.8156"
          ]
        },
        {
          "output_type": "stream",
          "name": "stderr",
          "text": [
            "WARNING:tensorflow:Can save best model only with val_loss available, skipping.\n"
          ]
        },
        {
          "output_type": "stream",
          "name": "stdout",
          "text": [
            "\b\b\b\b\b\b\b\b\b\b\b\b\b\b\b\b\b\b\b\b\b\b\b\b\b\b\b\b\b\b\b\b\b\b\b\b\b\b\b\b\b\b\b\b\b\b\b\b\b\b\b\b\b\b\b\b\b\b\b\b\b\b\b\b\b\b\b\b\b\b\b\b\b\b\b\b\b\b\b\b\b\b\b\b\b\b\b\b\b\b\b\b\r5/5 [==============================] - 1s 189ms/step - loss: 0.1838 - categorical_accuracy: 0.8156\n",
            "Epoch 163/200\n",
            "5/5 [==============================] - ETA: 0s - loss: 0.2517 - categorical_accuracy: 0.7469"
          ]
        },
        {
          "output_type": "stream",
          "name": "stderr",
          "text": [
            "WARNING:tensorflow:Can save best model only with val_loss available, skipping.\n"
          ]
        },
        {
          "output_type": "stream",
          "name": "stdout",
          "text": [
            "\b\b\b\b\b\b\b\b\b\b\b\b\b\b\b\b\b\b\b\b\b\b\b\b\b\b\b\b\b\b\b\b\b\b\b\b\b\b\b\b\b\b\b\b\b\b\b\b\b\b\b\b\b\b\b\b\b\b\b\b\b\b\b\b\b\b\b\b\b\b\b\b\b\b\b\b\b\b\b\b\b\b\b\b\b\b\b\b\b\b\b\b\r5/5 [==============================] - 1s 189ms/step - loss: 0.2517 - categorical_accuracy: 0.7469\n",
            "Epoch 164/200\n",
            "5/5 [==============================] - ETA: 0s - loss: 0.2555 - categorical_accuracy: 0.7437"
          ]
        },
        {
          "output_type": "stream",
          "name": "stderr",
          "text": [
            "WARNING:tensorflow:Can save best model only with val_loss available, skipping.\n"
          ]
        },
        {
          "output_type": "stream",
          "name": "stdout",
          "text": [
            "\b\b\b\b\b\b\b\b\b\b\b\b\b\b\b\b\b\b\b\b\b\b\b\b\b\b\b\b\b\b\b\b\b\b\b\b\b\b\b\b\b\b\b\b\b\b\b\b\b\b\b\b\b\b\b\b\b\b\b\b\b\b\b\b\b\b\b\b\b\b\b\b\b\b\b\b\b\b\b\b\b\b\b\b\b\b\b\b\b\b\b\b\r5/5 [==============================] - 1s 194ms/step - loss: 0.2555 - categorical_accuracy: 0.7437\n",
            "Epoch 165/200\n",
            "5/5 [==============================] - ETA: 0s - loss: 0.2028 - categorical_accuracy: 0.7937"
          ]
        },
        {
          "output_type": "stream",
          "name": "stderr",
          "text": [
            "WARNING:tensorflow:Can save best model only with val_loss available, skipping.\n"
          ]
        },
        {
          "output_type": "stream",
          "name": "stdout",
          "text": [
            "\b\b\b\b\b\b\b\b\b\b\b\b\b\b\b\b\b\b\b\b\b\b\b\b\b\b\b\b\b\b\b\b\b\b\b\b\b\b\b\b\b\b\b\b\b\b\b\b\b\b\b\b\b\b\b\b\b\b\b\b\b\b\b\b\b\b\b\b\b\b\b\b\b\b\b\b\b\b\b\b\b\b\b\b\b\b\b\b\b\b\b\b\r5/5 [==============================] - 1s 196ms/step - loss: 0.2028 - categorical_accuracy: 0.7937\n",
            "Epoch 166/200\n",
            "5/5 [==============================] - ETA: 0s - loss: 0.1723 - categorical_accuracy: 0.8281"
          ]
        },
        {
          "output_type": "stream",
          "name": "stderr",
          "text": [
            "WARNING:tensorflow:Can save best model only with val_loss available, skipping.\n"
          ]
        },
        {
          "output_type": "stream",
          "name": "stdout",
          "text": [
            "\b\b\b\b\b\b\b\b\b\b\b\b\b\b\b\b\b\b\b\b\b\b\b\b\b\b\b\b\b\b\b\b\b\b\b\b\b\b\b\b\b\b\b\b\b\b\b\b\b\b\b\b\b\b\b\b\b\b\b\b\b\b\b\b\b\b\b\b\b\b\b\b\b\b\b\b\b\b\b\b\b\b\b\b\b\b\b\b\b\b\b\b\r5/5 [==============================] - 1s 204ms/step - loss: 0.1723 - categorical_accuracy: 0.8281\n",
            "Epoch 167/200\n",
            "5/5 [==============================] - ETA: 0s - loss: 0.1952 - categorical_accuracy: 0.8031"
          ]
        },
        {
          "output_type": "stream",
          "name": "stderr",
          "text": [
            "WARNING:tensorflow:Can save best model only with val_loss available, skipping.\n"
          ]
        },
        {
          "output_type": "stream",
          "name": "stdout",
          "text": [
            "\b\b\b\b\b\b\b\b\b\b\b\b\b\b\b\b\b\b\b\b\b\b\b\b\b\b\b\b\b\b\b\b\b\b\b\b\b\b\b\b\b\b\b\b\b\b\b\b\b\b\b\b\b\b\b\b\b\b\b\b\b\b\b\b\b\b\b\b\b\b\b\b\b\b\b\b\b\b\b\b\b\b\b\b\b\b\b\b\b\b\b\b\r5/5 [==============================] - 1s 205ms/step - loss: 0.1952 - categorical_accuracy: 0.8031\n",
            "Epoch 168/200\n",
            "5/5 [==============================] - ETA: 0s - loss: 0.1888 - categorical_accuracy: 0.8125"
          ]
        },
        {
          "output_type": "stream",
          "name": "stderr",
          "text": [
            "WARNING:tensorflow:Can save best model only with val_loss available, skipping.\n"
          ]
        },
        {
          "output_type": "stream",
          "name": "stdout",
          "text": [
            "\b\b\b\b\b\b\b\b\b\b\b\b\b\b\b\b\b\b\b\b\b\b\b\b\b\b\b\b\b\b\b\b\b\b\b\b\b\b\b\b\b\b\b\b\b\b\b\b\b\b\b\b\b\b\b\b\b\b\b\b\b\b\b\b\b\b\b\b\b\b\b\b\b\b\b\b\b\b\b\b\b\b\b\b\b\b\b\b\b\b\b\b\r5/5 [==============================] - 1s 203ms/step - loss: 0.1888 - categorical_accuracy: 0.8125\n",
            "Epoch 169/200\n",
            "5/5 [==============================] - ETA: 0s - loss: 0.1837 - categorical_accuracy: 0.8188"
          ]
        },
        {
          "output_type": "stream",
          "name": "stderr",
          "text": [
            "WARNING:tensorflow:Can save best model only with val_loss available, skipping.\n"
          ]
        },
        {
          "output_type": "stream",
          "name": "stdout",
          "text": [
            "\b\b\b\b\b\b\b\b\b\b\b\b\b\b\b\b\b\b\b\b\b\b\b\b\b\b\b\b\b\b\b\b\b\b\b\b\b\b\b\b\b\b\b\b\b\b\b\b\b\b\b\b\b\b\b\b\b\b\b\b\b\b\b\b\b\b\b\b\b\b\b\b\b\b\b\b\b\b\b\b\b\b\b\b\b\b\b\b\b\b\b\b\r5/5 [==============================] - 1s 185ms/step - loss: 0.1837 - categorical_accuracy: 0.8188\n",
            "Epoch 170/200\n",
            "5/5 [==============================] - ETA: 0s - loss: 0.1743 - categorical_accuracy: 0.8250"
          ]
        },
        {
          "output_type": "stream",
          "name": "stderr",
          "text": [
            "WARNING:tensorflow:Can save best model only with val_loss available, skipping.\n"
          ]
        },
        {
          "output_type": "stream",
          "name": "stdout",
          "text": [
            "\b\b\b\b\b\b\b\b\b\b\b\b\b\b\b\b\b\b\b\b\b\b\b\b\b\b\b\b\b\b\b\b\b\b\b\b\b\b\b\b\b\b\b\b\b\b\b\b\b\b\b\b\b\b\b\b\b\b\b\b\b\b\b\b\b\b\b\b\b\b\b\b\b\b\b\b\b\b\b\b\b\b\b\b\b\b\b\b\b\b\b\b\r5/5 [==============================] - 1s 186ms/step - loss: 0.1743 - categorical_accuracy: 0.8250\n",
            "Epoch 171/200\n",
            "5/5 [==============================] - ETA: 0s - loss: 0.2258 - categorical_accuracy: 0.7750"
          ]
        },
        {
          "output_type": "stream",
          "name": "stderr",
          "text": [
            "WARNING:tensorflow:Can save best model only with val_loss available, skipping.\n"
          ]
        },
        {
          "output_type": "stream",
          "name": "stdout",
          "text": [
            "\b\b\b\b\b\b\b\b\b\b\b\b\b\b\b\b\b\b\b\b\b\b\b\b\b\b\b\b\b\b\b\b\b\b\b\b\b\b\b\b\b\b\b\b\b\b\b\b\b\b\b\b\b\b\b\b\b\b\b\b\b\b\b\b\b\b\b\b\b\b\b\b\b\b\b\b\b\b\b\b\b\b\b\b\b\b\b\b\b\b\b\b\r5/5 [==============================] - 1s 186ms/step - loss: 0.2258 - categorical_accuracy: 0.7750\n",
            "Epoch 172/200\n",
            "5/5 [==============================] - ETA: 0s - loss: 0.2268 - categorical_accuracy: 0.7750"
          ]
        },
        {
          "output_type": "stream",
          "name": "stderr",
          "text": [
            "WARNING:tensorflow:Can save best model only with val_loss available, skipping.\n"
          ]
        },
        {
          "output_type": "stream",
          "name": "stdout",
          "text": [
            "\b\b\b\b\b\b\b\b\b\b\b\b\b\b\b\b\b\b\b\b\b\b\b\b\b\b\b\b\b\b\b\b\b\b\b\b\b\b\b\b\b\b\b\b\b\b\b\b\b\b\b\b\b\b\b\b\b\b\b\b\b\b\b\b\b\b\b\b\b\b\b\b\b\b\b\b\b\b\b\b\b\b\b\b\b\b\b\b\b\b\b\b\r5/5 [==============================] - 1s 182ms/step - loss: 0.2268 - categorical_accuracy: 0.7750\n",
            "Epoch 173/200\n",
            "5/5 [==============================] - ETA: 0s - loss: 0.2118 - categorical_accuracy: 0.7875"
          ]
        },
        {
          "output_type": "stream",
          "name": "stderr",
          "text": [
            "WARNING:tensorflow:Can save best model only with val_loss available, skipping.\n"
          ]
        },
        {
          "output_type": "stream",
          "name": "stdout",
          "text": [
            "\b\b\b\b\b\b\b\b\b\b\b\b\b\b\b\b\b\b\b\b\b\b\b\b\b\b\b\b\b\b\b\b\b\b\b\b\b\b\b\b\b\b\b\b\b\b\b\b\b\b\b\b\b\b\b\b\b\b\b\b\b\b\b\b\b\b\b\b\b\b\b\b\b\b\b\b\b\b\b\b\b\b\b\b\b\b\b\b\b\b\b\b\r5/5 [==============================] - 1s 186ms/step - loss: 0.2118 - categorical_accuracy: 0.7875\n",
            "Epoch 174/200\n",
            "5/5 [==============================] - ETA: 0s - loss: 0.1956 - categorical_accuracy: 0.8094"
          ]
        },
        {
          "output_type": "stream",
          "name": "stderr",
          "text": [
            "WARNING:tensorflow:Can save best model only with val_loss available, skipping.\n"
          ]
        },
        {
          "output_type": "stream",
          "name": "stdout",
          "text": [
            "\b\b\b\b\b\b\b\b\b\b\b\b\b\b\b\b\b\b\b\b\b\b\b\b\b\b\b\b\b\b\b\b\b\b\b\b\b\b\b\b\b\b\b\b\b\b\b\b\b\b\b\b\b\b\b\b\b\b\b\b\b\b\b\b\b\b\b\b\b\b\b\b\b\b\b\b\b\b\b\b\b\b\b\b\b\b\b\b\b\b\b\b\r5/5 [==============================] - 1s 183ms/step - loss: 0.1956 - categorical_accuracy: 0.8094\n",
            "Epoch 175/200\n",
            "5/5 [==============================] - ETA: 0s - loss: 0.1892 - categorical_accuracy: 0.8062"
          ]
        },
        {
          "output_type": "stream",
          "name": "stderr",
          "text": [
            "WARNING:tensorflow:Can save best model only with val_loss available, skipping.\n"
          ]
        },
        {
          "output_type": "stream",
          "name": "stdout",
          "text": [
            "\b\b\b\b\b\b\b\b\b\b\b\b\b\b\b\b\b\b\b\b\b\b\b\b\b\b\b\b\b\b\b\b\b\b\b\b\b\b\b\b\b\b\b\b\b\b\b\b\b\b\b\b\b\b\b\b\b\b\b\b\b\b\b\b\b\b\b\b\b\b\b\b\b\b\b\b\b\b\b\b\b\b\b\b\b\b\b\b\b\b\b\b\r5/5 [==============================] - 1s 183ms/step - loss: 0.1892 - categorical_accuracy: 0.8062\n",
            "Epoch 176/200\n",
            "5/5 [==============================] - ETA: 0s - loss: 0.2147 - categorical_accuracy: 0.7844"
          ]
        },
        {
          "output_type": "stream",
          "name": "stderr",
          "text": [
            "WARNING:tensorflow:Can save best model only with val_loss available, skipping.\n"
          ]
        },
        {
          "output_type": "stream",
          "name": "stdout",
          "text": [
            "\b\b\b\b\b\b\b\b\b\b\b\b\b\b\b\b\b\b\b\b\b\b\b\b\b\b\b\b\b\b\b\b\b\b\b\b\b\b\b\b\b\b\b\b\b\b\b\b\b\b\b\b\b\b\b\b\b\b\b\b\b\b\b\b\b\b\b\b\b\b\b\b\b\b\b\b\b\b\b\b\b\b\b\b\b\b\b\b\b\b\b\b\r5/5 [==============================] - 1s 189ms/step - loss: 0.2147 - categorical_accuracy: 0.7844\n",
            "Epoch 177/200\n",
            "5/5 [==============================] - ETA: 0s - loss: 0.1899 - categorical_accuracy: 0.8094"
          ]
        },
        {
          "output_type": "stream",
          "name": "stderr",
          "text": [
            "WARNING:tensorflow:Can save best model only with val_loss available, skipping.\n"
          ]
        },
        {
          "output_type": "stream",
          "name": "stdout",
          "text": [
            "\b\b\b\b\b\b\b\b\b\b\b\b\b\b\b\b\b\b\b\b\b\b\b\b\b\b\b\b\b\b\b\b\b\b\b\b\b\b\b\b\b\b\b\b\b\b\b\b\b\b\b\b\b\b\b\b\b\b\b\b\b\b\b\b\b\b\b\b\b\b\b\b\b\b\b\b\b\b\b\b\b\b\b\b\b\b\b\b\b\b\b\b\r5/5 [==============================] - 1s 190ms/step - loss: 0.1899 - categorical_accuracy: 0.8094\n",
            "Epoch 178/200\n",
            "5/5 [==============================] - ETA: 0s - loss: 0.2201 - categorical_accuracy: 0.7812"
          ]
        },
        {
          "output_type": "stream",
          "name": "stderr",
          "text": [
            "WARNING:tensorflow:Can save best model only with val_loss available, skipping.\n"
          ]
        },
        {
          "output_type": "stream",
          "name": "stdout",
          "text": [
            "\b\b\b\b\b\b\b\b\b\b\b\b\b\b\b\b\b\b\b\b\b\b\b\b\b\b\b\b\b\b\b\b\b\b\b\b\b\b\b\b\b\b\b\b\b\b\b\b\b\b\b\b\b\b\b\b\b\b\b\b\b\b\b\b\b\b\b\b\b\b\b\b\b\b\b\b\b\b\b\b\b\b\b\b\b\b\b\b\b\b\b\b\r5/5 [==============================] - 1s 193ms/step - loss: 0.2201 - categorical_accuracy: 0.7812\n",
            "Epoch 179/200\n",
            "5/5 [==============================] - ETA: 0s - loss: 0.1808 - categorical_accuracy: 0.8188"
          ]
        },
        {
          "output_type": "stream",
          "name": "stderr",
          "text": [
            "WARNING:tensorflow:Can save best model only with val_loss available, skipping.\n"
          ]
        },
        {
          "output_type": "stream",
          "name": "stdout",
          "text": [
            "\b\b\b\b\b\b\b\b\b\b\b\b\b\b\b\b\b\b\b\b\b\b\b\b\b\b\b\b\b\b\b\b\b\b\b\b\b\b\b\b\b\b\b\b\b\b\b\b\b\b\b\b\b\b\b\b\b\b\b\b\b\b\b\b\b\b\b\b\b\b\b\b\b\b\b\b\b\b\b\b\b\b\b\b\b\b\b\b\b\b\b\b\r5/5 [==============================] - 1s 196ms/step - loss: 0.1808 - categorical_accuracy: 0.8188\n",
            "Epoch 180/200\n",
            "5/5 [==============================] - ETA: 0s - loss: 0.2298 - categorical_accuracy: 0.7688"
          ]
        },
        {
          "output_type": "stream",
          "name": "stderr",
          "text": [
            "WARNING:tensorflow:Can save best model only with val_loss available, skipping.\n"
          ]
        },
        {
          "output_type": "stream",
          "name": "stdout",
          "text": [
            "\b\b\b\b\b\b\b\b\b\b\b\b\b\b\b\b\b\b\b\b\b\b\b\b\b\b\b\b\b\b\b\b\b\b\b\b\b\b\b\b\b\b\b\b\b\b\b\b\b\b\b\b\b\b\b\b\b\b\b\b\b\b\b\b\b\b\b\b\b\b\b\b\b\b\b\b\b\b\b\b\b\b\b\b\b\b\b\b\b\b\b\b\r5/5 [==============================] - 1s 200ms/step - loss: 0.2298 - categorical_accuracy: 0.7688\n",
            "Epoch 181/200\n",
            "5/5 [==============================] - ETA: 0s - loss: 0.1735 - categorical_accuracy: 0.8250"
          ]
        },
        {
          "output_type": "stream",
          "name": "stderr",
          "text": [
            "WARNING:tensorflow:Can save best model only with val_loss available, skipping.\n"
          ]
        },
        {
          "output_type": "stream",
          "name": "stdout",
          "text": [
            "\b\b\b\b\b\b\b\b\b\b\b\b\b\b\b\b\b\b\b\b\b\b\b\b\b\b\b\b\b\b\b\b\b\b\b\b\b\b\b\b\b\b\b\b\b\b\b\b\b\b\b\b\b\b\b\b\b\b\b\b\b\b\b\b\b\b\b\b\b\b\b\b\b\b\b\b\b\b\b\b\b\b\b\b\b\b\b\b\b\b\b\b\r5/5 [==============================] - 1s 200ms/step - loss: 0.1735 - categorical_accuracy: 0.8250\n",
            "Epoch 182/200\n",
            "5/5 [==============================] - ETA: 0s - loss: 0.1854 - categorical_accuracy: 0.8156"
          ]
        },
        {
          "output_type": "stream",
          "name": "stderr",
          "text": [
            "WARNING:tensorflow:Can save best model only with val_loss available, skipping.\n"
          ]
        },
        {
          "output_type": "stream",
          "name": "stdout",
          "text": [
            "\b\b\b\b\b\b\b\b\b\b\b\b\b\b\b\b\b\b\b\b\b\b\b\b\b\b\b\b\b\b\b\b\b\b\b\b\b\b\b\b\b\b\b\b\b\b\b\b\b\b\b\b\b\b\b\b\b\b\b\b\b\b\b\b\b\b\b\b\b\b\b\b\b\b\b\b\b\b\b\b\b\b\b\b\b\b\b\b\b\b\b\b\r5/5 [==============================] - 1s 199ms/step - loss: 0.1854 - categorical_accuracy: 0.8156\n",
            "Epoch 183/200\n",
            "5/5 [==============================] - ETA: 0s - loss: 0.1976 - categorical_accuracy: 0.8031"
          ]
        },
        {
          "output_type": "stream",
          "name": "stderr",
          "text": [
            "WARNING:tensorflow:Can save best model only with val_loss available, skipping.\n"
          ]
        },
        {
          "output_type": "stream",
          "name": "stdout",
          "text": [
            "\b\b\b\b\b\b\b\b\b\b\b\b\b\b\b\b\b\b\b\b\b\b\b\b\b\b\b\b\b\b\b\b\b\b\b\b\b\b\b\b\b\b\b\b\b\b\b\b\b\b\b\b\b\b\b\b\b\b\b\b\b\b\b\b\b\b\b\b\b\b\b\b\b\b\b\b\b\b\b\b\b\b\b\b\b\b\b\b\b\b\b\b\r5/5 [==============================] - 1s 185ms/step - loss: 0.1976 - categorical_accuracy: 0.8031\n",
            "Epoch 184/200\n",
            "5/5 [==============================] - ETA: 0s - loss: 0.1921 - categorical_accuracy: 0.8062"
          ]
        },
        {
          "output_type": "stream",
          "name": "stderr",
          "text": [
            "WARNING:tensorflow:Can save best model only with val_loss available, skipping.\n"
          ]
        },
        {
          "output_type": "stream",
          "name": "stdout",
          "text": [
            "\b\b\b\b\b\b\b\b\b\b\b\b\b\b\b\b\b\b\b\b\b\b\b\b\b\b\b\b\b\b\b\b\b\b\b\b\b\b\b\b\b\b\b\b\b\b\b\b\b\b\b\b\b\b\b\b\b\b\b\b\b\b\b\b\b\b\b\b\b\b\b\b\b\b\b\b\b\b\b\b\b\b\b\b\b\b\b\b\b\b\b\b\r5/5 [==============================] - 1s 184ms/step - loss: 0.1921 - categorical_accuracy: 0.8062\n",
            "Epoch 185/200\n",
            "5/5 [==============================] - ETA: 0s - loss: 0.1944 - categorical_accuracy: 0.8062"
          ]
        },
        {
          "output_type": "stream",
          "name": "stderr",
          "text": [
            "WARNING:tensorflow:Can save best model only with val_loss available, skipping.\n"
          ]
        },
        {
          "output_type": "stream",
          "name": "stdout",
          "text": [
            "\b\b\b\b\b\b\b\b\b\b\b\b\b\b\b\b\b\b\b\b\b\b\b\b\b\b\b\b\b\b\b\b\b\b\b\b\b\b\b\b\b\b\b\b\b\b\b\b\b\b\b\b\b\b\b\b\b\b\b\b\b\b\b\b\b\b\b\b\b\b\b\b\b\b\b\b\b\b\b\b\b\b\b\b\b\b\b\b\b\b\b\b\r5/5 [==============================] - 1s 185ms/step - loss: 0.1944 - categorical_accuracy: 0.8062\n",
            "Epoch 186/200\n",
            "5/5 [==============================] - ETA: 0s - loss: 0.2207 - categorical_accuracy: 0.7812"
          ]
        },
        {
          "output_type": "stream",
          "name": "stderr",
          "text": [
            "WARNING:tensorflow:Can save best model only with val_loss available, skipping.\n"
          ]
        },
        {
          "output_type": "stream",
          "name": "stdout",
          "text": [
            "\b\b\b\b\b\b\b\b\b\b\b\b\b\b\b\b\b\b\b\b\b\b\b\b\b\b\b\b\b\b\b\b\b\b\b\b\b\b\b\b\b\b\b\b\b\b\b\b\b\b\b\b\b\b\b\b\b\b\b\b\b\b\b\b\b\b\b\b\b\b\b\b\b\b\b\b\b\b\b\b\b\b\b\b\b\b\b\b\b\b\b\b\r5/5 [==============================] - 1s 185ms/step - loss: 0.2207 - categorical_accuracy: 0.7812\n",
            "Epoch 187/200\n",
            "5/5 [==============================] - ETA: 0s - loss: 0.1753 - categorical_accuracy: 0.8250"
          ]
        },
        {
          "output_type": "stream",
          "name": "stderr",
          "text": [
            "WARNING:tensorflow:Can save best model only with val_loss available, skipping.\n"
          ]
        },
        {
          "output_type": "stream",
          "name": "stdout",
          "text": [
            "\b\b\b\b\b\b\b\b\b\b\b\b\b\b\b\b\b\b\b\b\b\b\b\b\b\b\b\b\b\b\b\b\b\b\b\b\b\b\b\b\b\b\b\b\b\b\b\b\b\b\b\b\b\b\b\b\b\b\b\b\b\b\b\b\b\b\b\b\b\b\b\b\b\b\b\b\b\b\b\b\b\b\b\b\b\b\b\b\b\b\b\b\r5/5 [==============================] - 1s 189ms/step - loss: 0.1753 - categorical_accuracy: 0.8250\n",
            "Epoch 188/200\n",
            "5/5 [==============================] - ETA: 0s - loss: 0.1860 - categorical_accuracy: 0.8156"
          ]
        },
        {
          "output_type": "stream",
          "name": "stderr",
          "text": [
            "WARNING:tensorflow:Can save best model only with val_loss available, skipping.\n"
          ]
        },
        {
          "output_type": "stream",
          "name": "stdout",
          "text": [
            "\b\b\b\b\b\b\b\b\b\b\b\b\b\b\b\b\b\b\b\b\b\b\b\b\b\b\b\b\b\b\b\b\b\b\b\b\b\b\b\b\b\b\b\b\b\b\b\b\b\b\b\b\b\b\b\b\b\b\b\b\b\b\b\b\b\b\b\b\b\b\b\b\b\b\b\b\b\b\b\b\b\b\b\b\b\b\b\b\b\b\b\b\r5/5 [==============================] - 1s 186ms/step - loss: 0.1860 - categorical_accuracy: 0.8156\n",
            "Epoch 189/200\n",
            "5/5 [==============================] - ETA: 0s - loss: 0.1867 - categorical_accuracy: 0.8094"
          ]
        },
        {
          "output_type": "stream",
          "name": "stderr",
          "text": [
            "WARNING:tensorflow:Can save best model only with val_loss available, skipping.\n"
          ]
        },
        {
          "output_type": "stream",
          "name": "stdout",
          "text": [
            "\b\b\b\b\b\b\b\b\b\b\b\b\b\b\b\b\b\b\b\b\b\b\b\b\b\b\b\b\b\b\b\b\b\b\b\b\b\b\b\b\b\b\b\b\b\b\b\b\b\b\b\b\b\b\b\b\b\b\b\b\b\b\b\b\b\b\b\b\b\b\b\b\b\b\b\b\b\b\b\b\b\b\b\b\b\b\b\b\b\b\b\b\r5/5 [==============================] - 1s 190ms/step - loss: 0.1867 - categorical_accuracy: 0.8094\n",
            "Epoch 190/200\n",
            "5/5 [==============================] - ETA: 0s - loss: 0.1877 - categorical_accuracy: 0.8125"
          ]
        },
        {
          "output_type": "stream",
          "name": "stderr",
          "text": [
            "WARNING:tensorflow:Can save best model only with val_loss available, skipping.\n"
          ]
        },
        {
          "output_type": "stream",
          "name": "stdout",
          "text": [
            "\b\b\b\b\b\b\b\b\b\b\b\b\b\b\b\b\b\b\b\b\b\b\b\b\b\b\b\b\b\b\b\b\b\b\b\b\b\b\b\b\b\b\b\b\b\b\b\b\b\b\b\b\b\b\b\b\b\b\b\b\b\b\b\b\b\b\b\b\b\b\b\b\b\b\b\b\b\b\b\b\b\b\b\b\b\b\b\b\b\b\b\b\r5/5 [==============================] - 1s 196ms/step - loss: 0.1877 - categorical_accuracy: 0.8125\n",
            "Epoch 191/200\n",
            "5/5 [==============================] - ETA: 0s - loss: 0.2118 - categorical_accuracy: 0.7844"
          ]
        },
        {
          "output_type": "stream",
          "name": "stderr",
          "text": [
            "WARNING:tensorflow:Can save best model only with val_loss available, skipping.\n"
          ]
        },
        {
          "output_type": "stream",
          "name": "stdout",
          "text": [
            "\b\b\b\b\b\b\b\b\b\b\b\b\b\b\b\b\b\b\b\b\b\b\b\b\b\b\b\b\b\b\b\b\b\b\b\b\b\b\b\b\b\b\b\b\b\b\b\b\b\b\b\b\b\b\b\b\b\b\b\b\b\b\b\b\b\b\b\b\b\b\b\b\b\b\b\b\b\b\b\b\b\b\b\b\b\b\b\b\b\b\b\b\r5/5 [==============================] - 1s 187ms/step - loss: 0.2118 - categorical_accuracy: 0.7844\n",
            "Epoch 192/200\n",
            "5/5 [==============================] - ETA: 0s - loss: 0.1791 - categorical_accuracy: 0.8219"
          ]
        },
        {
          "output_type": "stream",
          "name": "stderr",
          "text": [
            "WARNING:tensorflow:Can save best model only with val_loss available, skipping.\n"
          ]
        },
        {
          "output_type": "stream",
          "name": "stdout",
          "text": [
            "\b\b\b\b\b\b\b\b\b\b\b\b\b\b\b\b\b\b\b\b\b\b\b\b\b\b\b\b\b\b\b\b\b\b\b\b\b\b\b\b\b\b\b\b\b\b\b\b\b\b\b\b\b\b\b\b\b\b\b\b\b\b\b\b\b\b\b\b\b\b\b\b\b\b\b\b\b\b\b\b\b\b\b\b\b\b\b\b\b\b\b\b\r5/5 [==============================] - 1s 196ms/step - loss: 0.1791 - categorical_accuracy: 0.8219\n",
            "Epoch 193/200\n",
            "5/5 [==============================] - ETA: 0s - loss: 0.2107 - categorical_accuracy: 0.7906"
          ]
        },
        {
          "output_type": "stream",
          "name": "stderr",
          "text": [
            "WARNING:tensorflow:Can save best model only with val_loss available, skipping.\n"
          ]
        },
        {
          "output_type": "stream",
          "name": "stdout",
          "text": [
            "\b\b\b\b\b\b\b\b\b\b\b\b\b\b\b\b\b\b\b\b\b\b\b\b\b\b\b\b\b\b\b\b\b\b\b\b\b\b\b\b\b\b\b\b\b\b\b\b\b\b\b\b\b\b\b\b\b\b\b\b\b\b\b\b\b\b\b\b\b\b\b\b\b\b\b\b\b\b\b\b\b\b\b\b\b\b\b\b\b\b\b\b\r5/5 [==============================] - 1s 195ms/step - loss: 0.2107 - categorical_accuracy: 0.7906\n",
            "Epoch 194/200\n",
            "5/5 [==============================] - ETA: 0s - loss: 0.1961 - categorical_accuracy: 0.8031"
          ]
        },
        {
          "output_type": "stream",
          "name": "stderr",
          "text": [
            "WARNING:tensorflow:Can save best model only with val_loss available, skipping.\n"
          ]
        },
        {
          "output_type": "stream",
          "name": "stdout",
          "text": [
            "\b\b\b\b\b\b\b\b\b\b\b\b\b\b\b\b\b\b\b\b\b\b\b\b\b\b\b\b\b\b\b\b\b\b\b\b\b\b\b\b\b\b\b\b\b\b\b\b\b\b\b\b\b\b\b\b\b\b\b\b\b\b\b\b\b\b\b\b\b\b\b\b\b\b\b\b\b\b\b\b\b\b\b\b\b\b\b\b\b\b\b\b\r5/5 [==============================] - 1s 199ms/step - loss: 0.1961 - categorical_accuracy: 0.8031\n",
            "Epoch 195/200\n",
            "5/5 [==============================] - ETA: 0s - loss: 0.1499 - categorical_accuracy: 0.8500"
          ]
        },
        {
          "output_type": "stream",
          "name": "stderr",
          "text": [
            "WARNING:tensorflow:Can save best model only with val_loss available, skipping.\n"
          ]
        },
        {
          "output_type": "stream",
          "name": "stdout",
          "text": [
            "\b\b\b\b\b\b\b\b\b\b\b\b\b\b\b\b\b\b\b\b\b\b\b\b\b\b\b\b\b\b\b\b\b\b\b\b\b\b\b\b\b\b\b\b\b\b\b\b\b\b\b\b\b\b\b\b\b\b\b\b\b\b\b\b\b\b\b\b\b\b\b\b\b\b\b\b\b\b\b\b\b\b\b\b\b\b\b\b\b\b\b\b\r5/5 [==============================] - 1s 191ms/step - loss: 0.1499 - categorical_accuracy: 0.8500\n",
            "Epoch 196/200\n",
            "5/5 [==============================] - ETA: 0s - loss: 0.1865 - categorical_accuracy: 0.8094"
          ]
        },
        {
          "output_type": "stream",
          "name": "stderr",
          "text": [
            "WARNING:tensorflow:Can save best model only with val_loss available, skipping.\n"
          ]
        },
        {
          "output_type": "stream",
          "name": "stdout",
          "text": [
            "\b\b\b\b\b\b\b\b\b\b\b\b\b\b\b\b\b\b\b\b\b\b\b\b\b\b\b\b\b\b\b\b\b\b\b\b\b\b\b\b\b\b\b\b\b\b\b\b\b\b\b\b\b\b\b\b\b\b\b\b\b\b\b\b\b\b\b\b\b\b\b\b\b\b\b\b\b\b\b\b\b\b\b\b\b\b\b\b\b\b\b\b\r5/5 [==============================] - 1s 201ms/step - loss: 0.1865 - categorical_accuracy: 0.8094\n",
            "Epoch 197/200\n",
            "5/5 [==============================] - ETA: 0s - loss: 0.1588 - categorical_accuracy: 0.8438"
          ]
        },
        {
          "output_type": "stream",
          "name": "stderr",
          "text": [
            "WARNING:tensorflow:Can save best model only with val_loss available, skipping.\n"
          ]
        },
        {
          "output_type": "stream",
          "name": "stdout",
          "text": [
            "\b\b\b\b\b\b\b\b\b\b\b\b\b\b\b\b\b\b\b\b\b\b\b\b\b\b\b\b\b\b\b\b\b\b\b\b\b\b\b\b\b\b\b\b\b\b\b\b\b\b\b\b\b\b\b\b\b\b\b\b\b\b\b\b\b\b\b\b\b\b\b\b\b\b\b\b\b\b\b\b\b\b\b\b\b\b\b\b\b\b\b\b\r5/5 [==============================] - 1s 194ms/step - loss: 0.1588 - categorical_accuracy: 0.8438\n",
            "Epoch 198/200\n",
            "5/5 [==============================] - ETA: 0s - loss: 0.1893 - categorical_accuracy: 0.8125"
          ]
        },
        {
          "output_type": "stream",
          "name": "stderr",
          "text": [
            "WARNING:tensorflow:Can save best model only with val_loss available, skipping.\n"
          ]
        },
        {
          "output_type": "stream",
          "name": "stdout",
          "text": [
            "\b\b\b\b\b\b\b\b\b\b\b\b\b\b\b\b\b\b\b\b\b\b\b\b\b\b\b\b\b\b\b\b\b\b\b\b\b\b\b\b\b\b\b\b\b\b\b\b\b\b\b\b\b\b\b\b\b\b\b\b\b\b\b\b\b\b\b\b\b\b\b\b\b\b\b\b\b\b\b\b\b\b\b\b\b\b\b\b\b\b\b\b\r5/5 [==============================] - 1s 185ms/step - loss: 0.1893 - categorical_accuracy: 0.8125\n",
            "Epoch 199/200\n",
            "5/5 [==============================] - ETA: 0s - loss: 0.1838 - categorical_accuracy: 0.8156"
          ]
        },
        {
          "output_type": "stream",
          "name": "stderr",
          "text": [
            "WARNING:tensorflow:Can save best model only with val_loss available, skipping.\n"
          ]
        },
        {
          "output_type": "stream",
          "name": "stdout",
          "text": [
            "\b\b\b\b\b\b\b\b\b\b\b\b\b\b\b\b\b\b\b\b\b\b\b\b\b\b\b\b\b\b\b\b\b\b\b\b\b\b\b\b\b\b\b\b\b\b\b\b\b\b\b\b\b\b\b\b\b\b\b\b\b\b\b\b\b\b\b\b\b\b\b\b\b\b\b\b\b\b\b\b\b\b\b\b\b\b\b\b\b\b\b\b\r5/5 [==============================] - 1s 187ms/step - loss: 0.1838 - categorical_accuracy: 0.8156\n",
            "Epoch 200/200\n",
            "5/5 [==============================] - ETA: 0s - loss: 0.1953 - categorical_accuracy: 0.8062"
          ]
        },
        {
          "output_type": "stream",
          "name": "stderr",
          "text": [
            "WARNING:tensorflow:Can save best model only with val_loss available, skipping.\n"
          ]
        },
        {
          "output_type": "stream",
          "name": "stdout",
          "text": [
            "5/5 [==============================] - 1s 187ms/step - loss: 0.1953 - categorical_accuracy: 0.8062\n",
            "64/64 [==============================] - 0s 2ms/step\n",
            "2048 / 619256\n",
            "64/64 [==============================] - 0s 2ms/step\n",
            "4096 / 619256\n",
            "64/64 [==============================] - 0s 2ms/step\n",
            "6144 / 619256\n",
            "64/64 [==============================] - 0s 2ms/step\n",
            "8192 / 619256\n",
            "64/64 [==============================] - 0s 2ms/step\n",
            "10240 / 619256\n",
            "64/64 [==============================] - 0s 2ms/step\n",
            "12288 / 619256\n",
            "64/64 [==============================] - 0s 2ms/step\n",
            "14336 / 619256\n",
            "64/64 [==============================] - 0s 2ms/step\n",
            "16384 / 619256\n",
            "64/64 [==============================] - 0s 2ms/step\n",
            "18432 / 619256\n",
            "64/64 [==============================] - 0s 2ms/step\n",
            "20480 / 619256\n",
            "64/64 [==============================] - 0s 2ms/step\n",
            "22528 / 619256\n",
            "64/64 [==============================] - 0s 2ms/step\n",
            "24576 / 619256\n",
            "64/64 [==============================] - 0s 2ms/step\n",
            "26624 / 619256\n",
            "64/64 [==============================] - 0s 2ms/step\n",
            "28672 / 619256\n",
            "64/64 [==============================] - 0s 2ms/step\n",
            "30720 / 619256\n",
            "64/64 [==============================] - 0s 2ms/step\n",
            "32768 / 619256\n",
            "64/64 [==============================] - 0s 2ms/step\n",
            "34816 / 619256\n",
            "64/64 [==============================] - 0s 2ms/step\n",
            "36864 / 619256\n",
            "64/64 [==============================] - 0s 2ms/step\n",
            "38912 / 619256\n",
            "64/64 [==============================] - 0s 2ms/step\n",
            "40960 / 619256\n",
            "64/64 [==============================] - 0s 2ms/step\n",
            "43008 / 619256\n",
            "64/64 [==============================] - 0s 2ms/step\n",
            "45056 / 619256\n",
            "64/64 [==============================] - 0s 2ms/step\n",
            "47104 / 619256\n",
            "64/64 [==============================] - 0s 2ms/step\n",
            "49152 / 619256\n",
            "64/64 [==============================] - 0s 2ms/step\n",
            "51200 / 619256\n",
            "64/64 [==============================] - 0s 2ms/step\n",
            "53248 / 619256\n",
            "64/64 [==============================] - 0s 2ms/step\n",
            "55296 / 619256\n",
            "64/64 [==============================] - 0s 2ms/step\n",
            "57344 / 619256\n",
            "64/64 [==============================] - 0s 2ms/step\n",
            "59392 / 619256\n",
            "64/64 [==============================] - 0s 2ms/step\n",
            "61440 / 619256\n",
            "64/64 [==============================] - 0s 2ms/step\n",
            "63488 / 619256\n",
            "64/64 [==============================] - 0s 2ms/step\n",
            "65536 / 619256\n",
            "64/64 [==============================] - 0s 2ms/step\n",
            "67584 / 619256\n",
            "64/64 [==============================] - 0s 2ms/step\n",
            "69632 / 619256\n",
            "64/64 [==============================] - 0s 2ms/step\n",
            "71680 / 619256\n",
            "64/64 [==============================] - 0s 2ms/step\n",
            "73728 / 619256\n",
            "64/64 [==============================] - 0s 2ms/step\n",
            "75776 / 619256\n",
            "64/64 [==============================] - 0s 2ms/step\n",
            "77824 / 619256\n",
            "64/64 [==============================] - 0s 2ms/step\n",
            "79872 / 619256\n",
            "64/64 [==============================] - 0s 2ms/step\n",
            "81920 / 619256\n",
            "64/64 [==============================] - 0s 2ms/step\n",
            "83968 / 619256\n",
            "64/64 [==============================] - 0s 2ms/step\n",
            "86016 / 619256\n",
            "64/64 [==============================] - 0s 2ms/step\n"
          ]
        }
      ],
      "source": [
        "number = -1\n",
        "for project in list_project_names:\n",
        "  number+=1\n",
        "  project_name = project[0]\n",
        "  time_split = project[1]\n",
        "\n",
        "  # Model params\n",
        "  steps_per_epoch = project[2]\n",
        "  epochs = project[3]\n",
        "  batch_size = project[4]\n",
        "\n",
        "  # Load dataset\n",
        "  df, graph = load_project(project_name)\n",
        "\n",
        "  # Split data\n",
        "  createds, updateds = get_time_features(df)\n",
        "  train_nodes, test_nodes, all_nodes = split_data(createds, graph, time_split)\n",
        "\n",
        "  # Pairing\n",
        "  print('Pairing data!')\n",
        "  train_pairs, train_labels = get_pairs(graph, train_nodes, train_nodes)\n",
        "  test_pairs, test_labels = get_pairs(graph, test_nodes, all_nodes)\n",
        "\n",
        "  # Get features\n",
        "\n",
        "  for textual_features in list_chosen_textual_features:\n",
        "    all_textual_vectors = get_textual_features(df, textual_features)\n",
        "    value_maxlen = all_textual_vectors.shape[1]\n",
        "    for add_feature in list_add_features:\n",
        "      # Model\n",
        "      if add_feature!=None:\n",
        "        links_train, non_links_train, link_other_features, non_link_other_features = get_separated_data_pairs([train_pairs, train_labels, createds, updateds], add_feature)\n",
        "        train_other_features = np.concatenate([link_other_features, non_link_other_features])\n",
        "        mean = np.mean(train_other_features)\n",
        "        std = np.std(train_other_features)\n",
        "        link_other_features = np.array([(link_other_features[i]-mean)/std for i in range(0, len(links_train))])\n",
        "        non_link_other_features = np.array([(non_link_other_features[i]-mean)/std for i in range(0, len(non_links_train))])\n",
        "        data_test, labels_test, other_features = get_test_data([test_pairs, test_labels, createds, updateds], add_feature)\n",
        "        other_features = np.array([(other_features[i]-mean)/std for i in range(0, len(other_features))])\n",
        "      else:\n",
        "        links_train, non_links_train = get_separated_data_pairs([train_pairs, train_labels, createds, updateds], add_feature)\n",
        "        data_test, labels_test = get_test_data([test_pairs, test_labels, createds, updateds], add_feature)\n",
        "\n",
        "      if add_feature!=None:\n",
        "        del train_other_features\n",
        "        gc.collect()\n",
        "\n",
        "      result_path = f'{project_name}_Test_GloVe_CNN.txt'\n",
        "      param, lr, l = 256, 1e-3, dice_loss\n",
        "      f = open(result_path, \"a\")\n",
        "      listToStr = ' '.join([str(elem) for elem in textual_features])\n",
        "      listToStr = listToStr + ' ' + repr(add_feature)\n",
        "      f.write(listToStr)\n",
        "      f.write('\\n')\n",
        "      if add_feature!=None:\n",
        "        f.write('\\n')\n",
        "        f.write('mean = ' + repr(mean) + '\\n')\n",
        "        f.write('std = ' + repr(std) + '\\n')\n",
        "      f.close()\n",
        "\n",
        "      model = return_model([value_maxlen, param, lr, l], add_feature)\n",
        "\n",
        "      # Train model\n",
        "      model_path = project_name + '_GloVe_CNN_' + str(number) + str(lr) + str(l) + '.h5'\n",
        "      print('Training model...')\n",
        "      if add_feature == None:\n",
        "        history = train_model([steps_per_epoch, epochs, batch_size, add_feature], [model_path, value_maxlen, model, all_textual_vectors], [links_train, non_links_train, None, None])\n",
        "      else:\n",
        "        history = train_model([steps_per_epoch, epochs, batch_size, add_feature], [model_path, value_maxlen, model, all_textual_vectors], [links_train, non_links_train, link_other_features, non_link_other_features])\n",
        "\n",
        "      # summarize history for accuracy\n",
        "      plt.plot(history.history['categorical_accuracy'])\n",
        "      plt.title('model accuracy')\n",
        "      plt.ylabel('accuracy')\n",
        "      plt.xlabel('epoch')\n",
        "      plt.legend(['train', 'test'], loc='upper left')\n",
        "      plt.savefig(project_name + f\"_GloVe_CNN_\" + str(number) + str(l) + \"_accuracy.png\", dpi=1200)\n",
        "\n",
        "      # summarize history for loss\n",
        "      plt.plot(history.history['loss'])\n",
        "      plt.title('model loss')\n",
        "      plt.ylabel('loss')\n",
        "      plt.xlabel('epoch')\n",
        "      plt.legend(['train', 'test'], loc='upper left')\n",
        "      plt.savefig(project_name + \"_GloVe_CNN_\" + str(number) + str(l) + \"_loss.png\", dpi=1200)\n",
        "\n",
        "      # Test model\n",
        "      if add_feature!=None:\n",
        "        y_s, pred_s, pred_proba = model_predict([value_maxlen, model, all_textual_vectors], data_test, labels_test, other_features)\n",
        "      else:\n",
        "        y_s, pred_s, pred_proba = model_predict([value_maxlen, model, all_textual_vectors], data_test, labels_test, None)\n",
        "      evaluate(y_s, pred_s)\n",
        "      get_result(project_name, result_path, [createds, test_nodes, all_nodes, test_pairs, pred_proba])\n",
        "      np.savez(project_name + '_GloVe_CNN_' + str(number) + \"y\", y_s = y_s, pred_s = pred_s, pred_proba = pred_proba)\n",
        "\n",
        "      del y_s\n",
        "      del pred_s\n",
        "      del model\n",
        "      gc.collect()"
      ]
    }
  ],
  "metadata": {
    "accelerator": "GPU",
    "colab": {
      "machine_shape": "hm",
      "provenance": []
    },
    "kernelspec": {
      "display_name": "Python 3",
      "name": "python3"
    }
  },
  "nbformat": 4,
  "nbformat_minor": 0
}