{
  "nbformat": 4,
  "nbformat_minor": 0,
  "metadata": {
    "colab": {
      "name": "Preprocessing.ipynb",
      "provenance": [],
      "collapsed_sections": [],
      "machine_shape": "hm"
    },
    "kernelspec": {
      "display_name": "Python 3",
      "name": "python3"
    },
    "accelerator": "GPU"
  },
  "cells": [
    {
      "cell_type": "markdown",
      "metadata": {
        "id": "pbSuD_3JgzAk"
      },
      "source": [
        "# Library"
      ]
    },
    {
      "cell_type": "code",
      "metadata": {
        "colab": {
          "base_uri": "https://localhost:8080/"
        },
        "id": "VRiQVMhngzAm",
        "outputId": "c97922be-b31c-469f-88e3-30abefb9689b"
      },
      "source": [
        "from google.colab import drive\n",
        "drive.mount('/content/drive')"
      ],
      "execution_count": 1,
      "outputs": [
        {
          "output_type": "stream",
          "name": "stdout",
          "text": [
            "Drive already mounted at /content/drive; to attempt to forcibly remount, call drive.mount(\"/content/drive\", force_remount=True).\n"
          ]
        }
      ]
    },
    {
      "cell_type": "code",
      "metadata": {
        "id": "oA6TR9ongzAm"
      },
      "source": [
        "import pandas as pd\n",
        "import numpy as np\n",
        "from tqdm import tqdm\n",
        "import networkx as nx\n",
        "import random\n",
        "import tensorflow as tf\n",
        "import matplotlib.pyplot as plt\n",
        "import datetime\n",
        "import re\n",
        "import os\n",
        "import torch\n",
        "from bs4 import BeautifulSoup\n",
        "import warnings\n",
        "warnings.filterwarnings(\"ignore\")"
      ],
      "execution_count": 2,
      "outputs": []
    },
    {
      "cell_type": "code",
      "metadata": {
        "colab": {
          "base_uri": "https://localhost:8080/"
        },
        "id": "pWpVzsnpUrrN",
        "outputId": "608b0884-a48f-4046-85be-79bb509a4b65"
      },
      "source": [
        "cd /content/drive/MyDrive/AISIA/Jira recommendation/"
      ],
      "execution_count": 3,
      "outputs": [
        {
          "output_type": "stream",
          "name": "stdout",
          "text": [
            "/content/drive/MyDrive/AISIA/Jira recommendation\n"
          ]
        }
      ]
    },
    {
      "cell_type": "code",
      "metadata": {
        "colab": {
          "base_uri": "https://localhost:8080/"
        },
        "id": "EdKFO_NEIE4B",
        "outputId": "306fa314-e95d-4a35-e6d1-a88fa29a0301"
      },
      "source": [
        "!pip install html2text"
      ],
      "execution_count": 4,
      "outputs": [
        {
          "output_type": "stream",
          "name": "stdout",
          "text": [
            "Requirement already satisfied: html2text in /usr/local/lib/python3.7/dist-packages (2020.1.16)\n"
          ]
        }
      ]
    },
    {
      "cell_type": "markdown",
      "metadata": {
        "id": "MTlk8R4WfvUu"
      },
      "source": [
        "# Load dataset"
      ]
    },
    {
      "cell_type": "code",
      "metadata": {
        "id": "WUAyPH7y26Cc"
      },
      "source": [
        "def encode_graph(row):\n",
        "  new_row = []\n",
        "  for i in row:\n",
        "    if i==0:\n",
        "      new_row.append([1,0])\n",
        "    else:\n",
        "      new_row.append([0,1])\n",
        "  return new_row"
      ],
      "execution_count": 5,
      "outputs": []
    },
    {
      "cell_type": "code",
      "metadata": {
        "id": "MQldMf5tTPFt"
      },
      "source": [
        "def load_project(project_name):\n",
        "  # Attributes\n",
        "  df = pd.read_csv('data/{}/attribute.csv'.format(project_name))\n",
        "  df = df.fillna('')\n",
        "  # Graph\n",
        "  graph = pd.read_csv('data/{}/graph.csv'.format(project_name), delimiter=',')\n",
        "  graph = graph.apply(encode_graph)\n",
        "  graph = graph.values\n",
        "  return df, graph"
      ],
      "execution_count": 6,
      "outputs": []
    },
    {
      "cell_type": "code",
      "metadata": {
        "id": "c6AFhOV0OIQ-"
      },
      "source": [
        "def load_project_2(project_name):\n",
        "  # Attributes\n",
        "  df = pd.read_csv('data/{}/attribute_preprocess.csv'.format(project_name))\n",
        "  df = df.fillna('')\n",
        "  # Graph\n",
        "  graph = pd.read_csv('data/{}/graph.csv'.format(project_name), delimiter=',')\n",
        "  graph = graph.apply(encode_graph)\n",
        "  graph = graph.values\n",
        "  return df, graph"
      ],
      "execution_count": 7,
      "outputs": []
    },
    {
      "cell_type": "markdown",
      "metadata": {
        "id": "5IJWZgnEX7VV"
      },
      "source": [
        "## Preprocessing"
      ]
    },
    {
      "cell_type": "code",
      "metadata": {
        "colab": {
          "base_uri": "https://localhost:8080/"
        },
        "id": "I8GMqgZsXg9U",
        "outputId": "e4347bab-6831-4c87-9228-03c2802fbb66"
      },
      "source": [
        "# ---- from nltk.stem import LancasterStemmer\n",
        "import nltk\n",
        "nltk.download('wordnet')\n",
        "from nltk import word_tokenize\n",
        "nltk.download('punkt')\n",
        "\n",
        "from nltk.stem import WordNetLemmatizer\n",
        "\n",
        "wordnet_lemmatizer = WordNetLemmatizer()\n",
        "\n",
        "from nltk.corpus import stopwords\n",
        "nltk.download('stopwords')\n",
        "\n",
        "# Init stop_words list\n",
        "stop_words = set(stopwords.words('english')) \n",
        "stop_words.add('e.g')\n",
        "stop_words.add('i.e')\n",
        "stop_words.add('https')\n",
        "stop_words.add('http')\n",
        "stop_words.add('org')\n",
        "stop_words.add('www')\n",
        "stop_words.add('href')\n",
        "stop_words.remove('all')\n",
        "\n",
        "from bs4 import BeautifulSoup\n",
        "\n",
        "def stemmer_sentence(sentence):\n",
        "    result = []\n",
        "    for word in sentence.split(\" \"):\n",
        "        result.append(wordnet_lemmatizer.lemmatize(word))\n",
        "    return \" \".join(result)"
      ],
      "execution_count": 8,
      "outputs": [
        {
          "output_type": "stream",
          "name": "stdout",
          "text": [
            "[nltk_data] Downloading package wordnet to /root/nltk_data...\n",
            "[nltk_data]   Package wordnet is already up-to-date!\n",
            "[nltk_data] Downloading package punkt to /root/nltk_data...\n",
            "[nltk_data]   Package punkt is already up-to-date!\n",
            "[nltk_data] Downloading package stopwords to /root/nltk_data...\n",
            "[nltk_data]   Package stopwords is already up-to-date!\n"
          ]
        }
      ]
    },
    {
      "cell_type": "code",
      "metadata": {
        "id": "Eyrbd7TOxLH8"
      },
      "source": [
        "def remove_html(text):\n",
        "  soup = BeautifulSoup(text, 'html.parser')\n",
        "  return soup.get_text()\n",
        "\n",
        "def delete_number(text):\n",
        "  text = text.split()\n",
        "  text = [text[i] for i in range(len(text)) if not re.findall('\\d',text[i])]\n",
        "  text = [text[i] for i in range(len(text)) if len(text[i])>1]\n",
        "  text = \" \".join(text)\n",
        "  return text\n",
        "\n",
        "def get_links(text):\n",
        "  text = re.findall(r'(https?://\\S+)', text)\n",
        "  text = \" \".join(text)\n",
        "  text = text.replace('\"','')\n",
        "  text = text.replace(')','')\n",
        "  text = text.replace('(','')\n",
        "  text = text.replace(\"'\",'')\n",
        "  text = text.replace(\">\",'')\n",
        "  text = text.replace(\"<\",'')\n",
        "  text = text.replace(\",\",'')\n",
        "  text = text.replace(\"a\",'')\n",
        "  return text\n",
        "\n",
        "def remove_link(text):\n",
        "  links = re.findall(r'(https?://\\S+)', text)\n",
        "  links = '|'.join(links)\n",
        "  text = text.replace(links,'')\n",
        "  return text"
      ],
      "execution_count": 9,
      "outputs": []
    },
    {
      "cell_type": "code",
      "metadata": {
        "id": "mPT7rtOoI5IC"
      },
      "source": [
        "def preprocessing(df):\n",
        "  # Choose necessary features\n",
        "  columns = [\"title\", \"description\", \"summary\", \"key\", \"created\", \"updated\"]\n",
        "  processing_df = df.loc[:, columns]\n",
        "\n",
        "  # Lowercase all texts\n",
        "  processing_df[\"title\"] = processing_df[\"title\"].str.lower()\n",
        "  processing_df[\"description\"] = processing_df[\"description\"].str.lower()\n",
        "  processing_df[\"summary\"] = processing_df[\"summary\"].str.lower()\n",
        "  processing_df[\"key\"] = processing_df[\"key\"].str.lower()\n",
        "\n",
        "  # Get http links\n",
        "  processing_df[\"http_links\"] = processing_df[\"description\"].apply(get_links)\n",
        "  processing_df[\"description\"] = processing_df[\"description\"].apply(remove_link)\n",
        "\n",
        "  # Remove all number \n",
        "  processing_df[\"title\"] = processing_df[\"title\"].apply(delete_number)\n",
        "  processing_df[\"description\"] = processing_df[\"description\"].apply(delete_number)\n",
        "  processing_df[\"summary\"] = processing_df[\"summary\"].apply(delete_number)\n",
        "\n",
        "  # Remove html special elements\n",
        "  processing_df[\"http_links\"] = processing_df[\"http_links\"].apply(remove_html)\n",
        "  processing_df[\"description\"] = processing_df[\"description\"].apply(remove_html)\n",
        "\n",
        "  # Remove stopwords\n",
        "  pat = r'\\b(?:{})\\b'.format('|'.join(stop_words))\n",
        "  processing_df[\"title\"] = processing_df[\"title\"].str.replace(pat, '')\n",
        "  processing_df[\"description\"] = processing_df[\"description\"].str.replace(pat, '')\n",
        "  processing_df[\"summary\"] = processing_df[\"summary\"].str.replace(pat, '')\n",
        "\n",
        "  # Remove punctuation and space\n",
        "  processing_df[\"title\"] = processing_df[\"title\"].str.replace(\"[^\\w]\", \" \", regex=True).str.replace(\"[ ]+\", \" \", regex=True).str.strip()\n",
        "  processing_df[\"description\"] = processing_df[\"description\"].str.replace(\"[^\\w]\", \" \", regex=True).str.replace(\"[ ]+\", \" \", regex=True).str.strip()\n",
        "  processing_df[\"summary\"] = processing_df[\"summary\"].str.replace(\"[^\\w]\", \" \", regex=True).str.replace(\"[ ]+\", \" \", regex=True).str.strip()\n",
        "\n",
        "  # Stemming\n",
        "  processing_df[\"title\"] = processing_df[\"title\"].apply(stemmer_sentence)\n",
        "  processing_df[\"description\"] = processing_df[\"description\"].apply(stemmer_sentence)\n",
        "  processing_df[\"summary\"] = processing_df[\"summary\"].apply(stemmer_sentence)\n",
        "\n",
        "  return processing_df"
      ],
      "execution_count": 10,
      "outputs": []
    },
    {
      "cell_type": "markdown",
      "metadata": {
        "id": "iGz_8fHlakev"
      },
      "source": [
        "# Main program"
      ]
    },
    {
      "cell_type": "code",
      "metadata": {
        "colab": {
          "base_uri": "https://localhost:8080/",
          "height": 470
        },
        "id": "RQeLL14GNnOL",
        "outputId": "8e21c0c6-18ae-43c0-e108-26a8519bff77"
      },
      "source": [
        "list_project_names = ['FLUME','MDLSITE']\n",
        "for project_name in list_project_names:\n",
        "  # Load dataset\n",
        "  df_1, graph = load_project(project_name)\n",
        "\n",
        "  # Preprocessing\n",
        "  df = preprocessing(df_1)\n",
        "  display(df.head())\n",
        "  df.to_csv('data/{}/attribute_preprocess.csv'.format(project_name))"
      ],
      "execution_count": 11,
      "outputs": [
        {
          "output_type": "display_data",
          "data": {
            "text/html": [
              "<div>\n",
              "<style scoped>\n",
              "    .dataframe tbody tr th:only-of-type {\n",
              "        vertical-align: middle;\n",
              "    }\n",
              "\n",
              "    .dataframe tbody tr th {\n",
              "        vertical-align: top;\n",
              "    }\n",
              "\n",
              "    .dataframe thead th {\n",
              "        text-align: right;\n",
              "    }\n",
              "</style>\n",
              "<table border=\"1\" class=\"dataframe\">\n",
              "  <thead>\n",
              "    <tr style=\"text-align: right;\">\n",
              "      <th></th>\n",
              "      <th>title</th>\n",
              "      <th>description</th>\n",
              "      <th>summary</th>\n",
              "      <th>key</th>\n",
              "      <th>created</th>\n",
              "      <th>updated</th>\n",
              "      <th>http_links</th>\n",
              "    </tr>\n",
              "  </thead>\n",
              "  <tbody>\n",
              "    <tr>\n",
              "      <th>0</th>\n",
              "      <td>jsp web page title tag set</td>\n",
              "      <td>webapps jsp title tag set updated give informa...</td>\n",
              "      <td>jsp web page title tag set</td>\n",
              "      <td>flume-1</td>\n",
              "      <td>2010-06-29 02:44:45</td>\n",
              "      <td>2010-12-13 14:38:01</td>\n",
              "      <td></td>\n",
              "    </tr>\n",
              "    <tr>\n",
              "      <th>1</th>\n",
              "      <td>flume node tail source report error go error s...</td>\n",
              "      <td>rpm install run user flume file var log messag...</td>\n",
              "      <td>flume node tail source report error go error s...</td>\n",
              "      <td>flume-2</td>\n",
              "      <td>2010-06-29 23:29:38</td>\n",
              "      <td>2010-12-13 14:37:45</td>\n",
              "      <td></td>\n",
              "    </tr>\n",
              "    <tr>\n",
              "      <th>2</th>\n",
              "      <td>ant failed due old thrift jar</td>\n",
              "      <td>ant default task failed complete compilation n...</td>\n",
              "      <td>ant failed due old thrift jar</td>\n",
              "      <td>flume-3</td>\n",
              "      <td>2010-06-30 01:33:04</td>\n",
              "      <td>2010-12-13 14:37:48</td>\n",
              "      <td></td>\n",
              "    </tr>\n",
              "    <tr>\n",
              "      <th>3</th>\n",
              "      <td>testconcurrentdfoman test logicalnodes fails i...</td>\n",
              "      <td>see trace belows logical node would checked em...</td>\n",
              "      <td>testconcurrentdfoman test logicalnodes fails i...</td>\n",
              "      <td>flume-4</td>\n",
              "      <td>2010-06-30 07:34:00</td>\n",
              "      <td>2010-12-13 14:37:58</td>\n",
              "      <td></td>\n",
              "    </tr>\n",
              "    <tr>\n",
              "      <th>4</th>\n",
              "      <td>add post sink</td>\n",
              "      <td>web dashboard useful flume fire post event dat...</td>\n",
              "      <td>add post sink</td>\n",
              "      <td>flume-5</td>\n",
              "      <td>2010-06-30 08:36:01</td>\n",
              "      <td>2014-11-05 07:03:46</td>\n",
              "      <td></td>\n",
              "    </tr>\n",
              "  </tbody>\n",
              "</table>\n",
              "</div>"
            ],
            "text/plain": [
              "                                               title  ... http_links\n",
              "0                         jsp web page title tag set  ...           \n",
              "1  flume node tail source report error go error s...  ...           \n",
              "2                      ant failed due old thrift jar  ...           \n",
              "3  testconcurrentdfoman test logicalnodes fails i...  ...           \n",
              "4                                      add post sink  ...           \n",
              "\n",
              "[5 rows x 7 columns]"
            ]
          },
          "metadata": {}
        },
        {
          "output_type": "display_data",
          "data": {
            "text/html": [
              "<div>\n",
              "<style scoped>\n",
              "    .dataframe tbody tr th:only-of-type {\n",
              "        vertical-align: middle;\n",
              "    }\n",
              "\n",
              "    .dataframe tbody tr th {\n",
              "        vertical-align: top;\n",
              "    }\n",
              "\n",
              "    .dataframe thead th {\n",
              "        text-align: right;\n",
              "    }\n",
              "</style>\n",
              "<table border=\"1\" class=\"dataframe\">\n",
              "  <thead>\n",
              "    <tr style=\"text-align: right;\">\n",
              "      <th></th>\n",
              "      <th>title</th>\n",
              "      <th>description</th>\n",
              "      <th>summary</th>\n",
              "      <th>key</th>\n",
              "      <th>created</th>\n",
              "      <th>updated</th>\n",
              "      <th>http_links</th>\n",
              "    </tr>\n",
              "  </thead>\n",
              "  <tbody>\n",
              "    <tr>\n",
              "      <th>0</th>\n",
              "      <td>discussion forum scheduler module</td>\n",
              "      <td>martin could get discussion forum scheduler mo...</td>\n",
              "      <td>discussion forum scheduler module</td>\n",
              "      <td>mdlsite-360</td>\n",
              "      <td>2005-08-27 10:22:52</td>\n",
              "      <td>2013-11-25 15:53:17</td>\n",
              "      <td></td>\n",
              "    </tr>\n",
              "    <tr>\n",
              "      <th>1</th>\n",
              "      <td>add email obfuscation moodle doc</td>\n",
              "      <td>rather writing doc moodle dot would nice mailt...</td>\n",
              "      <td>add email obfuscation moodle doc</td>\n",
              "      <td>mdlsite-129</td>\n",
              "      <td>2006-03-01 03:50:52</td>\n",
              "      <td>2007-06-02 07:38:53</td>\n",
              "      <td></td>\n",
              "    </tr>\n",
              "    <tr>\n",
              "      <th>2</th>\n",
              "      <td>moodle doc wiki seach short word like faq</td>\n",
              "      <td>search faq doc moodle wiki return result note ...</td>\n",
              "      <td>moodle doc wiki seach short word like faq</td>\n",
              "      <td>mdlsite-32</td>\n",
              "      <td>2006-03-30 08:20:08</td>\n",
              "      <td>2008-10-02 23:37:23</td>\n",
              "      <td>http://mil.wikipedi.org/pipermil/mediwiki-l/20...</td>\n",
              "    </tr>\n",
              "    <tr>\n",
              "      <th>3</th>\n",
              "      <td>google site map information moodle</td>\n",
              "      <td>google provides lot information site admins tu...</td>\n",
              "      <td>google site map information moodle</td>\n",
              "      <td>mdlsite-1781</td>\n",
              "      <td>2006-04-29 02:43:31</td>\n",
              "      <td>2012-05-15 07:07:13</td>\n",
              "      <td>http://www.google.com/webmsters/sitemps/ http:...</td>\n",
              "    </tr>\n",
              "    <tr>\n",
              "      <th>4</th>\n",
              "      <td>add date field plugins database module</td>\n",
              "      <td>would helpful database moodle plugins moodle i...</td>\n",
              "      <td>add date field plugins database module</td>\n",
              "      <td>mdl-6395</td>\n",
              "      <td>2006-06-16 09:11:46</td>\n",
              "      <td>2015-10-08 18:30:25</td>\n",
              "      <td></td>\n",
              "    </tr>\n",
              "  </tbody>\n",
              "</table>\n",
              "</div>"
            ],
            "text/plain": [
              "                                       title  ...                                         http_links\n",
              "0          discussion forum scheduler module  ...                                                   \n",
              "1           add email obfuscation moodle doc  ...                                                   \n",
              "2  moodle doc wiki seach short word like faq  ...  http://mil.wikipedi.org/pipermil/mediwiki-l/20...\n",
              "3         google site map information moodle  ...  http://www.google.com/webmsters/sitemps/ http:...\n",
              "4     add date field plugins database module  ...                                                   \n",
              "\n",
              "[5 rows x 7 columns]"
            ]
          },
          "metadata": {}
        }
      ]
    }
  ]
}